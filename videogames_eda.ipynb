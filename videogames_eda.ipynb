{
 "cells": [
  {
   "cell_type": "markdown",
   "metadata": {},
   "source": [
    "# Análisis exploratorio avanzado (EDA)"
   ]
  },
  {
   "cell_type": "code",
   "execution_count": 1,
   "metadata": {},
   "outputs": [],
   "source": [
    "import pandas as pd\n",
    "import numpy as np\n",
    "import seaborn as sns\n",
    "import matplotlib.pyplot as plt\n",
    "import plotly.express as px\n",
    "from wordcloud import WordCloud\n",
    "from nltk.tokenize import word_tokenize\n",
    "from nltk.corpus import stopwords\n",
    "from sklearn.feature_extraction.text import TfidfVectorizer, CountVectorizer\n",
    "import re\n"
   ]
  },
  {
   "cell_type": "code",
   "execution_count": 2,
   "metadata": {},
   "outputs": [],
   "source": [
    "videogames_data = pd.read_csv('data/videogames_processed.csv')"
   ]
  },
  {
   "cell_type": "code",
   "execution_count": 3,
   "metadata": {},
   "outputs": [
    {
     "data": {
      "text/html": [
       "<div>\n",
       "<style scoped>\n",
       "    .dataframe tbody tr th:only-of-type {\n",
       "        vertical-align: middle;\n",
       "    }\n",
       "\n",
       "    .dataframe tbody tr th {\n",
       "        vertical-align: top;\n",
       "    }\n",
       "\n",
       "    .dataframe thead th {\n",
       "        text-align: right;\n",
       "    }\n",
       "</style>\n",
       "<table border=\"1\" class=\"dataframe\">\n",
       "  <thead>\n",
       "    <tr style=\"text-align: right;\">\n",
       "      <th></th>\n",
       "      <th>appid</th>\n",
       "      <th>name</th>\n",
       "      <th>developer</th>\n",
       "      <th>publisher</th>\n",
       "      <th>positive</th>\n",
       "      <th>negative</th>\n",
       "      <th>owners</th>\n",
       "      <th>average_forever</th>\n",
       "      <th>median_forever</th>\n",
       "      <th>price</th>\n",
       "      <th>initialprice</th>\n",
       "      <th>languages</th>\n",
       "      <th>release_date</th>\n",
       "      <th>owners_min</th>\n",
       "      <th>owners_max</th>\n",
       "      <th>owners_min_text</th>\n",
       "      <th>owners_max_text</th>\n",
       "    </tr>\n",
       "  </thead>\n",
       "  <tbody>\n",
       "    <tr>\n",
       "      <th>0</th>\n",
       "      <td>570</td>\n",
       "      <td>dota 2</td>\n",
       "      <td>Valve</td>\n",
       "      <td>Valve</td>\n",
       "      <td>1777245</td>\n",
       "      <td>389764</td>\n",
       "      <td>200,000,000 .. 500,000,000</td>\n",
       "      <td>39211</td>\n",
       "      <td>822</td>\n",
       "      <td>0.00</td>\n",
       "      <td>0.00</td>\n",
       "      <td>573082</td>\n",
       "      <td>2013-07-09</td>\n",
       "      <td>200000000</td>\n",
       "      <td>500000000</td>\n",
       "      <td>200M</td>\n",
       "      <td>500M</td>\n",
       "    </tr>\n",
       "    <tr>\n",
       "      <th>1</th>\n",
       "      <td>730</td>\n",
       "      <td>counter-strike: global offensive</td>\n",
       "      <td>Valve</td>\n",
       "      <td>Valve</td>\n",
       "      <td>6892618</td>\n",
       "      <td>982541</td>\n",
       "      <td>100,000,000 .. 200,000,000</td>\n",
       "      <td>29752</td>\n",
       "      <td>5360</td>\n",
       "      <td>0.00</td>\n",
       "      <td>0.00</td>\n",
       "      <td>1086164</td>\n",
       "      <td>2012-08-21</td>\n",
       "      <td>100000000</td>\n",
       "      <td>200000000</td>\n",
       "      <td>100M</td>\n",
       "      <td>200M</td>\n",
       "    </tr>\n",
       "    <tr>\n",
       "      <th>2</th>\n",
       "      <td>578080</td>\n",
       "      <td>pubg: battlegrounds</td>\n",
       "      <td>KRAFTON, Inc.</td>\n",
       "      <td>KRAFTON, Inc.</td>\n",
       "      <td>1333940</td>\n",
       "      <td>965634</td>\n",
       "      <td>50,000,000 .. 100,000,000</td>\n",
       "      <td>24257</td>\n",
       "      <td>6344</td>\n",
       "      <td>0.00</td>\n",
       "      <td>0.00</td>\n",
       "      <td>490082</td>\n",
       "      <td>2017-12-21</td>\n",
       "      <td>50000000</td>\n",
       "      <td>100000000</td>\n",
       "      <td>50M</td>\n",
       "      <td>100M</td>\n",
       "    </tr>\n",
       "    <tr>\n",
       "      <th>3</th>\n",
       "      <td>1063730</td>\n",
       "      <td>new world</td>\n",
       "      <td>Amazon Games</td>\n",
       "      <td>Amazon Games</td>\n",
       "      <td>191896</td>\n",
       "      <td>80619</td>\n",
       "      <td>50,000,000 .. 100,000,000</td>\n",
       "      <td>10660</td>\n",
       "      <td>3893</td>\n",
       "      <td>37.19</td>\n",
       "      <td>37.19</td>\n",
       "      <td>12707</td>\n",
       "      <td>2021-09-28</td>\n",
       "      <td>50000000</td>\n",
       "      <td>100000000</td>\n",
       "      <td>50M</td>\n",
       "      <td>100M</td>\n",
       "    </tr>\n",
       "    <tr>\n",
       "      <th>4</th>\n",
       "      <td>440</td>\n",
       "      <td>team fortress 2</td>\n",
       "      <td>Valve</td>\n",
       "      <td>Valve</td>\n",
       "      <td>964115</td>\n",
       "      <td>62958</td>\n",
       "      <td>50,000,000 .. 100,000,000</td>\n",
       "      <td>7732</td>\n",
       "      <td>319</td>\n",
       "      <td>0.00</td>\n",
       "      <td>0.00</td>\n",
       "      <td>85168</td>\n",
       "      <td>2007-10-10</td>\n",
       "      <td>50000000</td>\n",
       "      <td>100000000</td>\n",
       "      <td>50M</td>\n",
       "      <td>100M</td>\n",
       "    </tr>\n",
       "  </tbody>\n",
       "</table>\n",
       "</div>"
      ],
      "text/plain": [
       "     appid                              name      developer      publisher  \\\n",
       "0      570                            dota 2          Valve          Valve   \n",
       "1      730  counter-strike: global offensive          Valve          Valve   \n",
       "2   578080               pubg: battlegrounds  KRAFTON, Inc.  KRAFTON, Inc.   \n",
       "3  1063730                         new world   Amazon Games   Amazon Games   \n",
       "4      440                   team fortress 2          Valve          Valve   \n",
       "\n",
       "   positive  negative                      owners  average_forever  \\\n",
       "0   1777245    389764  200,000,000 .. 500,000,000            39211   \n",
       "1   6892618    982541  100,000,000 .. 200,000,000            29752   \n",
       "2   1333940    965634   50,000,000 .. 100,000,000            24257   \n",
       "3    191896     80619   50,000,000 .. 100,000,000            10660   \n",
       "4    964115     62958   50,000,000 .. 100,000,000             7732   \n",
       "\n",
       "   median_forever  price  initialprice  languages release_date  owners_min  \\\n",
       "0             822   0.00          0.00     573082   2013-07-09   200000000   \n",
       "1            5360   0.00          0.00    1086164   2012-08-21   100000000   \n",
       "2            6344   0.00          0.00     490082   2017-12-21    50000000   \n",
       "3            3893  37.19         37.19      12707   2021-09-28    50000000   \n",
       "4             319   0.00          0.00      85168   2007-10-10    50000000   \n",
       "\n",
       "   owners_max owners_min_text owners_max_text  \n",
       "0   500000000            200M            500M  \n",
       "1   200000000            100M            200M  \n",
       "2   100000000             50M            100M  \n",
       "3   100000000             50M            100M  \n",
       "4   100000000             50M            100M  "
      ]
     },
     "execution_count": 3,
     "metadata": {},
     "output_type": "execute_result"
    }
   ],
   "source": [
    "videogames_data.head(5)"
   ]
  },
  {
   "cell_type": "code",
   "execution_count": 230,
   "metadata": {},
   "outputs": [
    {
     "data": {
      "image/png": "[encoded data removed]",
      "text/plain": [
       "<Figure size 1500x1000 with 6 Axes>"
      ]
     },
     "metadata": {},
     "output_type": "display_data"
    }
   ],
   "source": [
    "# Columnas de interés para revisar outliers\n",
    "columns_to_check = ['positive', 'negative', 'average_forever', 'price', 'owners_min', 'owners_max']\n",
    "\n",
    "# Figura y conjunto de subplots\n",
    "fig, axes = plt.subplots(nrows=3, ncols=2, figsize=(15, 10))\n",
    "\n",
    "# Aplanar el array de axes para facilitar su acceso\n",
    "axes = axes.flatten()\n",
    "\n",
    "for i, column in enumerate(columns_to_check):\n",
    "    sns.boxplot(x=videogames_data[column], ax=axes[i])\n",
    "    axes[i].set_title(f'Boxplot de {column}', fontsize=14)\n",
    "    axes[i].set_xlabel(column, fontsize=12)\n",
    "\n",
    "plt.tight_layout()\n",
    "plt.show()\n",
    "\n"
   ]
  },
  {
   "cell_type": "markdown",
   "metadata": {},
   "source": [
    "Comprobamos los outliers y vemos que representan datos válidos."
   ]
  },
  {
   "cell_type": "code",
   "execution_count": 231,
   "metadata": {},
   "outputs": [
    {
     "name": "stderr",
     "output_type": "stream",
     "text": [
      "C:\\Users\\David\\AppData\\Local\\Temp\\ipykernel_15892\\1618990790.py:2: FutureWarning:\n",
      "\n",
      "The default value of numeric_only in DataFrame.corr is deprecated. In a future version, it will default to False. Select only valid columns or specify the value of numeric_only to silence this warning.\n",
      "\n"
     ]
    },
    {
     "data": {
      "image/png": "[encoded data removed]",
      "text/plain": [
       "<Figure size 1200x1000 with 2 Axes>"
      ]
     },
     "metadata": {},
     "output_type": "display_data"
    }
   ],
   "source": [
    "# Calcular la matriz de correlación\n",
    "correlation_matrix = videogames_data.corr(method=\"pearson\")\n",
    "\n",
    "mask = np.triu(np.ones_like(correlation_matrix, dtype=bool))\n",
    "\n",
    "# Dibujar el gráfico de calor de la matriz de correlación\n",
    "plt.figure(figsize=(12, 10))\n",
    "\n",
    "# Generate a custom diverging colormap\n",
    "cmap = sns.diverging_palette(220, 10, as_cmap=True)\n",
    "\n",
    "sns.heatmap(correlation_matrix, annot=True, fmt=\".2f\", mask=mask, cmap=cmap, cbar=True)\n",
    "plt.title(\"Matriz de Correlación de Videojuegos\")\n",
    "plt.show()"
   ]
  },
  {
   "cell_type": "markdown",
   "metadata": {},
   "source": [
    "Observamos fuertes correlaciones entre 'owners_min' y 'owners_max', 'price' y 'initialprice', 'negative' y 'positive', lo cual tiene sentido ya que estas variables están directamente relacionadas"
   ]
  },
  {
   "cell_type": "code",
   "execution_count": 232,
   "metadata": {},
   "outputs": [
    {
     "data": {
      "application/vnd.plotly.v1+json": {
       "config": {
        "plotlyServerURL": "https://plot.ly"
       },
       "data": [
        {
         "customdata": [
          [
           "dota 2",
           0
          ],
          [
           "counter-strike: global offensive",
           0
          ],
          [
           "pubg: battlegrounds",
           0
          ],
          [
           "new world",
           37.19
          ],
          [
           "team fortress 2",
           0
          ],
          [
           "apex legends",
           0
          ],
          [
           "grand theft auto v",
           18.41
          ],
          [
           "call of duty: modern warfare ii",
           45.56
          ],
          [
           "left 4 dead 2",
           9.29
          ],
          [
           "lost ark",
           0
          ],
          [
           "unturned",
           0
          ],
          [
           "rust",
           37.19
          ],
          [
           "rust",
           37.19
          ],
          [
           "warframe",
           0
          ],
          [
           "palworld",
           27.89
          ],
          [
           "war thunder",
           0
          ],
          [
           "elden ring",
           55.79
          ],
          [
           "terraria",
           9.29
          ],
          [
           "brawlhalla",
           0
          ],
          [
           "tom clancy's rainbow six siege",
           18.59
          ],
          [
           "garry's mod",
           9.29
          ],
          [
           "baldur's gate 3",
           55.79
          ],
          [
           "destiny 2",
           0
          ],
          [
           "wallpaper engine",
           3.71
          ],
          [
           "half-life 2: lost coast",
           0
          ],
          [
           "ark: survival evolved",
           13.94
          ],
          [
           "among us",
           4.64
          ],
          [
           "grand theft auto iv: complete edition",
           0
          ],
          [
           "payday 2",
           9.29
          ],
          [
           "valheim",
           18.59
          ],
          [
           "cyberpunk 2077",
           55.79
          ],
          [
           "path of exile",
           0
          ],
          [
           "the forest",
           18.59
          ],
          [
           "don't starve together",
           13.94
          ],
          [
           "fall guys: ultimate knockout",
           0
          ],
          [
           "dead by daylight",
           7.43
          ],
          [
           "warface",
           0
          ],
          [
           "the witcher 3: wild hunt",
           37.19
          ],
          [
           "paladins",
           0
          ],
          [
           "counter-strike",
           9.29
          ],
          [
           "serena",
           0
          ],
          [
           "euro truck simulator 2",
           18.59
          ],
          [
           "vrchat",
           0
          ],
          [
           "world of warships",
           0
          ],
          [
           "halo infinite",
           0
          ],
          [
           "phasmophobia",
           13.01
          ],
          [
           "rocket league",
           0
          ],
          [
           "鬼谷八荒 tale of immortal",
           18.59
          ],
          [
           "portal 2",
           9.29
          ],
          [
           "hogwarts legacy",
           33.47
          ],
          [
           "half-life 2: deathmatch",
           4.64
          ],
          [
           "battlefield 2042",
           11.15
          ],
          [
           "smite",
           0
          ],
          [
           "counter-strike: source",
           9.29
          ],
          [
           "ring of elysium",
           0
          ],
          [
           "monster hunter: world",
           27.89
          ],
          [
           "naraka: bladepoint",
           0
          ],
          [
           "black squad",
           0
          ],
          [
           "world of tanks blitz",
           0
          ],
          [
           "robocraft",
           0
          ],
          [
           "lethal company",
           9.29
          ],
          [
           "raft",
           18.59
          ],
          [
           "trove",
           0
          ],
          [
           "project zomboid",
           18.59
          ],
          [
           "half-life",
           9.29
          ],
          [
           "7 days to die",
           23.24
          ],
          [
           "the sims 4",
           0
          ],
          [
           "portal",
           9.29
          ],
          [
           "z1 battle royale",
           0
          ],
          [
           "street warriors online",
           1.85
          ],
          [
           "red dead redemption 2",
           55.79
          ],
          [
           "mount & blade ii: bannerlord",
           46.49
          ],
          [
           "the binding of isaac: rebirth",
           13.94
          ],
          [
           "sid meier's civilization v",
           27.89
          ],
          [
           "sekiro: shadows die twice - goty edition",
           55.79
          ],
          [
           "life is strange 2",
           29.72
          ],
          [
           "planetside 2",
           0
          ],
          [
           "ea sports fifa 23",
           0
          ],
          [
           "ricochet",
           4.64
          ],
          [
           "the elder scrolls v: skyrim",
           18.59
          ],
          [
           "cities: skylines",
           27.89
          ],
          [
           "fallout 4",
           6.13
          ],
          [
           "the tiny bang story",
           4.64
          ],
          [
           "arma 3",
           27.89
          ],
          [
           "borderlands 2",
           18.59
          ],
          [
           "castle crashers",
           13.94
          ],
          [
           "nba 2k20",
           0
          ],
          [
           "counter-strike: condition zero",
           9.29
          ],
          [
           "dota underlords",
           0
          ],
          [
           "dying light",
           27.89
          ],
          [
           "no more room in hell",
           0
          ],
          [
           "minion masters",
           0
          ],
          [
           "day of defeat: source",
           9.29
          ],
          [
           "dayz",
           41.84
          ],
          [
           "tomb raider",
           6.97
          ],
          [
           "sons of the forest",
           27.89
          ],
          [
           "kathy rain",
           9.29
          ],
          [
           "guacamelee! super turbo championship edition",
           13.94
          ],
          [
           "battlefield v",
           3.71
          ],
          [
           "risk of rain 2",
           11.62
          ],
          [
           "a story about my uncle",
           13.94
          ],
          [
           "deathmatch classic",
           4.64
          ],
          [
           "half-life 2",
           9.29
          ],
          [
           "sid meier’s civilization vi",
           55.79
          ],
          [
           "geometry dash",
           3.71
          ],
          [
           "the elder scrolls v: skyrim special edition",
           9.29
          ],
          [
           "dirty bomb",
           0
          ],
          [
           "dark souls iii",
           55.79
          ],
          [
           "stardew valley",
           13.94
          ],
          [
           "fallout shelter",
           0
          ],
          [
           "hearts of iron iv",
           37.19
          ],
          [
           "factorio",
           32.55
          ],
          [
           "hunt: showdown",
           37.19
          ],
          [
           "call of duty: modern warfare 2 (2009)",
           13.94
          ],
          [
           "scrap mechanic",
           18.59
          ],
          [
           "halo: the master chief collection",
           9.29
          ],
          [
           "call of duty: black ops iii",
           18.4
          ],
          [
           "tom clancy’s the division",
           27.89
          ],
          [
           "fallout: new vegas",
           2.32
          ],
          [
           "sea of thieves 2023 edition",
           37.19
          ],
          [
           "evolve stage 2",
           0
          ],
          [
           "resident evil 2",
           37.19
          ],
          [
           "call of duty 2",
           13.94
          ],
          [
           "kurtzpel",
           0
          ],
          [
           "half-life deathmatch: source",
           9.29
          ],
          [
           "scp: secret laboratory",
           0
          ],
          [
           "world of tanks",
           0
          ],
          [
           "day of defeat",
           4.64
          ],
          [
           "chivalry: medieval warfare",
           23.24
          ],
          [
           "europa universalis iv",
           37.19
          ],
          [
           "clicker heroes",
           0
          ],
          [
           "team fortress classic",
           4.64
          ],
          [
           "thehunter classic",
           0
          ],
          [
           "sven co-op",
           0
          ],
          [
           "realm royale",
           0
          ],
          [
           "vampire survivors",
           4.64
          ],
          [
           "life is strange - episode 1",
           0
          ],
          [
           "no man's sky",
           55.79
          ],
          [
           "half-life: blue shift",
           4.64
          ],
          [
           "battleblock theater",
           13.94
          ],
          [
           "subnautica",
           9.2
          ],
          [
           "grand theft auto iv: the complete edition",
           18.59
          ],
          [
           "grand theft auto: san andreas",
           0
          ],
          [
           "half-life 2: episode two",
           7.43
          ],
          [
           "neverwinter",
           0
          ],
          [
           "company of heroes 2",
           18.59
          ],
          [
           "xcom 2",
           55.79
          ],
          [
           "it takes two",
           9.29
          ],
          [
           "star wars: the old republic",
           0
          ],
          [
           "monster hunter rise",
           37.19
          ],
          [
           "human fall flat",
           18.59
          ],
          [
           "beamng.drive",
           23.24
          ],
          [
           "resident evil 4",
           55.79
          ],
          [
           "satisfactory",
           27.89
          ],
          [
           "mordhau",
           27.89
          ],
          [
           "prison architect",
           27.89
          ],
          [
           "hades",
           23.24
          ],
          [
           "multiversus",
           0
          ],
          [
           "splitgate: arena warfare",
           0
          ],
          [
           "adventure capitalist",
           0
          ],
          [
           "slay the spire",
           23.24
          ],
          [
           "hitman 2",
           0
          ],
          [
           "left 4 dead",
           9.29
          ],
          [
           "football manager 2020",
           0
          ],
          [
           "assassin’s creed iv black flag",
           37.19
          ],
          [
           "devil may cry 5",
           27.89
          ],
          [
           "counter-strike nexon: studio",
           0
          ],
          [
           "assetto corsa",
           4.64
          ],
          [
           "raceroom racing experience",
           0
          ],
          [
           "dead cells",
           23.24
          ],
          [
           "cry of fear",
           0
          ],
          [
           "business tour - board game with online multiplayer",
           0
          ],
          [
           "postal",
           63.19
          ],
          [
           "middle-earth: shadow of mordor",
           9.29
          ],
          [
           "loadout",
           0
          ],
          [
           "starfield",
           65.09
          ],
          [
           "the cycle",
           0
          ],
          [
           "total war: three kingdoms",
           18.96
          ],
          [
           "plants vs. zombies goty edition",
           4.64
          ],
          [
           "cuphead",
           18.59
          ],
          [
           "apb reloaded",
           0
          ],
          [
           "freestyle 2: street basketball",
           0
          ],
          [
           "people playground",
           9.29
          ],
          [
           "braveland",
           9.29
          ],
          [
           "doom eternal",
           37.19
          ],
          [
           "god of war",
           23.24
          ],
          [
           "scum",
           18.59
          ],
          [
           "divinity: original sin 2 - definitive edition",
           41.84
          ],
          [
           "saints row iv: re-elected",
           18.59
          ],
          [
           "star wars battlefront ii (classic, 2005)",
           3.25
          ],
          [
           "dying light 2 stay human",
           55.79
          ],
          [
           "mount & blade: warband",
           18.59
          ],
          [
           "stray",
           27.89
          ],
          [
           "rimworld",
           32.54
          ],
          [
           "titanfall 2",
           4.18
          ],
          [
           "conan exiles",
           37.19
          ],
          [
           "undertale",
           9.29
          ],
          [
           "divide by sheep",
           4.64
          ],
          [
           "outlast",
           18.59
          ],
          [
           "starbound",
           13.94
          ],
          [
           "just cause 3",
           18.59
          ],
          [
           "blender",
           0
          ],
          [
           "warhammer: vermintide 2",
           27.89
          ],
          [
           "oddworld: abe's oddysee",
           2.78
          ],
          [
           "realm of the mad god exalt",
           0
          ],
          [
           "just cause 2",
           13.94
          ],
          [
           "killing floor",
           18.59
          ],
          [
           "magicka",
           9.29
          ],
          [
           "rise of the tomb raider",
           5.57
          ],
          [
           "alien swarm",
           0
          ],
          [
           "northgard",
           27.89
          ],
          [
           "eternal return: black survival",
           0
          ],
          [
           "age of empires ii (retired)",
           18.59
          ],
          [
           "forza horizon 5",
           55.79
          ],
          [
           "amnesia: the dark descent",
           18.59
          ],
          [
           "dcs world steam edition",
           0
          ],
          [
           "survarium",
           0
          ],
          [
           "darkest dungeon",
           4.64
          ],
          [
           "insurgency",
           13.94
          ],
          [
           "tabletop simulator",
           18.59
          ],
          [
           "battlerite",
           0
          ],
          [
           "deep rock galactic",
           27.89
          ],
          [
           "fishing planet",
           0
          ],
          [
           "the witcher 2: assassins of kings enhanced edition",
           18.59
          ],
          [
           "call of duty: modern warfare 3 (2011)",
           18.59
          ],
          [
           "warhammer 40,000: space marine - anniversary edition",
           55.79
          ],
          [
           "stellaris",
           37.19
          ],
          [
           "totally accurate battle simulator",
           18.59
          ],
          [
           "distraint: deluxe edition",
           4.64
          ],
          [
           "arma 2: operation arrowhead",
           18.59
          ],
          [
           "wolfenstein: youngblood",
           4.64
          ],
          [
           "payday the heist",
           13.94
          ],
          [
           "nba 2k21",
           0
          ],
          [
           "borderlands 3",
           55.79
          ],
          [
           "space engineers",
           18.59
          ],
          [
           "final fantasy xiv online",
           18.59
          ],
          [
           "total war: warhammer ii",
           55.79
          ],
          [
           "dead frontier 2",
           0
          ],
          [
           "crossout",
           0
          ],
          [
           "bloons td 6",
           13.01
          ],
          [
           "for honor",
           13.94
          ],
          [
           "forza horizon 4",
           55.79
          ],
          [
           "ultimate custom night",
           0
          ],
          [
           "far cry 3",
           18.59
          ],
          [
           "dyson sphere program",
           16.73
          ],
          [
           "getting over it with bennett foddy",
           7.43
          ],
          [
           "battlefield 1",
           3.71
          ],
          [
           "fifa 22",
           0
          ],
          [
           "call of duty: black ops ii",
           18.4
          ],
          [
           "thehunter: call of the wild",
           18.59
          ],
          [
           "sniper elite v2",
           0
          ],
          [
           "the lord of the rings online",
           0
          ],
          [
           "age of empires ii: definitive edition",
           18.59
          ],
          [
           "beat saber",
           27.89
          ],
          [
           "half-life: opposing force",
           4.64
          ],
          [
           "stick fight: the game",
           4.64
          ],
          [
           "dishonored",
           2.32
          ],
          [
           "bioshock",
           18.59
          ],
          [
           "assassin's creed odyssey",
           55.79
          ],
          [
           "grounded",
           24.91
          ],
          [
           "call of duty: black ops",
           18.59
          ],
          [
           "hollow knight",
           13.94
          ],
          [
           "eve online",
           0
          ],
          [
           "stumble guys",
           0
          ],
          [
           "enter the gungeon",
           13.94
          ],
          [
           "albion online",
           0
          ],
          [
           "limbo",
           9.29
          ],
          [
           "ultrakill",
           23.24
          ],
          [
           "mad max",
           18.59
          ],
          [
           "yu-gi-oh! duel links",
           0
          ],
          [
           "battlebit remastered",
           13.94
          ],
          [
           "total war: shogun 2",
           27.89
          ],
          [
           "torchlight ii",
           13.94
          ],
          [
           "russian fishing 4",
           0
          ],
          [
           "crsed: f.o.a.d.",
           0
          ],
          [
           "red orchestra 2: heroes of stalingrad with rising storm",
           9.29
          ],
          [
           "borderlands: the pre-sequel",
           37.19
          ],
          [
           "half-life: alyx",
           55.79
          ],
          [
           "last man standing",
           0
          ],
          [
           "batman: arkham knight",
           18.59
          ],
          [
           "mirror 2: project x",
           1.85
          ],
          [
           "poppy playtime",
           0
          ],
          [
           "the descendant",
           13.94
          ],
          [
           "v rising",
           18.59
          ],
          [
           "doki doki literature club!",
           0
          ],
          [
           "the expendabros",
           0
          ],
          [
           "fallout 76",
           9.29
          ],
          [
           "crusader kings ii",
           0
          ],
          [
           "postal 2",
           9.29
          ],
          [
           "need for speed heat",
           3.25
          ],
          [
           "marvel’s spider-man remastered",
           33.47
          ],
          [
           "dave the diver",
           18.59
          ],
          [
           "far cry 5",
           55.79
          ],
          [
           "resident evil village",
           37.19
          ],
          [
           "the witcher: enhanced edition director's cut",
           9.29
          ],
          [
           "the witcher: enhanced edition director's cut",
           9.29
          ],
          [
           "stay out",
           0
          ],
          [
           "tekken 7",
           37.19
          ],
          [
           "saints row 2",
           9.29
          ],
          [
           "call of duty: world at war",
           13.94
          ],
          [
           "overcooked! 2",
           5.8
          ],
          [
           "kerbal space program",
           37.19
          ],
          [
           "frostpunk",
           27.89
          ],
          [
           "total war: rome ii - emperor edition",
           55.79
          ],
          [
           "hitman",
           0
          ],
          [
           "fistful of frags",
           0
          ],
          [
           "star wars jedi: fallen order",
           4.45
          ],
          [
           "arma 2",
           12.08
          ],
          [
           "arma 2",
           12.08
          ],
          [
           "guns of icarus online",
           4.64
          ],
          [
           "american truck simulator",
           18.59
          ],
          [
           "house flipper",
           23.24
          ],
          [
           "ark: survival of the fittest",
           13.94
          ],
          [
           "skullgirls 2nd encore",
           23.24
          ],
          [
           "the elder scrolls online",
           18.59
          ],
          [
           "spiral knights",
           0
          ],
          [
           "rising storm 2: vietnam",
           23.24
          ],
          [
           "stories: the path of destinies",
           13.94
          ],
          [
           "half-life 2: episode one",
           7.43
          ],
          [
           "ready or not",
           34.87
          ],
          [
           "doom",
           18.59
          ],
          [
           "oxygen not included",
           23.24
          ],
          [
           "xcom: enemy unknown",
           27.89
          ],
          [
           "trine 2: complete story",
           4.64
          ],
          [
           "block n load",
           0
          ],
          [
           "the walking dead",
           13.94
          ],
          [
           "defiance",
           0
          ],
          [
           "hotline miami",
           9.29
          ],
          [
           "elite dangerous",
           27.89
          ],
          [
           "ori and the will of the wisps",
           9.2
          ],
          [
           "don't starve",
           9.29
          ],
          [
           "company of heroes - legacy edition",
           18.59
          ],
          [
           "mafia ii (classic)",
           27.89
          ],
          [
           "century: age of ashes",
           0
          ],
          [
           "ftl: faster than light",
           9.29
          ],
          [
           "bioshock remastered",
           18.59
          ],
          [
           "the isle",
           18.59
          ],
          [
           "codename cure",
           0
          ],
          [
           "broforce",
           13.94
          ],
          [
           "mirror's edge",
           18.59
          ],
          [
           "shadow warrior",
           27.89
          ],
          [
           "party animals",
           14.87
          ],
          [
           "kingdom: classic",
           0
          ],
          [
           "crypt of the necrodancer",
           13.94
          ],
          [
           "last epoch",
           32.54
          ],
          [
           "pummel party",
           13.94
          ],
          [
           "helltaker",
           0
          ],
          [
           "mortal kombat x",
           18.59
          ],
          [
           "hitman: absolution",
           18.59
          ],
          [
           "the binding of isaac",
           4.64
          ],
          [
           "blacklight: retribution",
           0
          ],
          [
           "layers of fear (2016)",
           18.59
          ],
          [
           "far cry 4",
           27.89
          ],
          [
           "assassin's creed 2",
           18.59
          ],
          [
           "sins of a solar empire: rebellion",
           22.12
          ],
          [
           "grand theft auto iii",
           0
          ],
          [
           "astroneer",
           27.89
          ],
          [
           "south park: the stick of truth",
           27.89
          ],
          [
           "this war of mine",
           18.59
          ],
          [
           "dishonored 2",
           5.57
          ],
          [
           "rec room",
           0
          ],
          [
           "conqueror's blade",
           0
          ],
          [
           "tree of savior (english ver.)",
           0
          ],
          [
           "remnant: from the ashes",
           37.19
          ],
          [
           "太吾绘卷 the scroll of taiwu",
           15.8
          ],
          [
           "太吾绘卷 the scroll of taiwu",
           15.8
          ],
          [
           "the outlast trials",
           27.89
          ],
          [
           "titan quest anniversary edition",
           18.59
          ],
          [
           "killing floor 2",
           27.89
          ],
          [
           "dark souls ii: scholar of the first sin",
           37.19
          ],
          [
           "days gone",
           11.62
          ],
          [
           "heart of a warrior",
           10.22
          ],
          [
           "crusader kings iii",
           46.49
          ],
          [
           "mortal kombat 11",
           46.49
          ],
          [
           "ultimate chicken horse",
           13.94
          ],
          [
           "quake live",
           2.78
          ],
          [
           "bioshock infinite",
           27.89
          ],
          [
           "goat simulator",
           9.29
          ],
          [
           "the day before",
           0
          ],
          [
           "tom clancy's ghost recon wildlands",
           46.49
          ],
          [
           "assassin's creed origins",
           55.79
          ],
          [
           "gang beasts",
           18.59
          ],
          [
           "cookie clicker",
           4.64
          ],
          [
           "dungeon defenders",
           13.94
          ],
          [
           "infestation: the new z",
           0
          ],
          [
           "phantasy star online 2",
           0
          ],
          [
           "kingdom come: deliverance",
           27.89
          ],
          [
           "metal gear solid v: the phantom pain",
           18.59
          ],
          [
           "gunz 2: the second duel",
           0
          ],
          [
           "the awesome adventures of captain spirit",
           0
          ],
          [
           "alien: isolation",
           37.19
          ],
          [
           "metro 2033 redux",
           18.59
          ],
          [
           "everlasting summer",
           0
          ],
          [
           "papers, please",
           9.29
          ],
          [
           "black mesa",
           18.59
          ],
          [
           "bioshock 2",
           18.59
          ],
          [
           "s.k.i.l.l. - special force 2 (shooter)",
           0
          ],
          [
           "saints row: the third",
           9.29
          ],
          [
           "metin2",
           0
          ],
          [
           "metro: last light redux",
           18.59
          ],
          [
           "metal gear rising: revengeance",
           27.89
          ],
          [
           "trackmania nations forever",
           0
          ],
          [
           "sniper elite 4",
           55.79
          ],
          [
           "f1 2015",
           0
          ],
          [
           "street fighter v",
           18.59
          ],
          [
           "bastion",
           13.94
          ],
          [
           "half-life: source",
           9.29
          ],
          [
           "america's army: proving grounds",
           0
          ],
          [
           "argo",
           0
          ],
          [
           "insurgency: sandstorm",
           27.89
          ],
          [
           "speedrunners",
           13.94
          ],
          [
           "inscryption",
           18.59
          ],
          [
           "toribash",
           0
          ],
          [
           "payday 3",
           37.19
          ],
          [
           "planet zoo",
           41.84
          ],
          [
           "magic duels",
           0
          ],
          [
           "the stanley parable",
           13.94
          ],
          [
           "metro exodus",
           27.89
          ],
          [
           "batman: arkham origins",
           18.59
          ],
          [
           "mirror",
           0.73
          ],
          [
           "battlefield: bad company 2",
           0
          ],
          [
           "pacify",
           4.64
          ],
          [
           "orcs must die! 2",
           13.94
          ],
          [
           "jurassic world evolution",
           41.84
          ],
          [
           "warmode",
           0
          ],
          [
           "detroit: become human",
           37.19
          ],
          [
           "the crew 2",
           46.49
          ],
          [
           "football manager 2021",
           0
          ],
          [
           "just survive",
           0
          ],
          [
           "resident evil 6",
           18.59
          ],
          [
           "the escapists 2",
           4.64
          ],
          [
           "kenshi",
           27.89
          ],
          [
           "嗜血印 bloody spell",
           23.24
          ],
          [
           "need for speed: hot pursuit",
           0
          ],
          [
           "hell let loose",
           39.28
          ],
          [
           "sniper elite 3",
           27.89
          ],
          [
           "assassin's creed unity",
           27.89
          ],
          [
           "besiege",
           13.94
          ],
          [
           "football manager 2022",
           0
          ],
          [
           "blockade 3d",
           0
          ],
          [
           "the long dark",
           18.59
          ],
          [
           "lost castle / 失落城堡",
           3.71
          ],
          [
           "dragon's dogma: dark arisen",
           27.89
          ],
          [
           "wolcen: lords of mayhem",
           37.19
          ],
          [
           "call of duty: black ops",
           18.59
          ],
          [
           "grand theft auto: episodes from liberty city",
           0
          ],
          [
           "uno",
           9.29
          ],
          [
           "wolfenstein: the new order",
           4.64
          ],
          [
           "batman: arkham city - game of the year edition",
           18.59
          ],
          [
           "capcom arcade stadium",
           9.3
          ],
          [
           "spore",
           4.64
          ],
          [
           "grand theft auto: vice city",
           0
          ],
          [
           "golf with your friends",
           4.59
          ],
          [
           "star conflict",
           0
          ],
          [
           "bless unleashed",
           0
          ],
          [
           "dead bits",
           4.64
          ],
          [
           "total war: attila",
           41.84
          ],
          [
           "dirt rally",
           0
          ],
          [
           "sleeping dogs",
           0
          ],
          [
           "alan wake",
           13.94
          ],
          [
           "nba 2k19",
           0
          ],
          [
           "hero siege",
           7.43
          ],
          [
           "escape the backrooms",
           9.29
          ],
          [
           "trine enchanted edition",
           13.94
          ],
          [
           "gunfire reborn",
           18.59
          ],
          [
           "maplestory",
           0
          ],
          [
           "spec ops: the line",
           0
          ],
          [
           "bully: scholarship edition",
           13.94
          ],
          [
           "banished",
           18.59
          ],
          [
           "transformice",
           0
          ],
          [
           "dungeon defenders ii",
           0
          ],
          [
           "warhammer 40,000: dawn of war ii",
           18.59
          ],
          [
           "封灵档案",
           0
          ],
          [
           "age of empires iv: anniversary edition",
           37.19
          ],
          [
           "darksiders ii deathinitive edition",
           27.89
          ],
          [
           "brutal legend",
           13.94
          ],
          [
           "tales of arise",
           37.19
          ],
          [
           "ironsight",
           0
          ],
          [
           "serious sam 3: bfe",
           27.89
          ],
          [
           "ori and the blind forest",
           0
          ],
          [
           "just cause 2: multiplayer mod",
           0
          ],
          [
           "risk: global domination",
           0
          ],
          [
           "gotham city impostors free to play",
           0
          ],
          [
           "aura kingdom",
           0
          ],
          [
           "call of duty 4: modern warfare (2007)",
           9.29
          ],
          [
           "star trek online",
           0
          ],
          [
           "farming simulator 19",
           16.73
          ],
          [
           "microsoft flight simulator 40th anniversary edition",
           55.79
          ],
          [
           "age of empires iii (2007)",
           37.19
          ],
          [
           "batman: arkham asylum game of the year edition",
           18.59
          ],
          [
           "super meat boy",
           13.94
          ],
          [
           "celeste",
           18.59
          ],
          [
           "awesomenauts - the 2d moba",
           0
          ],
          [
           "darksiders",
           18.59
          ],
          [
           "resident evil 4 (2005)",
           18.59
          ],
          [
           "kholat",
           18.59
          ],
          [
           "squad",
           46.49
          ],
          [
           "subnautica: below zero",
           27.89
          ],
          [
           "alice: madness returns",
           2.78
          ],
          [
           "l.a. noire",
           18.59
          ],
          [
           "devour",
           4.64
          ],
          [
           "armored core vi fires of rubicon",
           55.79
          ],
          [
           "the red solstice",
           0.92
          ],
          [
           "five nights at freddy's",
           4.64
          ],
          [
           "five nights at freddy's",
           4.64
          ],
          [
           "they are billions",
           27.89
          ],
          [
           "psychonauts",
           9.29
          ],
          [
           "blade and sorcery",
           18.59
          ],
          [
           "surviving mars",
           27.89
          ],
          [
           "hellblade: senua's sacrifice",
           27.89
          ],
          [
           "muse dash",
           0.49
          ],
          [
           "nier:automata",
           37.19
          ],
          [
           "mitos.is: the game",
           0
          ],
          [
           "the bureau: xcom declassified",
           18.59
          ],
          [
           "rift",
           0
          ],
          [
           "warhammer 40,000: darktide",
           37.19
          ],
          [
           "deus ex: human revolution - director's cut",
           2.78
          ],
          [
           "men of war: assault squad 2",
           27.89
          ],
          [
           "call of juarez: gunslinger",
           13.94
          ],
          [
           "chivalry 2",
           14.87
          ],
          [
           "pathfinder: kingmaker - enhanced plus edition",
           18.59
          ],
          [
           "soma",
           27.89
          ],
          [
           "fallout: a post nuclear role playing game",
           2.32
          ],
          [
           "totally accurate battlegrounds",
           0
          ],
          [
           "source filmmaker",
           0
          ],
          [
           "dead space 2",
           3.71
          ],
          [
           "football manager 2017",
           0
          ],
          [
           "the elder scrolls iv: oblivion game of the year edition deluxe",
           3.48
          ],
          [
           "for the king",
           18.59
          ],
          [
           "noita",
           18.59
          ],
          [
           "age of mythology: extended edition",
           6.97
          ],
          [
           "max payne 3",
           18.59
          ],
          [
           "car mechanic simulator 2018",
           18.59
          ],
          [
           "soulworker - anime action mmo",
           0
          ],
          [
           "slime rancher",
           18.59
          ],
          [
           "double action: boogaloo",
           0
          ],
          [
           "teardown",
           27.89
          ],
          [
           "helldivers dive harder edition",
           18.59
          ],
          [
           "line of sight",
           0
          ],
          [
           "a way out",
           5.57
          ],
          [
           "planet coaster",
           41.84
          ],
          [
           "ori and the blind forest: definitive edition",
           4.64
          ],
          [
           "the sims 3",
           18.59
          ],
          [
           "sleeping dogs: definitive edition",
           2.78
          ],
          [
           "inside",
           18.59
          ],
          [
           "war robots",
           0
          ],
          [
           "mafia",
           13.94
          ],
          [
           "spellbreak",
           0
          ],
          [
           "pathfinder: wrath of the righteous - enhanced edition",
           11.15
          ],
          [
           "sniper elite 5",
           46.49
          ],
          [
           "quake champions",
           0
          ],
          [
           "freddy fazbear's pizzeria simulator",
           0
          ],
          [
           "crucible beta",
           0
          ],
          [
           "resident evil 3",
           37.19
          ],
          [
           "naruto shippuden: ultimate ninja storm 4",
           18.59
          ],
          [
           "marvel's midnight suns",
           55.79
          ],
          [
           "iron snout",
           0
          ],
          [
           "farming simulator 22",
           27.89
          ],
          [
           "orion: prelude",
           0.92
          ],
          [
           "resident evil 7 biohazard",
           18.59
          ],
          [
           "cult of the lamb",
           23.24
          ],
          [
           "little nightmares",
           18.59
          ],
          [
           "moonlighter",
           18.59
          ],
          [
           "life is strange: before the storm",
           15.8
          ],
          [
           "dead space (2008)",
           18.59
          ],
          [
           "outlast 2",
           27.89
          ],
          [
           "a dance of fire and ice",
           5.57
          ],
          [
           "mechwarrior online solaris 7",
           0
          ],
          [
           "katana zero",
           13.94
          ],
          [
           "shadowrun returns",
           9.29
          ],
          [
           "krunker",
           0
          ],
          [
           "dark souls: remastered",
           37.19
          ],
          [
           "knight online",
           0
          ],
          [
           "neon abyss",
           18.59
          ],
          [
           "children of morta",
           20.45
          ],
          [
           "duck game",
           12.08
          ],
          [
           "s.t.a.l.k.e.r.: call of pripyat",
           18.59
          ],
          [
           "monster hunter stories 2: wings of ruin",
           37.19
          ],
          [
           "street fighter 6",
           55.79
          ],
          [
           "alien swarm: reactive drop",
           0
          ],
          [
           "total war: empire – definitive edition",
           23.24
          ],
          [
           "the darkness ii",
           27.89
          ],
          [
           "star wars battlefront (classic, 2004)",
           3.25
          ],
          [
           "monaco: what's yours is mine",
           13.94
          ],
          [
           "tropico 4",
           13.94
          ],
          [
           "nioh: complete edition",
           46.49
          ],
          [
           "shadowverse ccg",
           0
          ],
          [
           "creative destruction",
           0
          ],
          [
           "brotato",
           4.64
          ],
          [
           "vindictus",
           0
          ],
          [
           "green hell",
           23.24
          ],
          [
           "soundpad",
           4.64
          ],
          [
           "disco elysium - the final cut",
           37.19
          ],
          [
           "mafia: definitive edition",
           37.19
          ],
          [
           "firewatch",
           18.59
          ],
          [
           "middle-earth: shadow of war",
           46.49
          ],
          [
           "resident evil 5",
           18.59
          ],
          [
           "romero's aftermath",
           0
          ],
          [
           "to the moon",
           9.29
          ],
          [
           "endless space - definitive edition",
           9.29
          ],
          [
           "airmech strike",
           0
          ],
          [
           "tribes of midgard",
           18.59
          ],
          [
           "sabre team",
           6.5
          ],
          [
           "generation zero",
           23.24
          ],
          [
           "ax:el - air xenodawn",
           0
          ],
          [
           "magicka 2",
           13.94
          ],
          [
           "shadow of the tomb raider: definitive edition",
           0
          ],
          [
           "the evil within",
           18.59
          ],
          [
           "football manager 2019",
           0
          ],
          [
           "riders of icarus",
           0
          ],
          [
           "total war: warhammer iii",
           55.79
          ],
          [
           "darksiders iii",
           37.19
          ],
          [
           "outriders",
           37.19
          ],
          [
           "guild wars 2",
           0
          ],
          [
           "wolfenstein ii: the new colossus",
           5.57
          ],
          [
           "hacknet",
           9.29
          ],
          [
           "runescape",
           0
          ],
          [
           "pavlov vr",
           23.24
          ],
          [
           "fallen earth free2play",
           0
          ],
          [
           "the elder scrolls iv: oblivion game of the year edition",
           3.48
          ],
          [
           "ghostrunner",
           22.31
          ],
          [
           "code vein",
           55.79
          ],
          [
           "kards - the wwii card game",
           0
          ],
          [
           "state of decay 2: juggernaut edition",
           13.94
          ],
          [
           "bioshock 2 remastered",
           18.59
          ],
          [
           "digimon masters online",
           0
          ],
          [
           "endless legend",
           27.89
          ],
          [
           "need for speed payback",
           2.78
          ],
          [
           "burnout paradise: the ultimate box",
           0
          ],
          [
           "red dead online",
           18.59
          ],
          [
           "depth",
           18.59
          ],
          [
           "pillars of eternity",
           6.97
          ],
          [
           "war trigger 3",
           0
          ],
          [
           "war trigger 3",
           0
          ],
          [
           "blockpost",
           0
          ],
          [
           "gear up",
           0
          ],
          [
           "radical heights",
           0
          ],
          [
           "game dev tycoon",
           9.29
          ],
          [
           "company of heroes: opposing fronts",
           18.59
          ],
          [
           "baldur's gate: enhanced edition",
           18.59
          ],
          [
           "hitman: blood money",
           9.29
          ],
          [
           "emily is away",
           0
          ],
          [
           "mass effect 2 (2010 edition)",
           0
          ],
          [
           "resident evil revelations 2",
           5.57
          ],
          [
           "yakuza 0",
           6.5
          ],
          [
           "ace of spades: battle builder",
           0
          ],
          [
           "openttd",
           0
          ],
          [
           "star wars knights of the old republic",
           3.25
          ],
          [
           "star wars knights of the old republic",
           3.25
          ],
          [
           "wreckfest",
           27.89
          ],
          [
           "naruto to boruto: shinobi striker",
           18.59
          ],
          [
           "borderlands game of the year",
           27.89
          ],
          [
           "borderlands game of the year",
           27.89
          ],
          [
           "sanctum 2",
           13.94
          ],
          [
           "ryse: son of rome",
           9.29
          ],
          [
           "final fantasy xv windows edition",
           13.01
          ],
          [
           "battletech",
           37.19
          ],
          [
           "dark deception",
           0
          ],
          [
           "ace combat 7: skies unknown",
           55.79
          ],
          [
           "pc building simulator",
           18.59
          ],
          [
           "total war: warhammer",
           55.79
          ],
          [
           "risk of rain (2013)",
           9.29
          ],
          [
           "star wars republic commando",
           3.25
          ],
          [
           "orcs must die!",
           9.29
          ],
          [
           "hotline miami 2: wrong number",
           13.94
          ],
          [
           "thief",
           2.78
          ],
          [
           "day of infamy",
           13.94
          ],
          [
           "back to bed",
           5.57
          ],
          [
           "orcs must die! 3",
           27.89
          ],
          [
           "star wars battlefront ii",
           9.29
          ],
          [
           "idle champions of the forgotten realms",
           0
          ],
          [
           "crysis warhead",
           18.59
          ],
          [
           "sid meier's civilization: beyond earth",
           37.19
          ],
          [
           "dc universe online",
           0
          ],
          [
           "assassin’s creed rogue",
           18.59
          ],
          [
           "call of duty: wwii",
           18.4
          ],
          [
           "superhot",
           23.24
          ],
          [
           "the elder scrolls: legends",
           0
          ],
          [
           "superliminal",
           9.29
          ],
          [
           "garbage crew!",
           17.66
          ],
          [
           "rise of nations: extended edition",
           4.64
          ],
          [
           "supreme commander 2",
           12.08
          ],
          [
           "natural selection 2",
           4.64
          ],
          [
           "gwent: the witcher card game",
           0
          ],
          [
           "total war: medieval ii – definitive edition",
           23.24
          ],
          [
           "road 96",
           18.56
          ],
          [
           "viscera cleanup detail: santa's rampage",
           2.32
          ],
          [
           "ea sports fifa 21",
           0
          ],
          [
           "shakes and fidget",
           0
          ],
          [
           "we were here",
           0
          ],
          [
           "minimalism",
           0.92
          ],
          [
           "soulworker",
           0
          ],
          [
           "atlas",
           27.89
          ],
          [
           "brothers - a tale of two sons",
           3.48
          ],
          [
           "gris",
           13.94
          ],
          [
           "quake",
           9.29
          ],
          [
           "tribes: ascend",
           0
          ],
          [
           "resident evil",
           18.59
          ],
          [
           "surgeon simulator",
           9.29
          ],
          [
           "doom (1993)",
           4.64
          ],
          [
           "kingdom two crowns",
           18.59
          ],
          [
           "tropico 6",
           37.19
          ],
          [
           "total war: napoleon – definitive edition",
           23.24
          ],
          [
           "stronghold crusader 2",
           37.19
          ],
          [
           "dusk",
           18.59
          ],
          [
           "warhammer 40,000: dawn of war ii chaos rising",
           18.59
          ],
          [
           "enclave",
           9.29
          ],
          [
           "fallout 3: game of the year edition",
           6.13
          ],
          [
           "assassin's creed: director's cut edition",
           18.59
          ],
          [
           "elsword",
           0
          ],
          [
           "archeblade",
           0
          ],
          [
           "torchlight",
           13.94
          ],
          [
           "transistor",
           18.59
          ],
          [
           "medal of honor",
           18.59
          ],
          [
           "the elder scrolls iii: morrowind game of the year edition",
           5.57
          ],
          [
           "warhammer 40,000: inquisitor - martyr",
           46.49
          ],
          [
           "bayonetta",
           5.57
          ],
          [
           "scribblenauts unlimited",
           18.59
          ],
          [
           "heroes & generals",
           0
          ],
          [
           "back 4 blood",
           55.79
          ],
          [
           "assassin’s creed brotherhood",
           18.59
          ],
          [
           "mafia ii: definitive edition",
           27.89
          ],
          [
           "wakfu",
           0
          ],
          [
           "gtfo",
           20.82
          ],
          [
           "thief simulator",
           18.59
          ],
          [
           "data hacker: initiation",
           1.85
          ],
          [
           "carx drift racing online",
           6.27
          ],
          [
           "sega mega drive and genesis classics",
           28.04
          ],
          [
           "company of heroes",
           18.59
          ],
          [
           "pico park",
           4.64
          ],
          [
           "football manager 2023",
           0
          ],
          [
           "operation: harsh doorstop",
           0
          ],
          [
           "evolvation",
           1.85
          ],
          [
           "evolvation",
           1.85
          ],
          [
           "mass effect (2007)",
           27.89
          ],
          [
           "mass effect (2007)",
           27.89
          ],
          [
           "remnant ii",
           46.49
          ],
          [
           "far cry new dawn",
           37.19
          ],
          [
           "train simulator classic",
           23.24
          ],
          [
           "school of dragons",
           0
          ],
          [
           "just cause",
           6.5
          ],
          [
           "tom clancy’s splinter cell blacklist",
           27.89
          ],
          [
           "wargame: red dragon",
           27.89
          ],
          [
           "lobotomy corporation | monster management simulation",
           23.24
          ],
          [
           "brainbread 2",
           0
          ],
          [
           "s.t.a.l.k.e.r.: shadow of chernobyl",
           18.59
          ],
          [
           "barotrauma",
           32.54
          ],
          [
           "warhammer 40,000: dawn of war ii: retribution",
           27.89
          ],
          [
           "two point hospital",
           5.57
          ],
          [
           "aliens vs. predator",
           13.94
          ],
          [
           "lord of the rings: war in the north",
           0
          ],
          [
           "far cry 2",
           9.29
          ],
          [
           "defy gravity extended",
           1.85
          ],
          [
           "running with rifles",
           4.18
          ],
          [
           "warhammer: end times - vermintide",
           27.89
          ],
          [
           "warhammer 40,000: dawn of war - game of the year edition",
           12.08
          ],
          [
           "dragons and titans",
           0
          ],
          [
           "dungeons & dragons online",
           0
          ],
          [
           "unheard - voices of crime",
           2.59
          ],
          [
           "divinity: original sin - enhanced edition",
           37.19
          ],
          [
           "dragon age: origins - ultimate edition",
           8.36
          ],
          [
           "gothic 3",
           9.29
          ],
          [
           "star wars empire at war - gold pack",
           6.5
          ],
          [
           "a plague tale: innocence",
           37.19
          ],
          [
           "enshrouded",
           27.89
          ],
          [
           "project winter",
           9.29
          ],
          [
           "friday the 13th: the game",
           0
          ],
          [
           "ring of fire: prologue",
           0
          ],
          [
           "tiny tina's wonderlands",
           55.79
          ],
          [
           "panzar",
           0
          ],
          [
           "cortex command",
           18.59
          ],
          [
           "deponia: the complete journey",
           27.89
          ],
          [
           "call of duty: ghosts",
           18.4
          ],
          [
           "sherlock holmes: the devil's daughter",
           27.89
          ],
          [
           "dark messiah of might & magic",
           9.29
          ],
          [
           "star wars - the force unleashed ultimate sith edition",
           6.5
          ],
          [
           "glass masquerade",
           4.64
          ],
          [
           "skul: the hero slayer",
           18.59
          ],
          [
           "rogue legacy",
           13.94
          ],
          [
           "star wars jedi knight - jedi academy",
           3.25
          ],
          [
           "old school runescape",
           0
          ],
          [
           "artifact",
           0
          ],
          [
           "modern combat versus",
           0
          ],
          [
           "ark: survival ascended",
           41.84
          ],
          [
           "sid meier's civilization iii complete",
           4.64
          ],
          [
           "dmc: devil may cry",
           27.89
          ],
          [
           "rain world",
           23.24
          ],
          [
           "the escapists",
           16.73
          ],
          [
           "ravenfield",
           16.73
          ],
          [
           "inside the backrooms",
           6.5
          ],
          [
           "hitman 2: silent assassin",
           8.36
          ],
          [
           "dragon ball fighterz",
           55.79
          ],
          [
           "killer is dead - nightmare edition",
           18.59
          ],
          [
           "battlefield 4",
           3.71
          ],
          [
           "cs2d",
           0
          ],
          [
           "control ultimate edition",
           9.29
          ],
          [
           "the ascent",
           27.89
          ],
          [
           "quantum break",
           37.19
          ],
          [
           "south park: the fractured but whole",
           46.49
          ],
          [
           "metal gear solid v: ground zeroes",
           18.59
          ],
          [
           "one piece: pirate warriors 4",
           37.19
          ],
          [
           "shop titans",
           0
          ],
          [
           "mudrunner",
           3.71
          ],
          [
           "deceit",
           0
          ],
          [
           "capcom arcade 2nd stadium",
           55.35
          ],
          [
           "saving grace",
           1.85
          ],
          [
           "world war 3",
           0
          ],
          [
           "dead island definitive edition",
           18.59
          ],
          [
           "bloons td battles",
           0
          ],
          [
           "heroes of might & magic iii - hd edition",
           13.94
          ],
          [
           "the evil within 2",
           37.19
          ],
          [
           "aliens: fireteam elite",
           27.89
          ],
          [
           "crysis 2 - maximum edition",
           27.89
          ],
          [
           "solasta: crown of the magister",
           27.89
          ],
          [
           "dragon ball xenoverse",
           37.19
          ],
          [
           "red faction: armageddon",
           18.59
          ],
          [
           "love is all around",
           7.9
          ],
          [
           "knights and merchants",
           9.29
          ],
          [
           "tropico 5",
           18.59
          ],
          [
           "hand simulator",
           1.85
          ],
          [
           "injustice: gods among us ultimate edition",
           18.59
          ],
          [
           "squad 44",
           20.92
          ],
          [
           "zombie army trilogy",
           4.18
          ],
          [
           "sniper: ghost warrior 2",
           9.29
          ],
          [
           "ragnarok online 2",
           0
          ],
          [
           "catan universe",
           0
          ],
          [
           "loop hero",
           13.94
          ],
          [
           "bright memory: infinite",
           11.15
          ],
          [
           "homefront",
           18.59
          ],
          [
           "bright memory",
           3.71
          ],
          [
           "wizard of legend",
           14.87
          ],
          [
           "keep talking and nobody explodes",
           13.94
          ],
          [
           "town of salem",
           4.64
          ],
          [
           "call to arms",
           13.94
          ],
          [
           "braid",
           13.94
          ],
          [
           "spelunky",
           13.94
          ],
          [
           "move or die",
           13.94
          ],
          [
           "the henry stickmin collection",
           13.94
          ],
          [
           "baldur's gate ii: enhanced edition",
           18.59
          ],
          [
           "call of duty: ghosts",
           18.4
          ],
          [
           "black desert",
           9.29
          ],
          [
           "crysis",
           27.89
          ],
          [
           "how to survive",
           3.48
          ],
          [
           "how to survive",
           3.48
          ],
          [
           "turbo pug",
           1.85
          ],
          [
           "brink",
           0
          ],
          [
           "x4: foundations",
           46.49
          ],
          [
           "secret world legends",
           0
          ],
          [
           "serious sam hd: the first encounter",
           13.94
          ],
          [
           "age of wonders iii",
           27.89
          ],
          [
           "the talos principle",
           27.89
          ],
          [
           "dragon ball z: kakarot",
           55.79
          ],
          [
           "call of duty: infinite warfare",
           18.4
          ],
          [
           "the i of the dragon",
           7.43
          ],
          [
           "ghostwire: tokyo",
           13.94
          ],
          [
           "bigfoot",
           18.59
          ],
          [
           "final fantasy vii",
           4.45
          ],
          [
           "eador. masters of the broken world",
           18.59
          ],
          [
           "deus ex: game of the year edition",
           0.9
          ],
          [
           "rounds",
           5.57
          ],
          [
           "dirt rally 2.0",
           4.64
          ],
          [
           "watch_dogs",
           27.89
          ],
          [
           "amnesia: a machine for pigs",
           18.59
          ],
          [
           "gigantic",
           0
          ],
          [
           "dino d-day",
           9.29
          ],
          [
           "graveyard keeper",
           18.59
          ],
          [
           "bacteria",
           0.92
          ],
          [
           "beholder",
           1.94
          ],
          [
           "earth defense force 4.1 the shadow of new despair",
           18.59
          ],
          [
           "hitman 3",
           11.15
          ],
          [
           "tera - action mmorpg",
           0
          ],
          [
           "age of empires iii: definitive edition",
           0
          ],
          [
           "divinity: original sin (classic)",
           37.19
          ],
          [
           "star wars knights of the old republic ii - the sith lords",
           3.25
          ],
          [
           "sakura clicker",
           0
          ],
          [
           "far cry",
           9.29
          ],
          [
           "horizon zero dawn complete edition",
           46.49
          ],
          [
           "the lab",
           0
          ],
          [
           "farm together",
           18.59
          ],
          [
           "outer wilds",
           23.24
          ],
          [
           "音灵 invaxion",
           0
          ],
          [
           "sonic generations collection",
           18.59
          ],
          [
           "metal: hellsinger",
           27.89
          ],
          [
           "project cars",
           0
          ],
          [
           "omori",
           18.59
          ],
          [
           "styx: master of shadows",
           18.59
          ],
          [
           "deadlink",
           23.24
          ],
          [
           "viscera cleanup detail",
           12.08
          ],
          [
           "victoria 3",
           46.49
          ],
          [
           "super animal royale",
           0
          ],
          [
           "the ship: murder party",
           9.29
          ],
          [
           "serious sam 2",
           9.29
          ],
          [
           "dynasty warriors 8: xtreme legends complete edition",
           15.8
          ],
          [
           "strife",
           0
          ],
          [
           "unrailed!",
           18.59
          ],
          [
           "action taimanin",
           0
          ],
          [
           "the walking dead: season two",
           13.94
          ],
          [
           "gorilla tag",
           18.59
          ],
          [
           "mafia iii: definitive edition",
           27.89
          ],
          [
           "guns and robots",
           0
          ],
          [
           "age of history ii",
           4.64
          ],
          [
           "blasphemous",
           23.24
          ],
          [
           "command & conquer: red alert 3",
           18.59
          ],
          [
           "universe sandbox",
           27.89
          ],
          [
           "overlord ii",
           9.29
          ],
          [
           "spooky's jump scare mansion",
           0
          ],
          [
           "grimm",
           0
          ],
          [
           "kingdoms and castles",
           13.94
          ],
          [
           "sid meier's civilization iv",
           18.59
          ],
          [
           "five nights at freddy's: security breach",
           37.19
          ],
          [
           "persona 4 golden",
           12.08
          ],
          [
           "sam & max 104: abe lincoln must die!",
           0
          ],
          [
           "f.e.a.r.",
           51.14
          ],
          [
           "mark of the ninja",
           4.64
          ],
          [
           "f.e.a.r.",
           51.14
          ],
          [
           "paint the town red",
           18.59
          ],
          [
           "archeage",
           0
          ],
          [
           "f.e.a.r. 3",
           18.59
          ],
          [
           "the riftbreaker",
           27.89
          ],
          [
           "nba 2k18",
           0
          ],
          [
           "poker night at the inventory",
           0
          ],
          [
           "assetto corsa competizione",
           37.19
          ],
          [
           "modern combat 5",
           0
          ],
          [
           "worms revolution",
           13.94
          ],
          [
           "alan wake's american nightmare",
           8.36
          ],
          [
           "hot dogs, horseshoes & hand grenades",
           18.59
          ],
          [
           "audiosurf",
           9.29
          ],
          [
           "warhammer 40,000: dawn of war - soulstorm",
           12.08
          ],
          [
           "stoneshard",
           23.24
          ],
          [
           "dungeons 2",
           18.59
          ],
          [
           "moonbase alpha",
           0
          ],
          [
           "aeon command",
           2.78
          ],
          [
           "marauders",
           27.89
          ],
          [
           "tricolour lovestory",
           0.55
          ],
          [
           "stranded deep",
           18.59
          ],
          [
           "lego marvel super heroes",
           18.59
          ],
          [
           "warriors of vilvatikta",
           1.85
          ],
          [
           "draw & guess",
           2.78
          ],
          [
           "bless online",
           0
          ],
          [
           "the culling",
           0
          ],
          [
           "into the breach",
           13.94
          ],
          [
           "boneworks",
           27.89
          ],
          [
           "her story",
           9.29
          ],
          [
           "shadow warrior 2",
           27.89
          ],
          [
           "relic hunters zero: remix",
           0
          ],
          [
           "builders of egypt: prologue",
           0
          ],
          [
           "the lego ninjago movie video game",
           18.59
          ],
          [
           "project cars 2",
           0
          ],
          [
           "warhammer 40,000: dawn of war - dark crusade",
           12.08
          ],
          [
           "portal 2 sixense perceptual pack",
           0
          ],
          [
           "dead rising 3 apocalypse edition",
           27.89
          ],
          [
           "hitman: codename 47",
           7.43
          ],
          [
           "not for broadcast",
           23.24
          ],
          [
           "streets of rogue",
           4.64
          ],
          [
           "worms armageddon",
           13.94
          ],
          [
           "devil may cry 4 special edition",
           23.24
          ],
          [
           "space pilgrim episode i: alpha centauri",
           0
          ],
          [
           "supraland",
           18.59
          ],
          [
           "steamvr",
           0
          ],
          [
           "zero escape: zero time dilemma",
           18.59
          ],
          [
           "lego star wars: the skywalker saga",
           46.49
          ],
          [
           "dungeon of the endless",
           11.15
          ],
          [
           "the wolf among us",
           13.94
          ],
          [
           "medieval dynasty",
           32.54
          ],
          [
           "poly bridge",
           9.29
          ],
          [
           "supreme commander: forged alliance",
           12.08
          ],
          [
           "s.t.a.l.k.e.r.: clear sky",
           9.29
          ],
          [
           "efootball pes 2021 season update",
           0
          ],
          [
           "nba 2k23",
           55.79
          ],
          [
           "cossacks 3",
           18.59
          ],
          [
           "turmoil",
           12.08
          ],
          [
           "suzerain",
           18.59
          ],
          [
           "snow - the ultimate edition",
           13.94
          ],
          [
           "efootball  pes 2020",
           0
          ],
          [
           "orcs must die! unchained",
           0
          ],
          [
           "knockout city",
           0
          ],
          [
           "prismata",
           0
          ],
          [
           "brick rigs",
           17.66
          ],
          [
           "furi",
           18.59
          ],
          [
           "woodle tree adventures",
           3.71
          ],
          [
           "polygon: multiplayer shooter",
           0
          ],
          [
           "gauntlet slayer edition",
           18.59
          ],
          [
           "fallout tactics: brotherhood of steel",
           2.32
          ],
          [
           "cities: skylines ii",
           46.49
          ],
          [
           "rage",
           3.71
          ],
          [
           "the witness",
           37.19
          ],
          [
           "due process",
           13.94
          ],
          [
           "untitled goose game",
           18.59
          ],
          [
           "mortal kombat komplete edition",
           0
          ],
          [
           "world of goo",
           13.94
          ],
          [
           "unreal tournament 3 black",
           0
          ],
          [
           "sonic mania",
           18.59
          ],
          [
           "resident evil 3: raccoon city demo",
           0
          ],
          [
           "pillars of eternity ii: deadfire",
           37.19
          ],
          [
           "dishonored: death of the outsider",
           5.57
          ],
          [
           "dredge",
           23.24
          ],
          [
           "let it die",
           0
          ],
          [
           "scribble it!",
           0
          ],
          [
           "my friend pedro",
           18.59
          ],
          [
           "deus ex: mankind divided",
           4.18
          ],
          [
           "secret in story",
           0.92
          ],
          [
           "victoria ii",
           18.59
          ],
          [
           "dragon ball xenoverse 2",
           18.59
          ],
          [
           "cruelty squad",
           18.59
          ],
          [
           "swords of legends online",
           0
          ],
          [
           "cthulhu saves the world",
           2.78
          ],
          [
           "champions online",
           0
          ],
          [
           "f.e.a.r.",
           51.14
          ],
          [
           "drunken wrestlers 2",
           0
          ],
          [
           "kingdoms of amalur: reckoning",
           0
          ],
          [
           "kingdoms of amalur: reckoning",
           0
          ],
          [
           "shadow tactics: blades of the shogun",
           37.19
          ]
         ],
         "hovertemplate": "Tiempo de Juego Promedio (min)=%{x}<br>positive=%{y}<br>name=%{customdata[0]}<br>price=%{marker.color}<extra></extra>",
         "legendgroup": "",
         "marker": {
          "color": [
           0,
           0,
           0,
           37.19,
           0,
           0,
           18.41,
           45.56,
           9.29,
           0,
           0,
           37.19,
           37.19,
           0,
           27.89,
           0,
           55.79,
           9.29,
           0,
           18.59,
           9.29,
           55.79,
           0,
           3.71,
           0,
           13.94,
           4.64,
           0,
           9.29,
           18.59,
           55.79,
           0,
           18.59,
           13.94,
           0,
           7.43,
           0,
           37.19,
           0,
           9.29,
           0,
           18.59,
           0,
           0,
           0,
           13.01,
           0,
           18.59,
           9.29,
           33.47,
           4.64,
           11.15,
           0,
           9.29,
           0,
           27.89,
           0,
           0,
           0,
           0,
           9.29,
           18.59,
           0,
           18.59,
           9.29,
           23.24,
           0,
           9.29,
           0,
           1.85,
           55.79,
           46.49,
           13.94,
           27.89,
           55.79,
           29.72,
           0,
           0,
           4.64,
           18.59,
           27.89,
           6.13,
           4.64,
           27.89,
           18.59,
           13.94,
           0,
           9.29,
           0,
           27.89,
           0,
           0,
           9.29,
           41.84,
           6.97,
           27.89,
           9.29,
           13.94,
           3.71,
           11.62,
           13.94,
           4.64,
           9.29,
           55.79,
           3.71,
           9.29,
           0,
           55.79,
           13.94,
           0,
           37.19,
           32.55,
           37.19,
           13.94,
           18.59,
           9.29,
           18.4,
           27.89,
           2.32,
           37.19,
           0,
           37.19,
           13.94,
           0,
           9.29,
           0,
           0,
           4.64,
           23.24,
           37.19,
           0,
           4.64,
           0,
           0,
           0,
           4.64,
           0,
           55.79,
           4.64,
           13.94,
           9.2,
           18.59,
           0,
           7.43,
           0,
           18.59,
           55.79,
           9.29,
           0,
           37.19,
           18.59,
           23.24,
           55.79,
           27.89,
           27.89,
           27.89,
           23.24,
           0,
           0,
           0,
           23.24,
           0,
           9.29,
           0,
           37.19,
           27.89,
           0,
           4.64,
           0,
           23.24,
           0,
           0,
           63.19,
           9.29,
           0,
           65.09,
           0,
           18.96,
           4.64,
           18.59,
           0,
           0,
           9.29,
           9.29,
           37.19,
           23.24,
           18.59,
           41.84,
           18.59,
           3.25,
           55.79,
           18.59,
           27.89,
           32.54,
           4.18,
           37.19,
           9.29,
           4.64,
           18.59,
           13.94,
           18.59,
           0,
           27.89,
           2.78,
           0,
           13.94,
           18.59,
           9.29,
           5.57,
           0,
           27.89,
           0,
           18.59,
           55.79,
           18.59,
           0,
           0,
           4.64,
           13.94,
           18.59,
           0,
           27.89,
           0,
           18.59,
           18.59,
           55.79,
           37.19,
           18.59,
           4.64,
           18.59,
           4.64,
           13.94,
           0,
           55.79,
           18.59,
           18.59,
           55.79,
           0,
           0,
           13.01,
           13.94,
           55.79,
           0,
           18.59,
           16.73,
           7.43,
           3.71,
           0,
           18.4,
           18.59,
           0,
           0,
           18.59,
           27.89,
           4.64,
           4.64,
           2.32,
           18.59,
           55.79,
           24.91,
           18.59,
           13.94,
           0,
           0,
           13.94,
           0,
           9.29,
           23.24,
           18.59,
           0,
           13.94,
           27.89,
           13.94,
           0,
           0,
           9.29,
           37.19,
           55.79,
           0,
           18.59,
           1.85,
           0,
           13.94,
           18.59,
           0,
           0,
           9.29,
           0,
           9.29,
           3.25,
           33.47,
           18.59,
           55.79,
           37.19,
           9.29,
           9.29,
           0,
           37.19,
           9.29,
           13.94,
           5.8,
           37.19,
           27.89,
           55.79,
           0,
           0,
           4.45,
           12.08,
           12.08,
           4.64,
           18.59,
           23.24,
           13.94,
           23.24,
           18.59,
           0,
           23.24,
           13.94,
           7.43,
           34.87,
           18.59,
           23.24,
           27.89,
           4.64,
           0,
           13.94,
           0,
           9.29,
           27.89,
           9.2,
           9.29,
           18.59,
           27.89,
           0,
           9.29,
           18.59,
           18.59,
           0,
           13.94,
           18.59,
           27.89,
           14.87,
           0,
           13.94,
           32.54,
           13.94,
           0,
           18.59,
           18.59,
           4.64,
           0,
           18.59,
           27.89,
           18.59,
           22.12,
           0,
           27.89,
           27.89,
           18.59,
           5.57,
           0,
           0,
           0,
           37.19,
           15.8,
           15.8,
           27.89,
           18.59,
           27.89,
           37.19,
           11.62,
           10.22,
           46.49,
           46.49,
           13.94,
           2.78,
           27.89,
           9.29,
           0,
           46.49,
           55.79,
           18.59,
           4.64,
           13.94,
           0,
           0,
           27.89,
           18.59,
           0,
           0,
           37.19,
           18.59,
           0,
           9.29,
           18.59,
           18.59,
           0,
           9.29,
           0,
           18.59,
           27.89,
           0,
           55.79,
           0,
           18.59,
           13.94,
           9.29,
           0,
           0,
           27.89,
           13.94,
           18.59,
           0,
           37.19,
           41.84,
           0,
           13.94,
           27.89,
           18.59,
           0.73,
           0,
           4.64,
           13.94,
           41.84,
           0,
           37.19,
           46.49,
           0,
           0,
           18.59,
           4.64,
           27.89,
           23.24,
           0,
           39.28,
           27.89,
           27.89,
           13.94,
           0,
           0,
           18.59,
           3.71,
           27.89,
           37.19,
           18.59,
           0,
           9.29,
           4.64,
           18.59,
           9.3,
           4.64,
           0,
           4.59,
           0,
           0,
           4.64,
           41.84,
           0,
           0,
           13.94,
           0,
           7.43,
           9.29,
           13.94,
           18.59,
           0,
           0,
           13.94,
           18.59,
           0,
           0,
           18.59,
           0,
           37.19,
           27.89,
           13.94,
           37.19,
           0,
           27.89,
           0,
           0,
           0,
           0,
           0,
           9.29,
           0,
           16.73,
           55.79,
           37.19,
           18.59,
           13.94,
           18.59,
           0,
           18.59,
           18.59,
           18.59,
           46.49,
           27.89,
           2.78,
           18.59,
           4.64,
           55.79,
           0.92,
           4.64,
           4.64,
           27.89,
           9.29,
           18.59,
           27.89,
           27.89,
           0.49,
           37.19,
           0,
           18.59,
           0,
           37.19,
           2.78,
           27.89,
           13.94,
           14.87,
           18.59,
           27.89,
           2.32,
           0,
           0,
           3.71,
           0,
           3.48,
           18.59,
           18.59,
           6.97,
           18.59,
           18.59,
           0,
           18.59,
           0,
           27.89,
           18.59,
           0,
           5.57,
           41.84,
           4.64,
           18.59,
           2.78,
           18.59,
           0,
           13.94,
           0,
           11.15,
           46.49,
           0,
           0,
           0,
           37.19,
           18.59,
           55.79,
           0,
           27.89,
           0.92,
           18.59,
           23.24,
           18.59,
           18.59,
           15.8,
           18.59,
           27.89,
           5.57,
           0,
           13.94,
           9.29,
           0,
           37.19,
           0,
           18.59,
           20.45,
           12.08,
           18.59,
           37.19,
           55.79,
           0,
           23.24,
           27.89,
           3.25,
           13.94,
           13.94,
           46.49,
           0,
           0,
           4.64,
           0,
           23.24,
           4.64,
           37.19,
           37.19,
           18.59,
           46.49,
           18.59,
           0,
           9.29,
           9.29,
           0,
           18.59,
           6.5,
           23.24,
           0,
           13.94,
           0,
           18.59,
           0,
           0,
           55.79,
           37.19,
           37.19,
           0,
           5.57,
           9.29,
           0,
           23.24,
           0,
           3.48,
           22.31,
           55.79,
           0,
           13.94,
           18.59,
           0,
           27.89,
           2.78,
           0,
           18.59,
           18.59,
           6.97,
           0,
           0,
           0,
           0,
           0,
           9.29,
           18.59,
           18.59,
           9.29,
           0,
           0,
           5.57,
           6.5,
           0,
           0,
           3.25,
           3.25,
           27.89,
           18.59,
           27.89,
           27.89,
           13.94,
           9.29,
           13.01,
           37.19,
           0,
           55.79,
           18.59,
           55.79,
           9.29,
           3.25,
           9.29,
           13.94,
           2.78,
           13.94,
           5.57,
           27.89,
           9.29,
           0,
           18.59,
           37.19,
           0,
           18.59,
           18.4,
           23.24,
           0,
           9.29,
           17.66,
           4.64,
           12.08,
           4.64,
           0,
           23.24,
           18.56,
           2.32,
           0,
           0,
           0,
           0.92,
           0,
           27.89,
           3.48,
           13.94,
           9.29,
           0,
           18.59,
           9.29,
           4.64,
           18.59,
           37.19,
           23.24,
           37.19,
           18.59,
           18.59,
           9.29,
           6.13,
           18.59,
           0,
           0,
           13.94,
           18.59,
           18.59,
           5.57,
           46.49,
           5.57,
           18.59,
           0,
           55.79,
           18.59,
           27.89,
           0,
           20.82,
           18.59,
           1.85,
           6.27,
           28.04,
           18.59,
           4.64,
           0,
           0,
           1.85,
           1.85,
           27.89,
           27.89,
           46.49,
           37.19,
           23.24,
           0,
           6.5,
           27.89,
           27.89,
           23.24,
           0,
           18.59,
           32.54,
           27.89,
           5.57,
           13.94,
           0,
           9.29,
           1.85,
           4.18,
           27.89,
           12.08,
           0,
           0,
           2.59,
           37.19,
           8.36,
           9.29,
           6.5,
           37.19,
           27.89,
           9.29,
           0,
           0,
           55.79,
           0,
           18.59,
           27.89,
           18.4,
           27.89,
           9.29,
           6.5,
           4.64,
           18.59,
           13.94,
           3.25,
           0,
           0,
           0,
           41.84,
           4.64,
           27.89,
           23.24,
           16.73,
           16.73,
           6.5,
           8.36,
           55.79,
           18.59,
           3.71,
           0,
           9.29,
           27.89,
           37.19,
           46.49,
           18.59,
           37.19,
           0,
           3.71,
           0,
           55.35,
           1.85,
           0,
           18.59,
           0,
           13.94,
           37.19,
           27.89,
           27.89,
           27.89,
           37.19,
           18.59,
           7.9,
           9.29,
           18.59,
           1.85,
           18.59,
           20.92,
           4.18,
           9.29,
           0,
           0,
           13.94,
           11.15,
           18.59,
           3.71,
           14.87,
           13.94,
           4.64,
           13.94,
           13.94,
           13.94,
           13.94,
           13.94,
           18.59,
           18.4,
           9.29,
           27.89,
           3.48,
           3.48,
           1.85,
           0,
           46.49,
           0,
           13.94,
           27.89,
           27.89,
           55.79,
           18.4,
           7.43,
           13.94,
           18.59,
           4.45,
           18.59,
           0.9,
           5.57,
           4.64,
           27.89,
           18.59,
           0,
           9.29,
           18.59,
           0.92,
           1.94,
           18.59,
           11.15,
           0,
           0,
           37.19,
           3.25,
           0,
           9.29,
           46.49,
           0,
           18.59,
           23.24,
           0,
           18.59,
           27.89,
           0,
           18.59,
           18.59,
           23.24,
           12.08,
           46.49,
           0,
           9.29,
           9.29,
           15.8,
           0,
           18.59,
           0,
           13.94,
           18.59,
           27.89,
           0,
           4.64,
           23.24,
           18.59,
           27.89,
           9.29,
           0,
           0,
           13.94,
           18.59,
           37.19,
           12.08,
           0,
           51.14,
           4.64,
           51.14,
           18.59,
           0,
           18.59,
           27.89,
           0,
           0,
           37.19,
           0,
           13.94,
           8.36,
           18.59,
           9.29,
           12.08,
           23.24,
           18.59,
           0,
           2.78,
           27.89,
           0.55,
           18.59,
           18.59,
           1.85,
           2.78,
           0,
           0,
           13.94,
           27.89,
           9.29,
           27.89,
           0,
           0,
           18.59,
           0,
           12.08,
           0,
           27.89,
           7.43,
           23.24,
           4.64,
           13.94,
           23.24,
           0,
           18.59,
           0,
           18.59,
           46.49,
           11.15,
           13.94,
           32.54,
           9.29,
           12.08,
           9.29,
           0,
           55.79,
           18.59,
           12.08,
           18.59,
           13.94,
           0,
           0,
           0,
           0,
           17.66,
           18.59,
           3.71,
           0,
           18.59,
           2.32,
           46.49,
           3.71,
           37.19,
           13.94,
           18.59,
           0,
           13.94,
           0,
           18.59,
           0,
           37.19,
           5.57,
           23.24,
           0,
           0,
           18.59,
           4.18,
           0.92,
           18.59,
           18.59,
           18.59,
           0,
           2.78,
           0,
           51.14,
           0,
           0,
           0,
           37.19
          ],
          "coloraxis": "coloraxis",
          "symbol": "circle"
         },
         "mode": "markers",
         "name": "",
         "showlegend": false,
         "type": "scattergl",
         "x": [
          39211,
          29752,
          24257,
          10660,
          7732,
          7183,
          13400,
          3900,
          2219,
          6182,
          7146,
          17630,
          17630,
          7590,
          2184,
          5349,
          5326,
          6520,
          1948,
          15094,
          11844,
          5703,
          10419,
          3519,
          55,
          11299,
          1269,
          0,
          7377,
          3422,
          4307,
          7795,
          1428,
          2560,
          1340,
          9198,
          583,
          3435,
          2163,
          11547,
          14,
          7099,
          3729,
          2514,
          809,
          2051,
          15870,
          3970,
          1174,
          2462,
          333,
          2704,
          2589,
          7438,
          608,
          8604,
          9048,
          1101,
          4514,
          1093,
          1141,
          1804,
          1628,
          2917,
          440,
          4826,
          772,
          324,
          2426,
          205,
          4159,
          9108,
          9765,
          6378,
          2782,
          521,
          1165,
          10018,
          47,
          6537,
          3326,
          5511,
          341,
          11255,
          2477,
          673,
          4878,
          563,
          1956,
          1916,
          543,
          489,
          1285,
          8563,
          643,
          1023,
          685,
          292,
          1721,
          3003,
          455,
          54,
          625,
          8609,
          5556,
          3978,
          1099,
          4864,
          4174,
          601,
          16299,
          7299,
          5874,
          835,
          3205,
          2014,
          3760,
          3399,
          3602,
          3353,
          589,
          990,
          1193,
          288,
          39,
          1085,
          392,
          51,
          1218,
          17176,
          3493,
          57,
          592,
          355,
          618,
          2118,
          596,
          2741,
          196,
          367,
          2207,
          1484,
          748,
          414,
          676,
          3097,
          4076,
          1031,
          1356,
          6325,
          643,
          2915,
          2438,
          5885,
          3964,
          4028,
          2040,
          390,
          556,
          2221,
          4842,
          738,
          1213,
          14429,
          2447,
          1035,
          1680,
          2592,
          341,
          1663,
          135,
          567,
          151,
          1089,
          358,
          2558,
          1155,
          7307,
          1638,
          625,
          3678,
          1199,
          3163,
          709,
          957,
          1674,
          4375,
          4916,
          1105,
          677,
          2568,
          7664,
          272,
          14918,
          731,
          7372,
          662,
          191,
          313,
          2007,
          1391,
          3536,
          1547,
          496,
          776,
          751,
          1073,
          462,
          1091,
          299,
          3282,
          4149,
          2685,
          2896,
          261,
          298,
          559,
          2044,
          717,
          2254,
          985,
          3266,
          610,
          841,
          0,
          508,
          5729,
          919,
          367,
          2651,
          478,
          477,
          8210,
          2632,
          3355,
          55912,
          12758,
          652,
          685,
          3332,
          2368,
          2365,
          178,
          1503,
          4109,
          563,
          1738,
          13388,
          503,
          1320,
          341,
          4447,
          5945,
          1195,
          319,
          360,
          862,
          552,
          4408,
          2396,
          4225,
          1743,
          1494,
          359,
          2211,
          2902,
          185,
          1511,
          1254,
          2134,
          1437,
          0,
          1257,
          1548,
          500,
          2060,
          1414,
          685,
          457,
          1416,
          375,
          112,
          474,
          1945,
          283,
          188,
          4519,
          2649,
          642,
          1009,
          1701,
          1218,
          2363,
          1208,
          852,
          852,
          568,
          3144,
          362,
          1750,
          655,
          4120,
          1303,
          5074,
          986,
          333,
          822,
          591,
          591,
          388,
          5735,
          1660,
          243,
          371,
          4315,
          4743,
          1823,
          619,
          298,
          1086,
          932,
          3755,
          2860,
          431,
          554,
          698,
          813,
          336,
          9115,
          940,
          1976,
          809,
          1487,
          238,
          1606,
          452,
          8566,
          165,
          619,
          368,
          283,
          790,
          299,
          335,
          3183,
          866,
          99,
          853,
          817,
          1320,
          914,
          299,
          1642,
          908,
          871,
          362,
          1926,
          924,
          707,
          1258,
          3863,
          462,
          1656,
          1978,
          3244,
          3244,
          807,
          764,
          4120,
          3963,
          1901,
          0,
          7941,
          1823,
          491,
          190,
          995,
          512,
          0,
          2636,
          2377,
          1280,
          19065,
          2489,
          1520,
          2707,
          2341,
          2511,
          381,
          181,
          839,
          497,
          1920,
          568,
          700,
          964,
          539,
          1939,
          1573,
          623,
          1011,
          239,
          878,
          837,
          1848,
          256,
          258,
          1040,
          73,
          2555,
          570,
          1828,
          376,
          854,
          1735,
          1966,
          241,
          1048,
          825,
          502,
          2370,
          149,
          729,
          1245,
          195,
          763,
          2592,
          9590,
          3415,
          991,
          512,
          3709,
          258,
          443,
          2936,
          453,
          1636,
          348,
          11941,
          343,
          3105,
          1083,
          2215,
          1833,
          1300,
          0,
          313,
          907,
          863,
          226,
          445,
          380,
          645,
          1213,
          2446,
          236,
          4272,
          529,
          1249,
          360,
          10292,
          1120,
          412,
          357,
          2931,
          1706,
          445,
          439,
          870,
          812,
          1146,
          1138,
          170,
          3047,
          675,
          350,
          2445,
          544,
          594,
          451,
          464,
          338,
          196,
          895,
          923,
          913,
          9761,
          10307,
          934,
          591,
          297,
          1170,
          2486,
          982,
          1071,
          566,
          6248,
          1569,
          411,
          952,
          438,
          1673,
          363,
          187,
          187,
          8025,
          395,
          1352,
          1135,
          338,
          717,
          1325,
          282,
          228,
          2358,
          2908,
          732,
          4224,
          266,
          1153,
          4484,
          352,
          308,
          257,
          824,
          530,
          49804,
          0,
          1126,
          1961,
          1607,
          1017,
          1794,
          1470,
          1055,
          129,
          1146,
          1187,
          128,
          313,
          768,
          484,
          2527,
          730,
          313,
          232,
          285,
          132,
          5548,
          974,
          964,
          89,
          212,
          495,
          923,
          1432,
          60,
          8461,
          251,
          939,
          976,
          226,
          482,
          637,
          426,
          367,
          579,
          781,
          411,
          858,
          146,
          3035,
          1768,
          1343,
          245,
          731,
          868,
          4068,
          3407,
          254,
          5272,
          495,
          23,
          248,
          710,
          1375,
          5912,
          346,
          2354,
          704,
          979,
          19446,
          820,
          635,
          264,
          2078,
          957,
          118,
          317,
          690,
          407,
          745,
          0,
          683,
          105,
          308,
          1358,
          1218,
          5988,
          542,
          9687,
          758,
          2554,
          1552,
          743,
          949,
          3343,
          2930,
          215,
          1192,
          446,
          1378,
          2710,
          1628,
          666,
          634,
          582,
          818,
          447,
          1483,
          689,
          1769,
          106,
          106,
          1537,
          264,
          52,
          1080,
          770,
          883,
          409,
          52,
          1666,
          309,
          2150,
          339,
          0,
          690,
          690,
          786,
          958,
          1438,
          1438,
          394,
          525,
          2188,
          4607,
          68,
          1229,
          1063,
          3243,
          645,
          231,
          252,
          1268,
          453,
          658,
          315,
          1005,
          991,
          5917,
          101,
          1039,
          2219,
          1507,
          475,
          164,
          839,
          818,
          0,
          3429,
          1669,
          1025,
          5615,
          3212,
          424,
          145,
          9045,
          2013,
          110,
          305,
          175,
          4950,
          173,
          204,
          115,
          267,
          543,
          209,
          215,
          1278,
          1450,
          2178,
          1511,
          303,
          573,
          311,
          1071,
          446,
          505,
          103,
          431,
          211,
          188,
          752,
          1621,
          401,
          379,
          710,
          2043,
          1436,
          481,
          5282,
          864,
          494,
          298,
          1602,
          148,
          2908,
          177,
          9936,
          52,
          772,
          772,
          1828,
          1828,
          1785,
          1472,
          5586,
          191,
          96,
          950,
          1857,
          1905,
          89,
          591,
          4855,
          0,
          1694,
          380,
          487,
          409,
          138,
          864,
          1367,
          385,
          253,
          381,
          988,
          1833,
          1907,
          789,
          2370,
          570,
          1244,
          848,
          952,
          0,
          1647,
          999,
          271,
          318,
          1296,
          269,
          258,
          339,
          209,
          3165,
          730,
          282,
          3206,
          8663,
          292,
          4431,
          763,
          645,
          1455,
          669,
          1080,
          312,
          197,
          1697,
          215,
          1742,
          355,
          880,
          358,
          380,
          1041,
          235,
          1013,
          5087,
          1426,
          344,
          325,
          0,
          583,
          585,
          616,
          850,
          715,
          1168,
          346,
          2372,
          2418,
          164,
          341,
          335,
          950,
          174,
          325,
          2219,
          512,
          289,
          230,
          647,
          1178,
          173,
          300,
          200,
          802,
          319,
          1610,
          740,
          198,
          831,
          514,
          840,
          681,
          494,
          26385,
          380,
          427,
          427,
          207,
          423,
          9008,
          701,
          188,
          1008,
          1391,
          1539,
          1425,
          251,
          485,
          439,
          1111,
          570,
          294,
          237,
          990,
          1171,
          390,
          158,
          396,
          1613,
          333,
          345,
          1625,
          2148,
          717,
          2571,
          1796,
          1230,
          309,
          312,
          1514,
          249,
          2201,
          997,
          927,
          598,
          52,
          1280,
          980,
          606,
          305,
          693,
          4738,
          266,
          469,
          315,
          2454,
          69,
          594,
          4647,
          658,
          658,
          1554,
          232,
          4187,
          400,
          1222,
          368,
          383,
          136,
          533,
          1130,
          376,
          1507,
          2514,
          7935,
          99,
          310,
          150,
          1920,
          3900,
          271,
          2020,
          7145,
          170,
          3644,
          111,
          878,
          83,
          823,
          543,
          1934,
          1519,
          586,
          67,
          169,
          1305,
          621,
          783,
          1312,
          203,
          465,
          1878,
          411,
          1111,
          831,
          232,
          492,
          288,
          0,
          338,
          1090,
          1380,
          77,
          636,
          24,
          1515,
          1127,
          405,
          2209,
          178,
          1117,
          0,
          642,
          1275,
          662,
          763,
          2009,
          312,
          2040,
          1324,
          3290,
          5212,
          2252,
          861,
          2722,
          177,
          3193,
          271,
          214,
          544,
          2681,
          300,
          136,
          74,
          520,
          198,
          869,
          693,
          575,
          183,
          190,
          652,
          102,
          1858,
          671,
          0,
          2146,
          773,
          522,
          2631,
          152,
          486,
          1257,
          241,
          2984,
          4096,
          587,
          418,
          285,
          1976,
          231,
          89,
          1533,
          1533,
          441
         ],
         "xaxis": "x",
         "y": [
          1777245,
          6892618,
          1333940,
          191896,
          964115,
          621875,
          1504858,
          302765,
          808870,
          141782,
          488435,
          893366,
          893366,
          492163,
          204026,
          368265,
          711466,
          1220359,
          293099,
          1051886,
          1008913,
          539464,
          469158,
          729053,
          11301,
          563666,
          622927,
          118921,
          580624,
          416022,
          579299,
          192066,
          504152,
          423662,
          387796,
          569595,
          55166,
          732673,
          291540,
          227624,
          4891,
          717723,
          156473,
          105289,
          118547,
          628315,
          507469,
          115461,
          376244,
          232932,
          11325,
          105635,
          91284,
          160419,
          74938,
          365888,
          165825,
          61925,
          109439,
          86616,
          317130,
          281194,
          73384,
          256981,
          116676,
          264688,
          110808,
          148191,
          114485,
          954,
          483616,
          208507,
          269814,
          188585,
          253999,
          26982,
          57930,
          82368,
          4560,
          299105,
          234179,
          272408,
          5480,
          235770,
          262809,
          103080,
          30434,
          22266,
          74529,
          383679,
          62967,
          56264,
          19392,
          283551,
          220924,
          150367,
          3364,
          5939,
          135589,
          253255,
          26198,
          2377,
          181099,
          256754,
          306538,
          261844,
          46865,
          348993,
          637019,
          56845,
          246565,
          173389,
          157753,
          51166,
          97006,
          203683,
          156965,
          62767,
          185902,
          282942,
          33789,
          144287,
          8525,
          21360,
          2917,
          167815,
          62410,
          5975,
          54408,
          107276,
          53835,
          6911,
          23191,
          27372,
          42831,
          220764,
          157019,
          230367,
          14269,
          67675,
          249757,
          118887,
          74378,
          37001,
          28876,
          82717,
          77786,
          143804,
          52370,
          73921,
          186122,
          222021,
          122577,
          148452,
          88760,
          61346,
          240489,
          80443,
          101454,
          49892,
          144503,
          67749,
          51860,
          28355,
          54482,
          112423,
          27577,
          107624,
          15114,
          142421,
          50031,
          43555,
          7469,
          77090,
          34403,
          86141,
          28040,
          70459,
          117716,
          148812,
          23326,
          9017,
          227985,
          2474,
          167807,
          118647,
          74013,
          168157,
          67669,
          48030,
          120150,
          153240,
          130045,
          174519,
          196625,
          77415,
          210700,
          2333,
          107477,
          150578,
          96011,
          51780,
          100606,
          3560,
          37444,
          45344,
          62055,
          26322,
          116132,
          19803,
          50395,
          42714,
          94790,
          143326,
          30328,
          26964,
          13927,
          120420,
          114541,
          59798,
          49975,
          264958,
          44617,
          73545,
          31664,
          22042,
          141773,
          116156,
          10654,
          20225,
          5777,
          37138,
          16313,
          108884,
          110590,
          63181,
          112711,
          16979,
          44564,
          287078,
          96184,
          186992,
          51789,
          87605,
          75161,
          55449,
          120214,
          96626,
          37856,
          133894,
          22070,
          15128,
          131285,
          68287,
          20086,
          108520,
          75437,
          27850,
          133347,
          61331,
          15124,
          324032,
          24502,
          92417,
          74388,
          54587,
          47053,
          94416,
          66098,
          34775,
          111173,
          53458,
          39913,
          28848,
          30091,
          34107,
          32118,
          85236,
          10965,
          98819,
          29602,
          49122,
          5948,
          68747,
          188799,
          17482,
          69427,
          64559,
          92811,
          86469,
          85557,
          87384,
          120970,
          98193,
          67793,
          67793,
          12237,
          73893,
          14563,
          43315,
          52124,
          113304,
          92617,
          67467,
          30827,
          32323,
          121503,
          1773,
          1773,
          13184,
          140825,
          79499,
          7603,
          28309,
          116346,
          19527,
          46417,
          5637,
          27315,
          137764,
          177536,
          107383,
          50189,
          20213,
          12014,
          64470,
          9673,
          89452,
          70881,
          118528,
          102023,
          6259,
          49109,
          12394,
          67220,
          41366,
          62041,
          13836,
          53915,
          31023,
          23438,
          28987,
          19050,
          22584,
          22870,
          42630,
          114070,
          44577,
          42463,
          54819,
          12458,
          22695,
          42945,
          41884,
          14312,
          12193,
          105680,
          58067,
          88761,
          51231,
          54671,
          21611,
          12921,
          42016,
          40370,
          40370,
          40927,
          29901,
          103570,
          82540,
          70136,
          0,
          93840,
          82162,
          38137,
          12906,
          126793,
          59152,
          3776,
          65775,
          84389,
          46052,
          57165,
          15705,
          18014,
          16122,
          98853,
          81287,
          7035,
          12379,
          49730,
          71783,
          67457,
          64389,
          103991,
          12175,
          8119,
          64633,
          10306,
          55306,
          70095,
          19739,
          48573,
          5422,
          28646,
          34808,
          10292,
          8453,
          5672,
          99495,
          33465,
          102935,
          14419,
          20040,
          69461,
          16956,
          40785,
          90685,
          42355,
          80419,
          31366,
          34432,
          17477,
          45330,
          10409,
          99992,
          56930,
          22301,
          46175,
          37225,
          25885,
          75546,
          28198,
          16370,
          94635,
          20998,
          49094,
          44469,
          19574,
          15247,
          93337,
          19889,
          35295,
          37713,
          32882,
          7576,
          34855,
          46926,
          55900,
          2068,
          52254,
          26262,
          54004,
          10721,
          15839,
          4982,
          26545,
          34500,
          15963,
          39709,
          8906,
          27698,
          51827,
          13989,
          86668,
          7911,
          49126,
          25554,
          36838,
          23094,
          16359,
          10074,
          18142,
          55093,
          12704,
          16812,
          28293,
          15396,
          23408,
          50701,
          13784,
          27898,
          10152,
          6756,
          21368,
          14790,
          67187,
          43024,
          28670,
          56583,
          31660,
          86238,
          22566,
          10751,
          65453,
          4340,
          135529,
          76964,
          13842,
          26461,
          64382,
          56459,
          1736,
          43604,
          43604,
          38303,
          15672,
          44369,
          21286,
          56761,
          93879,
          107374,
          9502,
          8064,
          8110,
          60902,
          24426,
          37251,
          34291,
          27728,
          24611,
          36952,
          16452,
          73412,
          33608,
          21307,
          6554,
          42098,
          33515,
          58443,
          29820,
          42670,
          43957,
          11336,
          113982,
          10455,
          80649,
          23465,
          5407,
          49697,
          57168,
          58495,
          26475,
          54969,
          53558,
          12937,
          11878,
          11977,
          26350,
          13082,
          27414,
          25813,
          4678,
          63187,
          74137,
          13440,
          16833,
          58444,
          21606,
          77037,
          65796,
          92235,
          14473,
          34028,
          23852,
          43738,
          57702,
          8934,
          62084,
          11504,
          19657,
          85617,
          5227,
          18965,
          16624,
          35617,
          25444,
          12402,
          30056,
          19745,
          29436,
          17002,
          3682,
          7685,
          11056,
          26236,
          10618,
          14740,
          68614,
          5198,
          55626,
          62792,
          82349,
          59838,
          61305,
          82781,
          35008,
          5437,
          69782,
          7412,
          8720,
          15638,
          1,
          25856,
          924,
          10170,
          59082,
          23383,
          10813,
          6985,
          57284,
          10604,
          39352,
          12763,
          31551,
          22224,
          19221,
          34788,
          4433,
          42098,
          53135,
          44762,
          22669,
          42275,
          15873,
          5487,
          14516,
          20230,
          11575,
          50813,
          28607,
          20254,
          4895,
          4895,
          12209,
          6300,
          6092,
          34126,
          957,
          13601,
          11499,
          27740,
          14624,
          20110,
          61009,
          11999,
          10778,
          26728,
          26728,
          31061,
          46014,
          28142,
          28142,
          12648,
          31832,
          39955,
          24508,
          15562,
          34258,
          46369,
          39929,
          27510,
          13993,
          7352,
          51818,
          16538,
          18157,
          2202,
          10194,
          47442,
          10348,
          3051,
          13040,
          16138,
          12757,
          26989,
          32823,
          7822,
          24096,
          28,
          12581,
          10335,
          11002,
          22667,
          28830,
          14842,
          5076,
          43414,
          31738,
          23551,
          1276,
          7346,
          20058,
          38182,
          66179,
          12539,
          6929,
          20717,
          13309,
          16205,
          6244,
          21597,
          20857,
          11122,
          20365,
          2819,
          4961,
          34692,
          14839,
          6943,
          5619,
          5948,
          28085,
          6685,
          22403,
          14183,
          23601,
          10330,
          96630,
          34660,
          17202,
          15803,
          7289,
          45866,
          24565,
          159,
          70253,
          9041,
          14231,
          21325,
          16708,
          8079,
          627,
          627,
          15194,
          15194,
          39081,
          21084,
          18666,
          3378,
          3057,
          14922,
          15986,
          29041,
          3685,
          36631,
          57250,
          10545,
          28592,
          16369,
          7350,
          11450,
          7395,
          13294,
          16437,
          9022,
          2696,
          4632,
          27795,
          23108,
          20093,
          8235,
          33977,
          53272,
          22800,
          15434,
          61087,
          13,
          11943,
          3354,
          4238,
          5393,
          15087,
          10387,
          8725,
          7207,
          5986,
          44882,
          16908,
          12078,
          13522,
          11584,
          4486,
          25417,
          5767,
          25163,
          24107,
          14201,
          63117,
          34263,
          2919,
          60551,
          6094,
          50580,
          8467,
          37285,
          15007,
          21939,
          20385,
          13070,
          15606,
          11624,
          28390,
          72697,
          455,
          26,
          29140,
          18334,
          25793,
          15789,
          24586,
          16794,
          11338,
          16153,
          17034,
          3382,
          38405,
          3714,
          10809,
          30395,
          15904,
          16217,
          14352,
          12932,
          1828,
          6770,
          30160,
          33750,
          7368,
          29426,
          17301,
          12825,
          32234,
          17286,
          8779,
          14542,
          20339,
          41764,
          8238,
          18775,
          57488,
          10329,
          13966,
          13966,
          3060,
          4755,
          14602,
          5902,
          6922,
          9788,
          27699,
          43141,
          15260,
          631,
          13021,
          14894,
          23008,
          1821,
          12666,
          23747,
          32713,
          29559,
          7303,
          5777,
          12577,
          32446,
          226,
          22873,
          8764,
          18194,
          6036,
          33673,
          10719,
          21101,
          12345,
          7027,
          96011,
          5660,
          19616,
          57859,
          3343,
          21453,
          12371,
          11327,
          63497,
          7996,
          2546,
          18366,
          26027,
          36710,
          5080,
          10243,
          10384,
          3637,
          16045,
          14318,
          28101,
          39949,
          28165,
          1113,
          34489,
          35345,
          11203,
          21929,
          3820,
          13182,
          30590,
          25148,
          2799,
          51145,
          64474,
          406,
          0,
          15306,
          0,
          23897,
          3793,
          8333,
          14141,
          5476,
          8212,
          28370,
          3138,
          7241,
          5657,
          18983,
          10302,
          14652,
          18852,
          4091,
          11488,
          321,
          14319,
          22588,
          32161,
          20722,
          85,
          26027,
          3720,
          10099,
          17292,
          31833,
          7948,
          22322,
          6339,
          2941,
          5401,
          14628,
          7565,
          295,
          12911,
          2508,
          9511,
          18987,
          8619,
          13297,
          1057,
          10900,
          47030,
          3143,
          37450,
          11365,
          31681,
          33797,
          15218,
          11955,
          15943,
          28794,
          30144,
          10453,
          11858,
          5649,
          7811,
          18640,
          4188,
          7119,
          957,
          37399,
          10281,
          3721,
          20103,
          7500,
          1767,
          27120,
          12976,
          14118,
          4943,
          16668,
          16541,
          5318,
          3433,
          22081,
          9025,
          15273,
          9718,
          26765,
          3945,
          6154,
          25345,
          29628,
          77,
          16945,
          41627,
          15071,
          3896,
          3088,
          2859,
          13295,
          12048,
          11302,
          11302,
          33931
         ],
         "yaxis": "y"
        }
       ],
       "layout": {
        "coloraxis": {
         "colorbar": {
          "title": {
           "text": "price"
          }
         },
         "colorscale": [
          [
           0,
           "#0d0887"
          ],
          [
           0.1111111111111111,
           "#46039f"
          ],
          [
           0.2222222222222222,
           "#7201a8"
          ],
          [
           0.3333333333333333,
           "#9c179e"
          ],
          [
           0.4444444444444444,
           "#bd3786"
          ],
          [
           0.5555555555555556,
           "#d8576b"
          ],
          [
           0.6666666666666666,
           "#ed7953"
          ],
          [
           0.7777777777777778,
           "#fb9f3a"
          ],
          [
           0.8888888888888888,
           "#fdca26"
          ],
          [
           1,
           "#f0f921"
          ]
         ]
        },
        "legend": {
         "tracegroupgap": 0
        },
        "template": {
         "data": {
          "bar": [
           {
            "error_x": {
             "color": "#f2f5fa"
            },
            "error_y": {
             "color": "#f2f5fa"
            },
            "marker": {
             "line": {
              "color": "rgb(17,17,17)",
              "width": 0.5
             },
             "pattern": {
              "fillmode": "overlay",
              "size": 10,
              "solidity": 0.2
             }
            },
            "type": "bar"
           }
          ],
          "barpolar": [
           {
            "marker": {
             "line": {
              "color": "rgb(17,17,17)",
              "width": 0.5
             },
             "pattern": {
              "fillmode": "overlay",
              "size": 10,
              "solidity": 0.2
             }
            },
            "type": "barpolar"
           }
          ],
          "carpet": [
           {
            "aaxis": {
             "endlinecolor": "#A2B1C6",
             "gridcolor": "#506784",
             "linecolor": "#506784",
             "minorgridcolor": "#506784",
             "startlinecolor": "#A2B1C6"
            },
            "baxis": {
             "endlinecolor": "#A2B1C6",
             "gridcolor": "#506784",
             "linecolor": "#506784",
             "minorgridcolor": "#506784",
             "startlinecolor": "#A2B1C6"
            },
            "type": "carpet"
           }
          ],
          "choropleth": [
           {
            "colorbar": {
             "outlinewidth": 0,
             "ticks": ""
            },
            "type": "choropleth"
           }
          ],
          "contour": [
           {
            "colorbar": {
             "outlinewidth": 0,
             "ticks": ""
            },
            "colorscale": [
             [
              0,
              "#0d0887"
             ],
             [
              0.1111111111111111,
              "#46039f"
             ],
             [
              0.2222222222222222,
              "#7201a8"
             ],
             [
              0.3333333333333333,
              "#9c179e"
             ],
             [
              0.4444444444444444,
              "#bd3786"
             ],
             [
              0.5555555555555556,
              "#d8576b"
             ],
             [
              0.6666666666666666,
              "#ed7953"
             ],
             [
              0.7777777777777778,
              "#fb9f3a"
             ],
             [
              0.8888888888888888,
              "#fdca26"
             ],
             [
              1,
              "#f0f921"
             ]
            ],
            "type": "contour"
           }
          ],
          "contourcarpet": [
           {
            "colorbar": {
             "outlinewidth": 0,
             "ticks": ""
            },
            "type": "contourcarpet"
           }
          ],
          "heatmap": [
           {
            "colorbar": {
             "outlinewidth": 0,
             "ticks": ""
            },
            "colorscale": [
             [
              0,
              "#0d0887"
             ],
             [
              0.1111111111111111,
              "#46039f"
             ],
             [
              0.2222222222222222,
              "#7201a8"
             ],
             [
              0.3333333333333333,
              "#9c179e"
             ],
             [
              0.4444444444444444,
              "#bd3786"
             ],
             [
              0.5555555555555556,
              "#d8576b"
             ],
             [
              0.6666666666666666,
              "#ed7953"
             ],
             [
              0.7777777777777778,
              "#fb9f3a"
             ],
             [
              0.8888888888888888,
              "#fdca26"
             ],
             [
              1,
              "#f0f921"
             ]
            ],
            "type": "heatmap"
           }
          ],
          "heatmapgl": [
           {
            "colorbar": {
             "outlinewidth": 0,
             "ticks": ""
            },
            "colorscale": [
             [
              0,
              "#0d0887"
             ],
             [
              0.1111111111111111,
              "#46039f"
             ],
             [
              0.2222222222222222,
              "#7201a8"
             ],
             [
              0.3333333333333333,
              "#9c179e"
             ],
             [
              0.4444444444444444,
              "#bd3786"
             ],
             [
              0.5555555555555556,
              "#d8576b"
             ],
             [
              0.6666666666666666,
              "#ed7953"
             ],
             [
              0.7777777777777778,
              "#fb9f3a"
             ],
             [
              0.8888888888888888,
              "#fdca26"
             ],
             [
              1,
              "#f0f921"
             ]
            ],
            "type": "heatmapgl"
           }
          ],
          "histogram": [
           {
            "marker": {
             "pattern": {
              "fillmode": "overlay",
              "size": 10,
              "solidity": 0.2
             }
            },
            "type": "histogram"
           }
          ],
          "histogram2d": [
           {
            "colorbar": {
             "outlinewidth": 0,
             "ticks": ""
            },
            "colorscale": [
             [
              0,
              "#0d0887"
             ],
             [
              0.1111111111111111,
              "#46039f"
             ],
             [
              0.2222222222222222,
              "#7201a8"
             ],
             [
              0.3333333333333333,
              "#9c179e"
             ],
             [
              0.4444444444444444,
              "#bd3786"
             ],
             [
              0.5555555555555556,
              "#d8576b"
             ],
             [
              0.6666666666666666,
              "#ed7953"
             ],
             [
              0.7777777777777778,
              "#fb9f3a"
             ],
             [
              0.8888888888888888,
              "#fdca26"
             ],
             [
              1,
              "#f0f921"
             ]
            ],
            "type": "histogram2d"
           }
          ],
          "histogram2dcontour": [
           {
            "colorbar": {
             "outlinewidth": 0,
             "ticks": ""
            },
            "colorscale": [
             [
              0,
              "#0d0887"
             ],
             [
              0.1111111111111111,
              "#46039f"
             ],
             [
              0.2222222222222222,
              "#7201a8"
             ],
             [
              0.3333333333333333,
              "#9c179e"
             ],
             [
              0.4444444444444444,
              "#bd3786"
             ],
             [
              0.5555555555555556,
              "#d8576b"
             ],
             [
              0.6666666666666666,
              "#ed7953"
             ],
             [
              0.7777777777777778,
              "#fb9f3a"
             ],
             [
              0.8888888888888888,
              "#fdca26"
             ],
             [
              1,
              "#f0f921"
             ]
            ],
            "type": "histogram2dcontour"
           }
          ],
          "mesh3d": [
           {
            "colorbar": {
             "outlinewidth": 0,
             "ticks": ""
            },
            "type": "mesh3d"
           }
          ],
          "parcoords": [
           {
            "line": {
             "colorbar": {
              "outlinewidth": 0,
              "ticks": ""
             }
            },
            "type": "parcoords"
           }
          ],
          "pie": [
           {
            "automargin": true,
            "type": "pie"
           }
          ],
          "scatter": [
           {
            "marker": {
             "line": {
              "color": "#283442"
             }
            },
            "type": "scatter"
           }
          ],
          "scatter3d": [
           {
            "line": {
             "colorbar": {
              "outlinewidth": 0,
              "ticks": ""
             }
            },
            "marker": {
             "colorbar": {
              "outlinewidth": 0,
              "ticks": ""
             }
            },
            "type": "scatter3d"
           }
          ],
          "scattercarpet": [
           {
            "marker": {
             "colorbar": {
              "outlinewidth": 0,
              "ticks": ""
             }
            },
            "type": "scattercarpet"
           }
          ],
          "scattergeo": [
           {
            "marker": {
             "colorbar": {
              "outlinewidth": 0,
              "ticks": ""
             }
            },
            "type": "scattergeo"
           }
          ],
          "scattergl": [
           {
            "marker": {
             "line": {
              "color": "#283442"
             }
            },
            "type": "scattergl"
           }
          ],
          "scattermapbox": [
           {
            "marker": {
             "colorbar": {
              "outlinewidth": 0,
              "ticks": ""
             }
            },
            "type": "scattermapbox"
           }
          ],
          "scatterpolar": [
           {
            "marker": {
             "colorbar": {
              "outlinewidth": 0,
              "ticks": ""
             }
            },
            "type": "scatterpolar"
           }
          ],
          "scatterpolargl": [
           {
            "marker": {
             "colorbar": {
              "outlinewidth": 0,
              "ticks": ""
             }
            },
            "type": "scatterpolargl"
           }
          ],
          "scatterternary": [
           {
            "marker": {
             "colorbar": {
              "outlinewidth": 0,
              "ticks": ""
             }
            },
            "type": "scatterternary"
           }
          ],
          "surface": [
           {
            "colorbar": {
             "outlinewidth": 0,
             "ticks": ""
            },
            "colorscale": [
             [
              0,
              "#0d0887"
             ],
             [
              0.1111111111111111,
              "#46039f"
             ],
             [
              0.2222222222222222,
              "#7201a8"
             ],
             [
              0.3333333333333333,
              "#9c179e"
             ],
             [
              0.4444444444444444,
              "#bd3786"
             ],
             [
              0.5555555555555556,
              "#d8576b"
             ],
             [
              0.6666666666666666,
              "#ed7953"
             ],
             [
              0.7777777777777778,
              "#fb9f3a"
             ],
             [
              0.8888888888888888,
              "#fdca26"
             ],
             [
              1,
              "#f0f921"
             ]
            ],
            "type": "surface"
           }
          ],
          "table": [
           {
            "cells": {
             "fill": {
              "color": "#506784"
             },
             "line": {
              "color": "rgb(17,17,17)"
             }
            },
            "header": {
             "fill": {
              "color": "#2a3f5f"
             },
             "line": {
              "color": "rgb(17,17,17)"
             }
            },
            "type": "table"
           }
          ]
         },
         "layout": {
          "annotationdefaults": {
           "arrowcolor": "#f2f5fa",
           "arrowhead": 0,
           "arrowwidth": 1
          },
          "autotypenumbers": "strict",
          "coloraxis": {
           "colorbar": {
            "outlinewidth": 0,
            "ticks": ""
           }
          },
          "colorscale": {
           "diverging": [
            [
             0,
             "#8e0152"
            ],
            [
             0.1,
             "#c51b7d"
            ],
            [
             0.2,
             "#de77ae"
            ],
            [
             0.3,
             "#f1b6da"
            ],
            [
             0.4,
             "#fde0ef"
            ],
            [
             0.5,
             "#f7f7f7"
            ],
            [
             0.6,
             "#e6f5d0"
            ],
            [
             0.7,
             "#b8e186"
            ],
            [
             0.8,
             "#7fbc41"
            ],
            [
             0.9,
             "#4d9221"
            ],
            [
             1,
             "#276419"
            ]
           ],
           "sequential": [
            [
             0,
             "#0d0887"
            ],
            [
             0.1111111111111111,
             "#46039f"
            ],
            [
             0.2222222222222222,
             "#7201a8"
            ],
            [
             0.3333333333333333,
             "#9c179e"
            ],
            [
             0.4444444444444444,
             "#bd3786"
            ],
            [
             0.5555555555555556,
             "#d8576b"
            ],
            [
             0.6666666666666666,
             "#ed7953"
            ],
            [
             0.7777777777777778,
             "#fb9f3a"
            ],
            [
             0.8888888888888888,
             "#fdca26"
            ],
            [
             1,
             "#f0f921"
            ]
           ],
           "sequentialminus": [
            [
             0,
             "#0d0887"
            ],
            [
             0.1111111111111111,
             "#46039f"
            ],
            [
             0.2222222222222222,
             "#7201a8"
            ],
            [
             0.3333333333333333,
             "#9c179e"
            ],
            [
             0.4444444444444444,
             "#bd3786"
            ],
            [
             0.5555555555555556,
             "#d8576b"
            ],
            [
             0.6666666666666666,
             "#ed7953"
            ],
            [
             0.7777777777777778,
             "#fb9f3a"
            ],
            [
             0.8888888888888888,
             "#fdca26"
            ],
            [
             1,
             "#f0f921"
            ]
           ]
          },
          "colorway": [
           "#636efa",
           "#EF553B",
           "#00cc96",
           "#ab63fa",
           "#FFA15A",
           "#19d3f3",
           "#FF6692",
           "#B6E880",
           "#FF97FF",
           "#FECB52"
          ],
          "font": {
           "color": "#f2f5fa"
          },
          "geo": {
           "bgcolor": "rgb(17,17,17)",
           "lakecolor": "rgb(17,17,17)",
           "landcolor": "rgb(17,17,17)",
           "showlakes": true,
           "showland": true,
           "subunitcolor": "#506784"
          },
          "hoverlabel": {
           "align": "left"
          },
          "hovermode": "closest",
          "mapbox": {
           "style": "dark"
          },
          "paper_bgcolor": "rgb(17,17,17)",
          "plot_bgcolor": "rgb(17,17,17)",
          "polar": {
           "angularaxis": {
            "gridcolor": "#506784",
            "linecolor": "#506784",
            "ticks": ""
           },
           "bgcolor": "rgb(17,17,17)",
           "radialaxis": {
            "gridcolor": "#506784",
            "linecolor": "#506784",
            "ticks": ""
           }
          },
          "scene": {
           "xaxis": {
            "backgroundcolor": "rgb(17,17,17)",
            "gridcolor": "#506784",
            "gridwidth": 2,
            "linecolor": "#506784",
            "showbackground": true,
            "ticks": "",
            "zerolinecolor": "#C8D4E3"
           },
           "yaxis": {
            "backgroundcolor": "rgb(17,17,17)",
            "gridcolor": "#506784",
            "gridwidth": 2,
            "linecolor": "#506784",
            "showbackground": true,
            "ticks": "",
            "zerolinecolor": "#C8D4E3"
           },
           "zaxis": {
            "backgroundcolor": "rgb(17,17,17)",
            "gridcolor": "#506784",
            "gridwidth": 2,
            "linecolor": "#506784",
            "showbackground": true,
            "ticks": "",
            "zerolinecolor": "#C8D4E3"
           }
          },
          "shapedefaults": {
           "line": {
            "color": "#f2f5fa"
           }
          },
          "sliderdefaults": {
           "bgcolor": "#C8D4E3",
           "bordercolor": "rgb(17,17,17)",
           "borderwidth": 1,
           "tickwidth": 0
          },
          "ternary": {
           "aaxis": {
            "gridcolor": "#506784",
            "linecolor": "#506784",
            "ticks": ""
           },
           "baxis": {
            "gridcolor": "#506784",
            "linecolor": "#506784",
            "ticks": ""
           },
           "bgcolor": "rgb(17,17,17)",
           "caxis": {
            "gridcolor": "#506784",
            "linecolor": "#506784",
            "ticks": ""
           }
          },
          "title": {
           "x": 0.05
          },
          "updatemenudefaults": {
           "bgcolor": "#506784",
           "borderwidth": 0
          },
          "xaxis": {
           "automargin": true,
           "gridcolor": "#283442",
           "linecolor": "#506784",
           "ticks": "",
           "title": {
            "standoff": 15
           },
           "zerolinecolor": "#283442",
           "zerolinewidth": 2
          },
          "yaxis": {
           "automargin": true,
           "gridcolor": "#283442",
           "linecolor": "#506784",
           "ticks": "",
           "title": {
            "standoff": 15
           },
           "zerolinecolor": "#283442",
           "zerolinewidth": 2
          }
         }
        },
        "title": {
         "text": "Relación entre el Tiempo de Juego Promedio y las Reseñas Positivas"
        },
        "xaxis": {
         "anchor": "y",
         "domain": [
          0,
          1
         ],
         "title": {
          "text": "Tiempo de Juego Promedio (min)"
         }
        },
        "yaxis": {
         "anchor": "x",
         "domain": [
          0,
          1
         ],
         "title": {
          "text": "positive"
         }
        }
       }
      }
     },
     "metadata": {},
     "output_type": "display_data"
    }
   ],
   "source": [
    "# Crear un gráfico de dispersión con Plotly Express\n",
    "fig = px.scatter(videogames_data, x=\"average_forever\", y=\"positive\",\n",
    "                 title=\"Relación entre el Tiempo de Juego Promedio y las Reseñas Positivas\",\n",
    "                 labels={\"average_forever\": \"Tiempo de Juego Promedio (min)\", \"positives\": \"Reseñas Positivas\"},\n",
    "                 hover_data=[\"name\", \"price\"],\n",
    "                 template=\"plotly_dark\",\n",
    "                 color=\"price\") \n",
    "\n",
    "fig.show()\n",
    "\n",
    "# Exportar el gráfico como HTML\n",
    "# fig.write_html(\"graphs/6.html\")\n"
   ]
  },
  {
   "cell_type": "markdown",
   "metadata": {},
   "source": [
    "- Observamos al mayoría de puntos concentrados en el extremo inferior izquierdo, lo que sugiere que la mayoría de los juegos tienen un tiempo de juego promedio relativamente bajo y un nº menor de reseñas positivas.\n",
    "- Vemos una leve tendencia que sugiere que los juegos con más tiempo de juego promedio pueden tener más reseñas positivas.\n",
    "- Podemos apreciar como hay menos juegos con un tiempo de juego muy alto, lo cual es esperable ya que los juegos con largas horas de juego suelen ser menos comunes a día de hoy.\n",
    "- El tiempo de juego promedio de la mayoría de los juegos es bajo, con algunos alcanzando valores más altos. Esto refleja el hecho de que hay muchos juegos casuales o con una experiencia de juego más corta en la plataforma."
   ]
  },
  {
   "cell_type": "code",
   "execution_count": 233,
   "metadata": {},
   "outputs": [
    {
     "data": {
      "application/vnd.plotly.v1+json": {
       "config": {
        "plotlyServerURL": "https://plot.ly"
       },
       "data": [
        {
         "hovertemplate": "Año de Lanzamiento=%{x}<br>Tiempo de Juego Promedio (min)=%{y}<extra></extra>",
         "legendgroup": "",
         "line": {
          "color": "#636efa",
          "dash": "solid"
         },
         "marker": {
          "symbol": "circle"
         },
         "mode": "lines",
         "name": "",
         "orientation": "v",
         "showlegend": false,
         "type": "scatter",
         "x": [
          1983,
          1985,
          1986,
          1987,
          1988,
          1992,
          1995,
          1996,
          1997,
          1998,
          1999,
          2000,
          2001,
          2002,
          2003,
          2004,
          2005,
          2006,
          2007,
          2008,
          2009,
          2010,
          2011,
          2012,
          2013,
          2014,
          2015,
          2016,
          2017,
          2018,
          2019,
          2020,
          2021,
          2022,
          2023,
          2024
         ],
         "xaxis": "x",
         "y": [
          1249,
          495.5,
          310,
          341,
          1533,
          0,
          278,
          115,
          323.5,
          440,
          243.66666666666666,
          3955,
          1197.6666666666667,
          1026.4,
          550,
          1235.5,
          498.75,
          1623.1176470588234,
          1921.3333333333333,
          866.5294117647059,
          1015.36,
          1370.888888888889,
          1143.5227272727273,
          1812.1363636363637,
          2338.3030303030305,
          1738.8902439024391,
          1905.8068181818182,
          2668.0843373493976,
          2051.735632183908,
          2731.183908045977,
          2095.3030303030305,
          2364.064935064935,
          2610.6101694915255,
          2596.081632653061,
          1588.1,
          1714
         ],
         "yaxis": "y"
        }
       ],
       "layout": {
        "legend": {
         "tracegroupgap": 0
        },
        "template": {
         "data": {
          "bar": [
           {
            "error_x": {
             "color": "#f2f5fa"
            },
            "error_y": {
             "color": "#f2f5fa"
            },
            "marker": {
             "line": {
              "color": "rgb(17,17,17)",
              "width": 0.5
             },
             "pattern": {
              "fillmode": "overlay",
              "size": 10,
              "solidity": 0.2
             }
            },
            "type": "bar"
           }
          ],
          "barpolar": [
           {
            "marker": {
             "line": {
              "color": "rgb(17,17,17)",
              "width": 0.5
             },
             "pattern": {
              "fillmode": "overlay",
              "size": 10,
              "solidity": 0.2
             }
            },
            "type": "barpolar"
           }
          ],
          "carpet": [
           {
            "aaxis": {
             "endlinecolor": "#A2B1C6",
             "gridcolor": "#506784",
             "linecolor": "#506784",
             "minorgridcolor": "#506784",
             "startlinecolor": "#A2B1C6"
            },
            "baxis": {
             "endlinecolor": "#A2B1C6",
             "gridcolor": "#506784",
             "linecolor": "#506784",
             "minorgridcolor": "#506784",
             "startlinecolor": "#A2B1C6"
            },
            "type": "carpet"
           }
          ],
          "choropleth": [
           {
            "colorbar": {
             "outlinewidth": 0,
             "ticks": ""
            },
            "type": "choropleth"
           }
          ],
          "contour": [
           {
            "colorbar": {
             "outlinewidth": 0,
             "ticks": ""
            },
            "colorscale": [
             [
              0,
              "#0d0887"
             ],
             [
              0.1111111111111111,
              "#46039f"
             ],
             [
              0.2222222222222222,
              "#7201a8"
             ],
             [
              0.3333333333333333,
              "#9c179e"
             ],
             [
              0.4444444444444444,
              "#bd3786"
             ],
             [
              0.5555555555555556,
              "#d8576b"
             ],
             [
              0.6666666666666666,
              "#ed7953"
             ],
             [
              0.7777777777777778,
              "#fb9f3a"
             ],
             [
              0.8888888888888888,
              "#fdca26"
             ],
             [
              1,
              "#f0f921"
             ]
            ],
            "type": "contour"
           }
          ],
          "contourcarpet": [
           {
            "colorbar": {
             "outlinewidth": 0,
             "ticks": ""
            },
            "type": "contourcarpet"
           }
          ],
          "heatmap": [
           {
            "colorbar": {
             "outlinewidth": 0,
             "ticks": ""
            },
            "colorscale": [
             [
              0,
              "#0d0887"
             ],
             [
              0.1111111111111111,
              "#46039f"
             ],
             [
              0.2222222222222222,
              "#7201a8"
             ],
             [
              0.3333333333333333,
              "#9c179e"
             ],
             [
              0.4444444444444444,
              "#bd3786"
             ],
             [
              0.5555555555555556,
              "#d8576b"
             ],
             [
              0.6666666666666666,
              "#ed7953"
             ],
             [
              0.7777777777777778,
              "#fb9f3a"
             ],
             [
              0.8888888888888888,
              "#fdca26"
             ],
             [
              1,
              "#f0f921"
             ]
            ],
            "type": "heatmap"
           }
          ],
          "heatmapgl": [
           {
            "colorbar": {
             "outlinewidth": 0,
             "ticks": ""
            },
            "colorscale": [
             [
              0,
              "#0d0887"
             ],
             [
              0.1111111111111111,
              "#46039f"
             ],
             [
              0.2222222222222222,
              "#7201a8"
             ],
             [
              0.3333333333333333,
              "#9c179e"
             ],
             [
              0.4444444444444444,
              "#bd3786"
             ],
             [
              0.5555555555555556,
              "#d8576b"
             ],
             [
              0.6666666666666666,
              "#ed7953"
             ],
             [
              0.7777777777777778,
              "#fb9f3a"
             ],
             [
              0.8888888888888888,
              "#fdca26"
             ],
             [
              1,
              "#f0f921"
             ]
            ],
            "type": "heatmapgl"
           }
          ],
          "histogram": [
           {
            "marker": {
             "pattern": {
              "fillmode": "overlay",
              "size": 10,
              "solidity": 0.2
             }
            },
            "type": "histogram"
           }
          ],
          "histogram2d": [
           {
            "colorbar": {
             "outlinewidth": 0,
             "ticks": ""
            },
            "colorscale": [
             [
              0,
              "#0d0887"
             ],
             [
              0.1111111111111111,
              "#46039f"
             ],
             [
              0.2222222222222222,
              "#7201a8"
             ],
             [
              0.3333333333333333,
              "#9c179e"
             ],
             [
              0.4444444444444444,
              "#bd3786"
             ],
             [
              0.5555555555555556,
              "#d8576b"
             ],
             [
              0.6666666666666666,
              "#ed7953"
             ],
             [
              0.7777777777777778,
              "#fb9f3a"
             ],
             [
              0.8888888888888888,
              "#fdca26"
             ],
             [
              1,
              "#f0f921"
             ]
            ],
            "type": "histogram2d"
           }
          ],
          "histogram2dcontour": [
           {
            "colorbar": {
             "outlinewidth": 0,
             "ticks": ""
            },
            "colorscale": [
             [
              0,
              "#0d0887"
             ],
             [
              0.1111111111111111,
              "#46039f"
             ],
             [
              0.2222222222222222,
              "#7201a8"
             ],
             [
              0.3333333333333333,
              "#9c179e"
             ],
             [
              0.4444444444444444,
              "#bd3786"
             ],
             [
              0.5555555555555556,
              "#d8576b"
             ],
             [
              0.6666666666666666,
              "#ed7953"
             ],
             [
              0.7777777777777778,
              "#fb9f3a"
             ],
             [
              0.8888888888888888,
              "#fdca26"
             ],
             [
              1,
              "#f0f921"
             ]
            ],
            "type": "histogram2dcontour"
           }
          ],
          "mesh3d": [
           {
            "colorbar": {
             "outlinewidth": 0,
             "ticks": ""
            },
            "type": "mesh3d"
           }
          ],
          "parcoords": [
           {
            "line": {
             "colorbar": {
              "outlinewidth": 0,
              "ticks": ""
             }
            },
            "type": "parcoords"
           }
          ],
          "pie": [
           {
            "automargin": true,
            "type": "pie"
           }
          ],
          "scatter": [
           {
            "marker": {
             "line": {
              "color": "#283442"
             }
            },
            "type": "scatter"
           }
          ],
          "scatter3d": [
           {
            "line": {
             "colorbar": {
              "outlinewidth": 0,
              "ticks": ""
             }
            },
            "marker": {
             "colorbar": {
              "outlinewidth": 0,
              "ticks": ""
             }
            },
            "type": "scatter3d"
           }
          ],
          "scattercarpet": [
           {
            "marker": {
             "colorbar": {
              "outlinewidth": 0,
              "ticks": ""
             }
            },
            "type": "scattercarpet"
           }
          ],
          "scattergeo": [
           {
            "marker": {
             "colorbar": {
              "outlinewidth": 0,
              "ticks": ""
             }
            },
            "type": "scattergeo"
           }
          ],
          "scattergl": [
           {
            "marker": {
             "line": {
              "color": "#283442"
             }
            },
            "type": "scattergl"
           }
          ],
          "scattermapbox": [
           {
            "marker": {
             "colorbar": {
              "outlinewidth": 0,
              "ticks": ""
             }
            },
            "type": "scattermapbox"
           }
          ],
          "scatterpolar": [
           {
            "marker": {
             "colorbar": {
              "outlinewidth": 0,
              "ticks": ""
             }
            },
            "type": "scatterpolar"
           }
          ],
          "scatterpolargl": [
           {
            "marker": {
             "colorbar": {
              "outlinewidth": 0,
              "ticks": ""
             }
            },
            "type": "scatterpolargl"
           }
          ],
          "scatterternary": [
           {
            "marker": {
             "colorbar": {
              "outlinewidth": 0,
              "ticks": ""
             }
            },
            "type": "scatterternary"
           }
          ],
          "surface": [
           {
            "colorbar": {
             "outlinewidth": 0,
             "ticks": ""
            },
            "colorscale": [
             [
              0,
              "#0d0887"
             ],
             [
              0.1111111111111111,
              "#46039f"
             ],
             [
              0.2222222222222222,
              "#7201a8"
             ],
             [
              0.3333333333333333,
              "#9c179e"
             ],
             [
              0.4444444444444444,
              "#bd3786"
             ],
             [
              0.5555555555555556,
              "#d8576b"
             ],
             [
              0.6666666666666666,
              "#ed7953"
             ],
             [
              0.7777777777777778,
              "#fb9f3a"
             ],
             [
              0.8888888888888888,
              "#fdca26"
             ],
             [
              1,
              "#f0f921"
             ]
            ],
            "type": "surface"
           }
          ],
          "table": [
           {
            "cells": {
             "fill": {
              "color": "#506784"
             },
             "line": {
              "color": "rgb(17,17,17)"
             }
            },
            "header": {
             "fill": {
              "color": "#2a3f5f"
             },
             "line": {
              "color": "rgb(17,17,17)"
             }
            },
            "type": "table"
           }
          ]
         },
         "layout": {
          "annotationdefaults": {
           "arrowcolor": "#f2f5fa",
           "arrowhead": 0,
           "arrowwidth": 1
          },
          "autotypenumbers": "strict",
          "coloraxis": {
           "colorbar": {
            "outlinewidth": 0,
            "ticks": ""
           }
          },
          "colorscale": {
           "diverging": [
            [
             0,
             "#8e0152"
            ],
            [
             0.1,
             "#c51b7d"
            ],
            [
             0.2,
             "#de77ae"
            ],
            [
             0.3,
             "#f1b6da"
            ],
            [
             0.4,
             "#fde0ef"
            ],
            [
             0.5,
             "#f7f7f7"
            ],
            [
             0.6,
             "#e6f5d0"
            ],
            [
             0.7,
             "#b8e186"
            ],
            [
             0.8,
             "#7fbc41"
            ],
            [
             0.9,
             "#4d9221"
            ],
            [
             1,
             "#276419"
            ]
           ],
           "sequential": [
            [
             0,
             "#0d0887"
            ],
            [
             0.1111111111111111,
             "#46039f"
            ],
            [
             0.2222222222222222,
             "#7201a8"
            ],
            [
             0.3333333333333333,
             "#9c179e"
            ],
            [
             0.4444444444444444,
             "#bd3786"
            ],
            [
             0.5555555555555556,
             "#d8576b"
            ],
            [
             0.6666666666666666,
             "#ed7953"
            ],
            [
             0.7777777777777778,
             "#fb9f3a"
            ],
            [
             0.8888888888888888,
             "#fdca26"
            ],
            [
             1,
             "#f0f921"
            ]
           ],
           "sequentialminus": [
            [
             0,
             "#0d0887"
            ],
            [
             0.1111111111111111,
             "#46039f"
            ],
            [
             0.2222222222222222,
             "#7201a8"
            ],
            [
             0.3333333333333333,
             "#9c179e"
            ],
            [
             0.4444444444444444,
             "#bd3786"
            ],
            [
             0.5555555555555556,
             "#d8576b"
            ],
            [
             0.6666666666666666,
             "#ed7953"
            ],
            [
             0.7777777777777778,
             "#fb9f3a"
            ],
            [
             0.8888888888888888,
             "#fdca26"
            ],
            [
             1,
             "#f0f921"
            ]
           ]
          },
          "colorway": [
           "#636efa",
           "#EF553B",
           "#00cc96",
           "#ab63fa",
           "#FFA15A",
           "#19d3f3",
           "#FF6692",
           "#B6E880",
           "#FF97FF",
           "#FECB52"
          ],
          "font": {
           "color": "#f2f5fa"
          },
          "geo": {
           "bgcolor": "rgb(17,17,17)",
           "lakecolor": "rgb(17,17,17)",
           "landcolor": "rgb(17,17,17)",
           "showlakes": true,
           "showland": true,
           "subunitcolor": "#506784"
          },
          "hoverlabel": {
           "align": "left"
          },
          "hovermode": "closest",
          "mapbox": {
           "style": "dark"
          },
          "paper_bgcolor": "rgb(17,17,17)",
          "plot_bgcolor": "rgb(17,17,17)",
          "polar": {
           "angularaxis": {
            "gridcolor": "#506784",
            "linecolor": "#506784",
            "ticks": ""
           },
           "bgcolor": "rgb(17,17,17)",
           "radialaxis": {
            "gridcolor": "#506784",
            "linecolor": "#506784",
            "ticks": ""
           }
          },
          "scene": {
           "xaxis": {
            "backgroundcolor": "rgb(17,17,17)",
            "gridcolor": "#506784",
            "gridwidth": 2,
            "linecolor": "#506784",
            "showbackground": true,
            "ticks": "",
            "zerolinecolor": "#C8D4E3"
           },
           "yaxis": {
            "backgroundcolor": "rgb(17,17,17)",
            "gridcolor": "#506784",
            "gridwidth": 2,
            "linecolor": "#506784",
            "showbackground": true,
            "ticks": "",
            "zerolinecolor": "#C8D4E3"
           },
           "zaxis": {
            "backgroundcolor": "rgb(17,17,17)",
            "gridcolor": "#506784",
            "gridwidth": 2,
            "linecolor": "#506784",
            "showbackground": true,
            "ticks": "",
            "zerolinecolor": "#C8D4E3"
           }
          },
          "shapedefaults": {
           "line": {
            "color": "#f2f5fa"
           }
          },
          "sliderdefaults": {
           "bgcolor": "#C8D4E3",
           "bordercolor": "rgb(17,17,17)",
           "borderwidth": 1,
           "tickwidth": 0
          },
          "ternary": {
           "aaxis": {
            "gridcolor": "#506784",
            "linecolor": "#506784",
            "ticks": ""
           },
           "baxis": {
            "gridcolor": "#506784",
            "linecolor": "#506784",
            "ticks": ""
           },
           "bgcolor": "rgb(17,17,17)",
           "caxis": {
            "gridcolor": "#506784",
            "linecolor": "#506784",
            "ticks": ""
           }
          },
          "title": {
           "x": 0.05
          },
          "updatemenudefaults": {
           "bgcolor": "#506784",
           "borderwidth": 0
          },
          "xaxis": {
           "automargin": true,
           "gridcolor": "#283442",
           "linecolor": "#506784",
           "ticks": "",
           "title": {
            "standoff": 15
           },
           "zerolinecolor": "#283442",
           "zerolinewidth": 2
          },
          "yaxis": {
           "automargin": true,
           "gridcolor": "#283442",
           "linecolor": "#506784",
           "ticks": "",
           "title": {
            "standoff": 15
           },
           "zerolinecolor": "#283442",
           "zerolinewidth": 2
          }
         }
        },
        "title": {
         "text": "Tiempo de Juego Promedio por Año de Lanzamiento"
        },
        "xaxis": {
         "anchor": "y",
         "domain": [
          0,
          1
         ],
         "title": {
          "text": "Año de Lanzamiento"
         }
        },
        "yaxis": {
         "anchor": "x",
         "domain": [
          0,
          1
         ],
         "title": {
          "text": "Tiempo de Juego Promedio (min)"
         }
        }
       }
      }
     },
     "metadata": {},
     "output_type": "display_data"
    }
   ],
   "source": [
    "# Convertimos 'release_date' a datetime\n",
    "videogames_data['release_date'] = pd.to_datetime(videogames_data['release_date'])\n",
    "\n",
    "# Extraer el año de la fecha de lanzamiento.\n",
    "videogames_data['release_year'] = videogames_data['release_date'].dt.year\n",
    "\n",
    "# Calcular métricas anuales como el tiempo jugado promedio por año.\n",
    "annual_avg_playtime = videogames_data.groupby('release_year')['average_forever'].mean().reset_index()\n",
    "\n",
    "# Crear un gráfico de líneas con Plotly para visualizar la tendencia a lo largo del tiempo.\n",
    "fig = px.line(annual_avg_playtime, x='release_year', y='average_forever',\n",
    "              title='Tiempo de Juego Promedio por Año de Lanzamiento',\n",
    "              labels={'release_year': 'Año de Lanzamiento', 'average_forever': 'Tiempo de Juego Promedio (min)'},\n",
    "              template=\"plotly_dark\")\n",
    "\n",
    "\n",
    "fig.show()\n",
    "\n",
    "# Exportar el gráfico como HTML\n",
    "# fig.write_html(\"graphs/7.html\")\n"
   ]
  },
  {
   "cell_type": "markdown",
   "metadata": {},
   "source": [
    "- Los primeros años, especialmente antes de 1995, tienen un tiempo de juego promedio más bajo. Esto podría deberse a la naturaleza de los juegos de esa época, que a menudo eran más simples y cortos.\n",
    "- Después del pico del año 2000, parece haber una tendencia más estable en el tiempo de juego promedio, con algunos altibajos. La estabilización puede reflejar una madurez en la industria del juego, con lanzamientos más consistentes en términos de la duración del juego.\n",
    "- Hay una ligera tendencia a la baja en los últimos años mostrados en el gráfico. Esto podría reflejar un cambio en la industria hacia juegos que son más cortos o quizás una mayor presencia de juegos independientes que tienden a tener experiencias de juego más breves en comparación con otros títulos."
   ]
  },
  {
   "cell_type": "code",
   "execution_count": 234,
   "metadata": {},
   "outputs": [
    {
     "data": {
      "application/vnd.plotly.v1+json": {
       "config": {
        "plotlyServerURL": "https://plot.ly"
       },
       "data": [
        {
         "alignmentgroup": "True",
         "customdata": [
          [
           377,
           33663419
          ],
          [
           209,
           17942664
          ],
          [
           298,
           22665745
          ],
          [
           87,
           10400398
          ],
          [
           41,
           6232042
          ]
         ],
         "hovertemplate": "Categoría: %{x}<br>Total de Juegos: %{customdata[0]}<br>Total de Reseñas: %{customdata[1]}",
         "legendgroup": "positive",
         "marker": {
          "color": "#636efa",
          "pattern": {
           "shape": ""
          }
         },
         "name": "positive",
         "offsetgroup": "positive",
         "orientation": "v",
         "showlegend": true,
         "textposition": "auto",
         "type": "bar",
         "x": [
          "Gratis o Muy Barato 0-5",
          "Barato 5-15",
          "Moderado 15-30",
          "Caro 30-50",
          "Muy Caro +50"
         ],
         "xaxis": "x",
         "y": [
          73743.05835543766,
          79171.2009569378,
          68250.4966442953,
          102068.98850574713,
          132815.0975609756
         ],
         "yaxis": "y"
        },
        {
         "alignmentgroup": "True",
         "customdata": [
          [
           377,
           33663419
          ],
          [
           209,
           17942664
          ],
          [
           298,
           22665745
          ],
          [
           87,
           10400398
          ],
          [
           41,
           6232042
          ]
         ],
         "hovertemplate": "Categoría: %{x}<br>Total de Juegos: %{customdata[0]}<br>Total de Reseñas: %{customdata[1]}",
         "legendgroup": "negative",
         "marker": {
          "color": "#EF553B",
          "pattern": {
           "shape": ""
          }
         },
         "name": "negative",
         "offsetgroup": "negative",
         "orientation": "v",
         "showlegend": true,
         "textposition": "auto",
         "type": "bar",
         "x": [
          "Gratis o Muy Barato 0-5",
          "Barato 5-15",
          "Moderado 15-30",
          "Caro 30-50",
          "Muy Caro +50"
         ],
         "xaxis": "x",
         "y": [
          15549.83023872679,
          6678.866028708134,
          7809.0503355704695,
          17475.816091954024,
          19185.926829268294
         ],
         "yaxis": "y"
        }
       ],
       "layout": {
        "barmode": "relative",
        "legend": {
         "title": {
          "text": "Métrica"
         },
         "tracegroupgap": 0
        },
        "template": {
         "data": {
          "bar": [
           {
            "error_x": {
             "color": "#f2f5fa"
            },
            "error_y": {
             "color": "#f2f5fa"
            },
            "marker": {
             "line": {
              "color": "rgb(17,17,17)",
              "width": 0.5
             },
             "pattern": {
              "fillmode": "overlay",
              "size": 10,
              "solidity": 0.2
             }
            },
            "type": "bar"
           }
          ],
          "barpolar": [
           {
            "marker": {
             "line": {
              "color": "rgb(17,17,17)",
              "width": 0.5
             },
             "pattern": {
              "fillmode": "overlay",
              "size": 10,
              "solidity": 0.2
             }
            },
            "type": "barpolar"
           }
          ],
          "carpet": [
           {
            "aaxis": {
             "endlinecolor": "#A2B1C6",
             "gridcolor": "#506784",
             "linecolor": "#506784",
             "minorgridcolor": "#506784",
             "startlinecolor": "#A2B1C6"
            },
            "baxis": {
             "endlinecolor": "#A2B1C6",
             "gridcolor": "#506784",
             "linecolor": "#506784",
             "minorgridcolor": "#506784",
             "startlinecolor": "#A2B1C6"
            },
            "type": "carpet"
           }
          ],
          "choropleth": [
           {
            "colorbar": {
             "outlinewidth": 0,
             "ticks": ""
            },
            "type": "choropleth"
           }
          ],
          "contour": [
           {
            "colorbar": {
             "outlinewidth": 0,
             "ticks": ""
            },
            "colorscale": [
             [
              0,
              "#0d0887"
             ],
             [
              0.1111111111111111,
              "#46039f"
             ],
             [
              0.2222222222222222,
              "#7201a8"
             ],
             [
              0.3333333333333333,
              "#9c179e"
             ],
             [
              0.4444444444444444,
              "#bd3786"
             ],
             [
              0.5555555555555556,
              "#d8576b"
             ],
             [
              0.6666666666666666,
              "#ed7953"
             ],
             [
              0.7777777777777778,
              "#fb9f3a"
             ],
             [
              0.8888888888888888,
              "#fdca26"
             ],
             [
              1,
              "#f0f921"
             ]
            ],
            "type": "contour"
           }
          ],
          "contourcarpet": [
           {
            "colorbar": {
             "outlinewidth": 0,
             "ticks": ""
            },
            "type": "contourcarpet"
           }
          ],
          "heatmap": [
           {
            "colorbar": {
             "outlinewidth": 0,
             "ticks": ""
            },
            "colorscale": [
             [
              0,
              "#0d0887"
             ],
             [
              0.1111111111111111,
              "#46039f"
             ],
             [
              0.2222222222222222,
              "#7201a8"
             ],
             [
              0.3333333333333333,
              "#9c179e"
             ],
             [
              0.4444444444444444,
              "#bd3786"
             ],
             [
              0.5555555555555556,
              "#d8576b"
             ],
             [
              0.6666666666666666,
              "#ed7953"
             ],
             [
              0.7777777777777778,
              "#fb9f3a"
             ],
             [
              0.8888888888888888,
              "#fdca26"
             ],
             [
              1,
              "#f0f921"
             ]
            ],
            "type": "heatmap"
           }
          ],
          "heatmapgl": [
           {
            "colorbar": {
             "outlinewidth": 0,
             "ticks": ""
            },
            "colorscale": [
             [
              0,
              "#0d0887"
             ],
             [
              0.1111111111111111,
              "#46039f"
             ],
             [
              0.2222222222222222,
              "#7201a8"
             ],
             [
              0.3333333333333333,
              "#9c179e"
             ],
             [
              0.4444444444444444,
              "#bd3786"
             ],
             [
              0.5555555555555556,
              "#d8576b"
             ],
             [
              0.6666666666666666,
              "#ed7953"
             ],
             [
              0.7777777777777778,
              "#fb9f3a"
             ],
             [
              0.8888888888888888,
              "#fdca26"
             ],
             [
              1,
              "#f0f921"
             ]
            ],
            "type": "heatmapgl"
           }
          ],
          "histogram": [
           {
            "marker": {
             "pattern": {
              "fillmode": "overlay",
              "size": 10,
              "solidity": 0.2
             }
            },
            "type": "histogram"
           }
          ],
          "histogram2d": [
           {
            "colorbar": {
             "outlinewidth": 0,
             "ticks": ""
            },
            "colorscale": [
             [
              0,
              "#0d0887"
             ],
             [
              0.1111111111111111,
              "#46039f"
             ],
             [
              0.2222222222222222,
              "#7201a8"
             ],
             [
              0.3333333333333333,
              "#9c179e"
             ],
             [
              0.4444444444444444,
              "#bd3786"
             ],
             [
              0.5555555555555556,
              "#d8576b"
             ],
             [
              0.6666666666666666,
              "#ed7953"
             ],
             [
              0.7777777777777778,
              "#fb9f3a"
             ],
             [
              0.8888888888888888,
              "#fdca26"
             ],
             [
              1,
              "#f0f921"
             ]
            ],
            "type": "histogram2d"
           }
          ],
          "histogram2dcontour": [
           {
            "colorbar": {
             "outlinewidth": 0,
             "ticks": ""
            },
            "colorscale": [
             [
              0,
              "#0d0887"
             ],
             [
              0.1111111111111111,
              "#46039f"
             ],
             [
              0.2222222222222222,
              "#7201a8"
             ],
             [
              0.3333333333333333,
              "#9c179e"
             ],
             [
              0.4444444444444444,
              "#bd3786"
             ],
             [
              0.5555555555555556,
              "#d8576b"
             ],
             [
              0.6666666666666666,
              "#ed7953"
             ],
             [
              0.7777777777777778,
              "#fb9f3a"
             ],
             [
              0.8888888888888888,
              "#fdca26"
             ],
             [
              1,
              "#f0f921"
             ]
            ],
            "type": "histogram2dcontour"
           }
          ],
          "mesh3d": [
           {
            "colorbar": {
             "outlinewidth": 0,
             "ticks": ""
            },
            "type": "mesh3d"
           }
          ],
          "parcoords": [
           {
            "line": {
             "colorbar": {
              "outlinewidth": 0,
              "ticks": ""
             }
            },
            "type": "parcoords"
           }
          ],
          "pie": [
           {
            "automargin": true,
            "type": "pie"
           }
          ],
          "scatter": [
           {
            "marker": {
             "line": {
              "color": "#283442"
             }
            },
            "type": "scatter"
           }
          ],
          "scatter3d": [
           {
            "line": {
             "colorbar": {
              "outlinewidth": 0,
              "ticks": ""
             }
            },
            "marker": {
             "colorbar": {
              "outlinewidth": 0,
              "ticks": ""
             }
            },
            "type": "scatter3d"
           }
          ],
          "scattercarpet": [
           {
            "marker": {
             "colorbar": {
              "outlinewidth": 0,
              "ticks": ""
             }
            },
            "type": "scattercarpet"
           }
          ],
          "scattergeo": [
           {
            "marker": {
             "colorbar": {
              "outlinewidth": 0,
              "ticks": ""
             }
            },
            "type": "scattergeo"
           }
          ],
          "scattergl": [
           {
            "marker": {
             "line": {
              "color": "#283442"
             }
            },
            "type": "scattergl"
           }
          ],
          "scattermapbox": [
           {
            "marker": {
             "colorbar": {
              "outlinewidth": 0,
              "ticks": ""
             }
            },
            "type": "scattermapbox"
           }
          ],
          "scatterpolar": [
           {
            "marker": {
             "colorbar": {
              "outlinewidth": 0,
              "ticks": ""
             }
            },
            "type": "scatterpolar"
           }
          ],
          "scatterpolargl": [
           {
            "marker": {
             "colorbar": {
              "outlinewidth": 0,
              "ticks": ""
             }
            },
            "type": "scatterpolargl"
           }
          ],
          "scatterternary": [
           {
            "marker": {
             "colorbar": {
              "outlinewidth": 0,
              "ticks": ""
             }
            },
            "type": "scatterternary"
           }
          ],
          "surface": [
           {
            "colorbar": {
             "outlinewidth": 0,
             "ticks": ""
            },
            "colorscale": [
             [
              0,
              "#0d0887"
             ],
             [
              0.1111111111111111,
              "#46039f"
             ],
             [
              0.2222222222222222,
              "#7201a8"
             ],
             [
              0.3333333333333333,
              "#9c179e"
             ],
             [
              0.4444444444444444,
              "#bd3786"
             ],
             [
              0.5555555555555556,
              "#d8576b"
             ],
             [
              0.6666666666666666,
              "#ed7953"
             ],
             [
              0.7777777777777778,
              "#fb9f3a"
             ],
             [
              0.8888888888888888,
              "#fdca26"
             ],
             [
              1,
              "#f0f921"
             ]
            ],
            "type": "surface"
           }
          ],
          "table": [
           {
            "cells": {
             "fill": {
              "color": "#506784"
             },
             "line": {
              "color": "rgb(17,17,17)"
             }
            },
            "header": {
             "fill": {
              "color": "#2a3f5f"
             },
             "line": {
              "color": "rgb(17,17,17)"
             }
            },
            "type": "table"
           }
          ]
         },
         "layout": {
          "annotationdefaults": {
           "arrowcolor": "#f2f5fa",
           "arrowhead": 0,
           "arrowwidth": 1
          },
          "autotypenumbers": "strict",
          "coloraxis": {
           "colorbar": {
            "outlinewidth": 0,
            "ticks": ""
           }
          },
          "colorscale": {
           "diverging": [
            [
             0,
             "#8e0152"
            ],
            [
             0.1,
             "#c51b7d"
            ],
            [
             0.2,
             "#de77ae"
            ],
            [
             0.3,
             "#f1b6da"
            ],
            [
             0.4,
             "#fde0ef"
            ],
            [
             0.5,
             "#f7f7f7"
            ],
            [
             0.6,
             "#e6f5d0"
            ],
            [
             0.7,
             "#b8e186"
            ],
            [
             0.8,
             "#7fbc41"
            ],
            [
             0.9,
             "#4d9221"
            ],
            [
             1,
             "#276419"
            ]
           ],
           "sequential": [
            [
             0,
             "#0d0887"
            ],
            [
             0.1111111111111111,
             "#46039f"
            ],
            [
             0.2222222222222222,
             "#7201a8"
            ],
            [
             0.3333333333333333,
             "#9c179e"
            ],
            [
             0.4444444444444444,
             "#bd3786"
            ],
            [
             0.5555555555555556,
             "#d8576b"
            ],
            [
             0.6666666666666666,
             "#ed7953"
            ],
            [
             0.7777777777777778,
             "#fb9f3a"
            ],
            [
             0.8888888888888888,
             "#fdca26"
            ],
            [
             1,
             "#f0f921"
            ]
           ],
           "sequentialminus": [
            [
             0,
             "#0d0887"
            ],
            [
             0.1111111111111111,
             "#46039f"
            ],
            [
             0.2222222222222222,
             "#7201a8"
            ],
            [
             0.3333333333333333,
             "#9c179e"
            ],
            [
             0.4444444444444444,
             "#bd3786"
            ],
            [
             0.5555555555555556,
             "#d8576b"
            ],
            [
             0.6666666666666666,
             "#ed7953"
            ],
            [
             0.7777777777777778,
             "#fb9f3a"
            ],
            [
             0.8888888888888888,
             "#fdca26"
            ],
            [
             1,
             "#f0f921"
            ]
           ]
          },
          "colorway": [
           "#636efa",
           "#EF553B",
           "#00cc96",
           "#ab63fa",
           "#FFA15A",
           "#19d3f3",
           "#FF6692",
           "#B6E880",
           "#FF97FF",
           "#FECB52"
          ],
          "font": {
           "color": "#f2f5fa"
          },
          "geo": {
           "bgcolor": "rgb(17,17,17)",
           "lakecolor": "rgb(17,17,17)",
           "landcolor": "rgb(17,17,17)",
           "showlakes": true,
           "showland": true,
           "subunitcolor": "#506784"
          },
          "hoverlabel": {
           "align": "left"
          },
          "hovermode": "closest",
          "mapbox": {
           "style": "dark"
          },
          "paper_bgcolor": "rgb(17,17,17)",
          "plot_bgcolor": "rgb(17,17,17)",
          "polar": {
           "angularaxis": {
            "gridcolor": "#506784",
            "linecolor": "#506784",
            "ticks": ""
           },
           "bgcolor": "rgb(17,17,17)",
           "radialaxis": {
            "gridcolor": "#506784",
            "linecolor": "#506784",
            "ticks": ""
           }
          },
          "scene": {
           "xaxis": {
            "backgroundcolor": "rgb(17,17,17)",
            "gridcolor": "#506784",
            "gridwidth": 2,
            "linecolor": "#506784",
            "showbackground": true,
            "ticks": "",
            "zerolinecolor": "#C8D4E3"
           },
           "yaxis": {
            "backgroundcolor": "rgb(17,17,17)",
            "gridcolor": "#506784",
            "gridwidth": 2,
            "linecolor": "#506784",
            "showbackground": true,
            "ticks": "",
            "zerolinecolor": "#C8D4E3"
           },
           "zaxis": {
            "backgroundcolor": "rgb(17,17,17)",
            "gridcolor": "#506784",
            "gridwidth": 2,
            "linecolor": "#506784",
            "showbackground": true,
            "ticks": "",
            "zerolinecolor": "#C8D4E3"
           }
          },
          "shapedefaults": {
           "line": {
            "color": "#f2f5fa"
           }
          },
          "sliderdefaults": {
           "bgcolor": "#C8D4E3",
           "bordercolor": "rgb(17,17,17)",
           "borderwidth": 1,
           "tickwidth": 0
          },
          "ternary": {
           "aaxis": {
            "gridcolor": "#506784",
            "linecolor": "#506784",
            "ticks": ""
           },
           "baxis": {
            "gridcolor": "#506784",
            "linecolor": "#506784",
            "ticks": ""
           },
           "bgcolor": "rgb(17,17,17)",
           "caxis": {
            "gridcolor": "#506784",
            "linecolor": "#506784",
            "ticks": ""
           }
          },
          "title": {
           "x": 0.05
          },
          "updatemenudefaults": {
           "bgcolor": "#506784",
           "borderwidth": 0
          },
          "xaxis": {
           "automargin": true,
           "gridcolor": "#283442",
           "linecolor": "#506784",
           "ticks": "",
           "title": {
            "standoff": 15
           },
           "zerolinecolor": "#283442",
           "zerolinewidth": 2
          },
          "yaxis": {
           "automargin": true,
           "gridcolor": "#283442",
           "linecolor": "#506784",
           "ticks": "",
           "title": {
            "standoff": 15
           },
           "zerolinecolor": "#283442",
           "zerolinewidth": 2
          }
         }
        },
        "title": {
         "text": "Popularidad y Reseñas por Categoría de Precio"
        },
        "xaxis": {
         "anchor": "y",
         "domain": [
          0,
          1
         ],
         "title": {
          "text": "Categoría de precio"
         }
        },
        "yaxis": {
         "anchor": "x",
         "domain": [
          0,
          1
         ],
         "title": {
          "text": "Promedio"
         }
        }
       }
      }
     },
     "metadata": {},
     "output_type": "display_data"
    }
   ],
   "source": [
    "# Creo categorías de precio basadas en rangos apropiados.\n",
    "bins = [0, 5, 15, 30, 50, videogames_data['price'].max()]\n",
    "labels = ['Gratis o Muy Barato 0-5', 'Barato 5-15', 'Moderado 15-30', 'Caro 30-50', 'Muy Caro +50']\n",
    "videogames_data['price_category'] = pd.cut(videogames_data['price'], bins=bins, labels=labels, include_lowest=True)\n",
    "\n",
    "# Calculamos el número total de juegos por categoría de precio\n",
    "total_games_per_category = videogames_data['price_category'].value_counts()\n",
    "\n",
    "# Calculo métricas de popularidad y reseñas por categoría de precio.\n",
    "price_popularity = videogames_data.groupby('price_category').agg({\n",
    "    'positive': 'mean',\n",
    "    'negative': 'mean',\n",
    "}).reset_index()\n",
    "\n",
    "# Calculo el número total de reseñas (positivas y negativas) por categoría de precio\n",
    "videogames_data['total_reviews'] = videogames_data['positive'] + videogames_data['negative']\n",
    "total_reviews_per_category = videogames_data.groupby('price_category')['total_reviews'].sum()\n",
    "\n",
    "# Agregamos estas nuevas métricas a el DataFrame de popularidad de precio\n",
    "price_popularity['total_games'] = price_popularity['price_category'].map(total_games_per_category)\n",
    "price_popularity['total_reviews'] = price_popularity['price_category'].map(total_reviews_per_category)\n",
    "\n",
    "# Creo un gráfico para visualizar las métricas de popularidad por categoría de precio.\n",
    "fig = px.bar(price_popularity, x='price_category', y=['positive', 'negative'],\n",
    "             title=\"Popularidad y Reseñas por Categoría de Precio\",\n",
    "             labels={'value': 'Promedio', 'variable': 'Métrica', 'price_category': 'Categoría de precio'},\n",
    "             template=\"plotly_dark\")\n",
    "\n",
    "# Agrego información adicional para mostrar al pasar el ratón por encima de las barras\n",
    "fig.update_traces(hovertemplate=\"<br>\".join([\n",
    "    \"Categoría: %{x}\",\n",
    "    \"Total de Juegos: %{customdata[0]}\",\n",
    "    \"Total de Reseñas: %{customdata[1]}\"\n",
    "]))\n",
    "\n",
    "# Agrego el total de juegos y reseñas como datos personalizados para el hovertemplate\n",
    "fig.update_traces(customdata=price_popularity[['total_games', 'total_reviews']].values)\n",
    "\n",
    "fig.show()\n",
    "\n",
    "# Exportar el gráfico como HTML\n",
    "#fig.write_html(\"graphs/8.html\")\n"
   ]
  },
  {
   "cell_type": "code",
   "execution_count": 235,
   "metadata": {},
   "outputs": [
    {
     "data": {
      "application/vnd.plotly.v1+json": {
       "config": {
        "plotlyServerURL": "https://plot.ly"
       },
       "data": [
        {
         "alignmentgroup": "True",
         "customdata": [
          [
           377,
           27801133
          ],
          [
           209,
           16546781
          ],
          [
           298,
           20338648
          ],
          [
           87,
           8880002
          ],
          [
           41,
           5445419
          ]
         ],
         "hovertemplate": "Categoría: %{x}<br>Promedio: %{y}<br>Total de Juegos: %{customdata[0]}<br>Total de Reseñas: %{customdata[1]}",
         "legendgroup": "positive",
         "marker": {
          "color": "#636efa",
          "pattern": {
           "shape": ""
          }
         },
         "name": "positive",
         "offsetgroup": "positive",
         "orientation": "v",
         "showlegend": true,
         "textposition": "auto",
         "type": "bar",
         "x": [
          "Gratis o Muy Barato 0-5",
          "Barato 5-15",
          "Moderado 15-30",
          "Caro 30-50",
          "Muy Caro +50"
         ],
         "xaxis": "x",
         "y": [
          73743.05835543766,
          79171.2009569378,
          68250.4966442953,
          102068.98850574713,
          132815.0975609756
         ],
         "yaxis": "y"
        },
        {
         "alignmentgroup": "True",
         "customdata": [
          [
           377,
           5862286
          ],
          [
           209,
           1395883
          ],
          [
           298,
           2327097
          ],
          [
           87,
           1520396
          ],
          [
           41,
           786623
          ]
         ],
         "hovertemplate": "Categoría: %{x}<br>Promedio: %{y}<br>Total de Juegos: %{customdata[0]}<br>Total de Reseñas: %{customdata[1]}",
         "legendgroup": "negative",
         "marker": {
          "color": "#EF553B",
          "pattern": {
           "shape": ""
          }
         },
         "name": "negative",
         "offsetgroup": "negative",
         "orientation": "v",
         "showlegend": true,
         "textposition": "auto",
         "type": "bar",
         "x": [
          "Gratis o Muy Barato 0-5",
          "Barato 5-15",
          "Moderado 15-30",
          "Caro 30-50",
          "Muy Caro +50"
         ],
         "xaxis": "x",
         "y": [
          15549.83023872679,
          6678.866028708134,
          7809.0503355704695,
          17475.816091954024,
          19185.926829268294
         ],
         "yaxis": "y"
        }
       ],
       "layout": {
        "barmode": "group",
        "legend": {
         "title": {
          "text": "Métrica"
         },
         "tracegroupgap": 0
        },
        "template": {
         "data": {
          "bar": [
           {
            "error_x": {
             "color": "#f2f5fa"
            },
            "error_y": {
             "color": "#f2f5fa"
            },
            "marker": {
             "line": {
              "color": "rgb(17,17,17)",
              "width": 0.5
             },
             "pattern": {
              "fillmode": "overlay",
              "size": 10,
              "solidity": 0.2
             }
            },
            "type": "bar"
           }
          ],
          "barpolar": [
           {
            "marker": {
             "line": {
              "color": "rgb(17,17,17)",
              "width": 0.5
             },
             "pattern": {
              "fillmode": "overlay",
              "size": 10,
              "solidity": 0.2
             }
            },
            "type": "barpolar"
           }
          ],
          "carpet": [
           {
            "aaxis": {
             "endlinecolor": "#A2B1C6",
             "gridcolor": "#506784",
             "linecolor": "#506784",
             "minorgridcolor": "#506784",
             "startlinecolor": "#A2B1C6"
            },
            "baxis": {
             "endlinecolor": "#A2B1C6",
             "gridcolor": "#506784",
             "linecolor": "#506784",
             "minorgridcolor": "#506784",
             "startlinecolor": "#A2B1C6"
            },
            "type": "carpet"
           }
          ],
          "choropleth": [
           {
            "colorbar": {
             "outlinewidth": 0,
             "ticks": ""
            },
            "type": "choropleth"
           }
          ],
          "contour": [
           {
            "colorbar": {
             "outlinewidth": 0,
             "ticks": ""
            },
            "colorscale": [
             [
              0,
              "#0d0887"
             ],
             [
              0.1111111111111111,
              "#46039f"
             ],
             [
              0.2222222222222222,
              "#7201a8"
             ],
             [
              0.3333333333333333,
              "#9c179e"
             ],
             [
              0.4444444444444444,
              "#bd3786"
             ],
             [
              0.5555555555555556,
              "#d8576b"
             ],
             [
              0.6666666666666666,
              "#ed7953"
             ],
             [
              0.7777777777777778,
              "#fb9f3a"
             ],
             [
              0.8888888888888888,
              "#fdca26"
             ],
             [
              1,
              "#f0f921"
             ]
            ],
            "type": "contour"
           }
          ],
          "contourcarpet": [
           {
            "colorbar": {
             "outlinewidth": 0,
             "ticks": ""
            },
            "type": "contourcarpet"
           }
          ],
          "heatmap": [
           {
            "colorbar": {
             "outlinewidth": 0,
             "ticks": ""
            },
            "colorscale": [
             [
              0,
              "#0d0887"
             ],
             [
              0.1111111111111111,
              "#46039f"
             ],
             [
              0.2222222222222222,
              "#7201a8"
             ],
             [
              0.3333333333333333,
              "#9c179e"
             ],
             [
              0.4444444444444444,
              "#bd3786"
             ],
             [
              0.5555555555555556,
              "#d8576b"
             ],
             [
              0.6666666666666666,
              "#ed7953"
             ],
             [
              0.7777777777777778,
              "#fb9f3a"
             ],
             [
              0.8888888888888888,
              "#fdca26"
             ],
             [
              1,
              "#f0f921"
             ]
            ],
            "type": "heatmap"
           }
          ],
          "heatmapgl": [
           {
            "colorbar": {
             "outlinewidth": 0,
             "ticks": ""
            },
            "colorscale": [
             [
              0,
              "#0d0887"
             ],
             [
              0.1111111111111111,
              "#46039f"
             ],
             [
              0.2222222222222222,
              "#7201a8"
             ],
             [
              0.3333333333333333,
              "#9c179e"
             ],
             [
              0.4444444444444444,
              "#bd3786"
             ],
             [
              0.5555555555555556,
              "#d8576b"
             ],
             [
              0.6666666666666666,
              "#ed7953"
             ],
             [
              0.7777777777777778,
              "#fb9f3a"
             ],
             [
              0.8888888888888888,
              "#fdca26"
             ],
             [
              1,
              "#f0f921"
             ]
            ],
            "type": "heatmapgl"
           }
          ],
          "histogram": [
           {
            "marker": {
             "pattern": {
              "fillmode": "overlay",
              "size": 10,
              "solidity": 0.2
             }
            },
            "type": "histogram"
           }
          ],
          "histogram2d": [
           {
            "colorbar": {
             "outlinewidth": 0,
             "ticks": ""
            },
            "colorscale": [
             [
              0,
              "#0d0887"
             ],
             [
              0.1111111111111111,
              "#46039f"
             ],
             [
              0.2222222222222222,
              "#7201a8"
             ],
             [
              0.3333333333333333,
              "#9c179e"
             ],
             [
              0.4444444444444444,
              "#bd3786"
             ],
             [
              0.5555555555555556,
              "#d8576b"
             ],
             [
              0.6666666666666666,
              "#ed7953"
             ],
             [
              0.7777777777777778,
              "#fb9f3a"
             ],
             [
              0.8888888888888888,
              "#fdca26"
             ],
             [
              1,
              "#f0f921"
             ]
            ],
            "type": "histogram2d"
           }
          ],
          "histogram2dcontour": [
           {
            "colorbar": {
             "outlinewidth": 0,
             "ticks": ""
            },
            "colorscale": [
             [
              0,
              "#0d0887"
             ],
             [
              0.1111111111111111,
              "#46039f"
             ],
             [
              0.2222222222222222,
              "#7201a8"
             ],
             [
              0.3333333333333333,
              "#9c179e"
             ],
             [
              0.4444444444444444,
              "#bd3786"
             ],
             [
              0.5555555555555556,
              "#d8576b"
             ],
             [
              0.6666666666666666,
              "#ed7953"
             ],
             [
              0.7777777777777778,
              "#fb9f3a"
             ],
             [
              0.8888888888888888,
              "#fdca26"
             ],
             [
              1,
              "#f0f921"
             ]
            ],
            "type": "histogram2dcontour"
           }
          ],
          "mesh3d": [
           {
            "colorbar": {
             "outlinewidth": 0,
             "ticks": ""
            },
            "type": "mesh3d"
           }
          ],
          "parcoords": [
           {
            "line": {
             "colorbar": {
              "outlinewidth": 0,
              "ticks": ""
             }
            },
            "type": "parcoords"
           }
          ],
          "pie": [
           {
            "automargin": true,
            "type": "pie"
           }
          ],
          "scatter": [
           {
            "marker": {
             "line": {
              "color": "#283442"
             }
            },
            "type": "scatter"
           }
          ],
          "scatter3d": [
           {
            "line": {
             "colorbar": {
              "outlinewidth": 0,
              "ticks": ""
             }
            },
            "marker": {
             "colorbar": {
              "outlinewidth": 0,
              "ticks": ""
             }
            },
            "type": "scatter3d"
           }
          ],
          "scattercarpet": [
           {
            "marker": {
             "colorbar": {
              "outlinewidth": 0,
              "ticks": ""
             }
            },
            "type": "scattercarpet"
           }
          ],
          "scattergeo": [
           {
            "marker": {
             "colorbar": {
              "outlinewidth": 0,
              "ticks": ""
             }
            },
            "type": "scattergeo"
           }
          ],
          "scattergl": [
           {
            "marker": {
             "line": {
              "color": "#283442"
             }
            },
            "type": "scattergl"
           }
          ],
          "scattermapbox": [
           {
            "marker": {
             "colorbar": {
              "outlinewidth": 0,
              "ticks": ""
             }
            },
            "type": "scattermapbox"
           }
          ],
          "scatterpolar": [
           {
            "marker": {
             "colorbar": {
              "outlinewidth": 0,
              "ticks": ""
             }
            },
            "type": "scatterpolar"
           }
          ],
          "scatterpolargl": [
           {
            "marker": {
             "colorbar": {
              "outlinewidth": 0,
              "ticks": ""
             }
            },
            "type": "scatterpolargl"
           }
          ],
          "scatterternary": [
           {
            "marker": {
             "colorbar": {
              "outlinewidth": 0,
              "ticks": ""
             }
            },
            "type": "scatterternary"
           }
          ],
          "surface": [
           {
            "colorbar": {
             "outlinewidth": 0,
             "ticks": ""
            },
            "colorscale": [
             [
              0,
              "#0d0887"
             ],
             [
              0.1111111111111111,
              "#46039f"
             ],
             [
              0.2222222222222222,
              "#7201a8"
             ],
             [
              0.3333333333333333,
              "#9c179e"
             ],
             [
              0.4444444444444444,
              "#bd3786"
             ],
             [
              0.5555555555555556,
              "#d8576b"
             ],
             [
              0.6666666666666666,
              "#ed7953"
             ],
             [
              0.7777777777777778,
              "#fb9f3a"
             ],
             [
              0.8888888888888888,
              "#fdca26"
             ],
             [
              1,
              "#f0f921"
             ]
            ],
            "type": "surface"
           }
          ],
          "table": [
           {
            "cells": {
             "fill": {
              "color": "#506784"
             },
             "line": {
              "color": "rgb(17,17,17)"
             }
            },
            "header": {
             "fill": {
              "color": "#2a3f5f"
             },
             "line": {
              "color": "rgb(17,17,17)"
             }
            },
            "type": "table"
           }
          ]
         },
         "layout": {
          "annotationdefaults": {
           "arrowcolor": "#f2f5fa",
           "arrowhead": 0,
           "arrowwidth": 1
          },
          "autotypenumbers": "strict",
          "coloraxis": {
           "colorbar": {
            "outlinewidth": 0,
            "ticks": ""
           }
          },
          "colorscale": {
           "diverging": [
            [
             0,
             "#8e0152"
            ],
            [
             0.1,
             "#c51b7d"
            ],
            [
             0.2,
             "#de77ae"
            ],
            [
             0.3,
             "#f1b6da"
            ],
            [
             0.4,
             "#fde0ef"
            ],
            [
             0.5,
             "#f7f7f7"
            ],
            [
             0.6,
             "#e6f5d0"
            ],
            [
             0.7,
             "#b8e186"
            ],
            [
             0.8,
             "#7fbc41"
            ],
            [
             0.9,
             "#4d9221"
            ],
            [
             1,
             "#276419"
            ]
           ],
           "sequential": [
            [
             0,
             "#0d0887"
            ],
            [
             0.1111111111111111,
             "#46039f"
            ],
            [
             0.2222222222222222,
             "#7201a8"
            ],
            [
             0.3333333333333333,
             "#9c179e"
            ],
            [
             0.4444444444444444,
             "#bd3786"
            ],
            [
             0.5555555555555556,
             "#d8576b"
            ],
            [
             0.6666666666666666,
             "#ed7953"
            ],
            [
             0.7777777777777778,
             "#fb9f3a"
            ],
            [
             0.8888888888888888,
             "#fdca26"
            ],
            [
             1,
             "#f0f921"
            ]
           ],
           "sequentialminus": [
            [
             0,
             "#0d0887"
            ],
            [
             0.1111111111111111,
             "#46039f"
            ],
            [
             0.2222222222222222,
             "#7201a8"
            ],
            [
             0.3333333333333333,
             "#9c179e"
            ],
            [
             0.4444444444444444,
             "#bd3786"
            ],
            [
             0.5555555555555556,
             "#d8576b"
            ],
            [
             0.6666666666666666,
             "#ed7953"
            ],
            [
             0.7777777777777778,
             "#fb9f3a"
            ],
            [
             0.8888888888888888,
             "#fdca26"
            ],
            [
             1,
             "#f0f921"
            ]
           ]
          },
          "colorway": [
           "#636efa",
           "#EF553B",
           "#00cc96",
           "#ab63fa",
           "#FFA15A",
           "#19d3f3",
           "#FF6692",
           "#B6E880",
           "#FF97FF",
           "#FECB52"
          ],
          "font": {
           "color": "#f2f5fa"
          },
          "geo": {
           "bgcolor": "rgb(17,17,17)",
           "lakecolor": "rgb(17,17,17)",
           "landcolor": "rgb(17,17,17)",
           "showlakes": true,
           "showland": true,
           "subunitcolor": "#506784"
          },
          "hoverlabel": {
           "align": "left"
          },
          "hovermode": "closest",
          "mapbox": {
           "style": "dark"
          },
          "paper_bgcolor": "rgb(17,17,17)",
          "plot_bgcolor": "rgb(17,17,17)",
          "polar": {
           "angularaxis": {
            "gridcolor": "#506784",
            "linecolor": "#506784",
            "ticks": ""
           },
           "bgcolor": "rgb(17,17,17)",
           "radialaxis": {
            "gridcolor": "#506784",
            "linecolor": "#506784",
            "ticks": ""
           }
          },
          "scene": {
           "xaxis": {
            "backgroundcolor": "rgb(17,17,17)",
            "gridcolor": "#506784",
            "gridwidth": 2,
            "linecolor": "#506784",
            "showbackground": true,
            "ticks": "",
            "zerolinecolor": "#C8D4E3"
           },
           "yaxis": {
            "backgroundcolor": "rgb(17,17,17)",
            "gridcolor": "#506784",
            "gridwidth": 2,
            "linecolor": "#506784",
            "showbackground": true,
            "ticks": "",
            "zerolinecolor": "#C8D4E3"
           },
           "zaxis": {
            "backgroundcolor": "rgb(17,17,17)",
            "gridcolor": "#506784",
            "gridwidth": 2,
            "linecolor": "#506784",
            "showbackground": true,
            "ticks": "",
            "zerolinecolor": "#C8D4E3"
           }
          },
          "shapedefaults": {
           "line": {
            "color": "#f2f5fa"
           }
          },
          "sliderdefaults": {
           "bgcolor": "#C8D4E3",
           "bordercolor": "rgb(17,17,17)",
           "borderwidth": 1,
           "tickwidth": 0
          },
          "ternary": {
           "aaxis": {
            "gridcolor": "#506784",
            "linecolor": "#506784",
            "ticks": ""
           },
           "baxis": {
            "gridcolor": "#506784",
            "linecolor": "#506784",
            "ticks": ""
           },
           "bgcolor": "rgb(17,17,17)",
           "caxis": {
            "gridcolor": "#506784",
            "linecolor": "#506784",
            "ticks": ""
           }
          },
          "title": {
           "x": 0.05
          },
          "updatemenudefaults": {
           "bgcolor": "#506784",
           "borderwidth": 0
          },
          "xaxis": {
           "automargin": true,
           "gridcolor": "#283442",
           "linecolor": "#506784",
           "ticks": "",
           "title": {
            "standoff": 15
           },
           "zerolinecolor": "#283442",
           "zerolinewidth": 2
          },
          "yaxis": {
           "automargin": true,
           "gridcolor": "#283442",
           "linecolor": "#506784",
           "ticks": "",
           "title": {
            "standoff": 15
           },
           "zerolinecolor": "#283442",
           "zerolinewidth": 2
          }
         }
        },
        "title": {
         "text": "Popularidad y Reseñas por Categoría de Precio"
        },
        "xaxis": {
         "anchor": "y",
         "domain": [
          0,
          1
         ],
         "title": {
          "text": "Categoría de precio"
         }
        },
        "yaxis": {
         "anchor": "x",
         "domain": [
          0,
          1
         ],
         "title": {
          "text": "Promedio"
         }
        }
       }
      }
     },
     "metadata": {},
     "output_type": "display_data"
    }
   ],
   "source": [
    "# Creo categorías de precio basadas en rangos apropiados.\n",
    "bins = [0, 5, 15, 30, 50, videogames_data['price'].max()]\n",
    "labels = ['Gratis o Muy Barato 0-5', 'Barato 5-15', 'Moderado 15-30', 'Caro 30-50', 'Muy Caro +50']\n",
    "videogames_data['price_category'] = pd.cut(videogames_data['price'], bins=bins, labels=labels, include_lowest=True)\n",
    "\n",
    "\n",
    "# Modificación: calcular el total de reseñas positivas y negativas por categoría de precio\n",
    "total_positive_reviews = videogames_data.groupby('price_category')['positive'].sum()\n",
    "total_negative_reviews = videogames_data.groupby('price_category')['negative'].sum()\n",
    "\n",
    "\n",
    "# Agregar estos totales al DataFrame de popularidad de precio\n",
    "price_popularity['total_positive_reviews'] = price_popularity['price_category'].map(total_positive_reviews)\n",
    "price_popularity['total_negative_reviews'] = price_popularity['price_category'].map(total_negative_reviews)\n",
    "\n",
    "# Crear el gráfico\n",
    "fig = px.bar(price_popularity, x='price_category', y=['positive', 'negative'],\n",
    "             title=\"Popularidad y Reseñas por Categoría de Precio\",\n",
    "             labels={'value': 'Promedio', 'variable': 'Métrica', 'price_category': 'Categoría de precio'},\n",
    "             template=\"plotly_dark\", barmode='group')\n",
    "\n",
    "# Ajustar el hovertemplate para mostrar datos relevantes\n",
    "fig.update_traces(\n",
    "    hovertemplate=\"<br>\".join([\n",
    "        \"Categoría: %{x}\",\n",
    "        \"Promedio: %{y}\",\n",
    "        \"Total de Juegos: %{customdata[0]}\",\n",
    "        \"Total de Reseñas: %{customdata[1]}\",\n",
    "    ])\n",
    ")\n",
    "\n",
    "# Asignar datos personalizados para hovertemplate\n",
    "for trace, metric in zip(fig.data, ['total_positive_reviews', 'total_negative_reviews']):\n",
    "    if metric == 'total_positive_reviews':\n",
    "        custom_data = price_popularity[['total_games', 'total_positive_reviews']].values\n",
    "    else:  # 'total_negative_reviews'\n",
    "        custom_data = price_popularity[['total_games', 'total_negative_reviews']].values\n",
    "    trace.customdata = custom_data\n",
    "\n",
    "fig.show()\n",
    "\n",
    "# Exportar el gráfico como HTML\n",
    "# fig.write_html(\"graphs/8.html\")\n"
   ]
  },
  {
   "cell_type": "markdown",
   "metadata": {},
   "source": [
    "- Los juegos en las categorías \"Caro\" y \"Muy Caro\" reciben más reseñas que el resto. Esto puede deberse a los títulos AAA o de gran presupuesto.\n",
    "- También es cierto que hay menos juegos en estas categorías de precio más alto, y para cada uno de estos juegos se atraen más reseñas promedio.\n",
    "- Los consumidores que invierten más dinero en el juego pueden sentirse más comprometidos a proporcionar retroalimentación a través de las reseñas.\n",
    "- En todas las categorías de precio, las reseñas positivas superan en número a las negativas. Esto podría indicar que, en general, hay una tendencia positiva en las opiniones de los usuarios sobre los videojuegos en Steam, independientemente del precio."
   ]
  },
  {
   "cell_type": "code",
   "execution_count": 236,
   "metadata": {},
   "outputs": [
    {
     "data": {
      "application/vnd.plotly.v1+json": {
       "config": {
        "plotlyServerURL": "https://plot.ly"
       },
       "data": [
        {
         "alignmentgroup": "True",
         "hovertemplate": "Juegos: %{x}<br>Fecha de Lanzamiento: %{text}<br>Usuarios Máximos: %{y}",
         "legendgroup": "dota 2",
         "marker": {
          "color": "#636efa",
          "pattern": {
           "shape": ""
          }
         },
         "name": "dota 2",
         "offsetgroup": "dota 2",
         "orientation": "v",
         "showlegend": true,
         "text": [
          "2013-07-09"
         ],
         "textposition": "none",
         "type": "bar",
         "x": [
          "dota 2"
         ],
         "xaxis": "x",
         "y": [
          500000000
         ],
         "yaxis": "y"
        },
        {
         "alignmentgroup": "True",
         "hovertemplate": "Juegos: %{x}<br>Fecha de Lanzamiento: %{text}<br>Usuarios Máximos: %{y}",
         "legendgroup": "counter-strike: global offensive",
         "marker": {
          "color": "#EF553B",
          "pattern": {
           "shape": ""
          }
         },
         "name": "counter-strike: global offensive",
         "offsetgroup": "counter-strike: global offensive",
         "orientation": "v",
         "showlegend": true,
         "text": [
          "2012-08-21"
         ],
         "textposition": "none",
         "type": "bar",
         "x": [
          "counter-strike: global offensive"
         ],
         "xaxis": "x",
         "y": [
          200000000
         ],
         "yaxis": "y"
        },
        {
         "alignmentgroup": "True",
         "hovertemplate": "Juegos: %{x}<br>Fecha de Lanzamiento: %{text}<br>Usuarios Máximos: %{y}",
         "legendgroup": "pubg: battlegrounds",
         "marker": {
          "color": "#00cc96",
          "pattern": {
           "shape": ""
          }
         },
         "name": "pubg: battlegrounds",
         "offsetgroup": "pubg: battlegrounds",
         "orientation": "v",
         "showlegend": true,
         "text": [
          "2017-12-21"
         ],
         "textposition": "none",
         "type": "bar",
         "x": [
          "pubg: battlegrounds"
         ],
         "xaxis": "x",
         "y": [
          100000000
         ],
         "yaxis": "y"
        },
        {
         "alignmentgroup": "True",
         "hovertemplate": "Juegos: %{x}<br>Fecha de Lanzamiento: %{text}<br>Usuarios Máximos: %{y}",
         "legendgroup": "new world",
         "marker": {
          "color": "#ab63fa",
          "pattern": {
           "shape": ""
          }
         },
         "name": "new world",
         "offsetgroup": "new world",
         "orientation": "v",
         "showlegend": true,
         "text": [
          "2021-09-28"
         ],
         "textposition": "none",
         "type": "bar",
         "x": [
          "new world"
         ],
         "xaxis": "x",
         "y": [
          100000000
         ],
         "yaxis": "y"
        },
        {
         "alignmentgroup": "True",
         "hovertemplate": "Juegos: %{x}<br>Fecha de Lanzamiento: %{text}<br>Usuarios Máximos: %{y}",
         "legendgroup": "team fortress 2",
         "marker": {
          "color": "#FFA15A",
          "pattern": {
           "shape": ""
          }
         },
         "name": "team fortress 2",
         "offsetgroup": "team fortress 2",
         "orientation": "v",
         "showlegend": true,
         "text": [
          "2007-10-10"
         ],
         "textposition": "none",
         "type": "bar",
         "x": [
          "team fortress 2"
         ],
         "xaxis": "x",
         "y": [
          100000000
         ],
         "yaxis": "y"
        },
        {
         "alignmentgroup": "True",
         "hovertemplate": "Juegos: %{x}<br>Fecha de Lanzamiento: %{text}<br>Usuarios Máximos: %{y}",
         "legendgroup": "apex legends",
         "marker": {
          "color": "#19d3f3",
          "pattern": {
           "shape": ""
          }
         },
         "name": "apex legends",
         "offsetgroup": "apex legends",
         "orientation": "v",
         "showlegend": true,
         "text": [
          "2020-11-04"
         ],
         "textposition": "none",
         "type": "bar",
         "x": [
          "apex legends"
         ],
         "xaxis": "x",
         "y": [
          100000000
         ],
         "yaxis": "y"
        },
        {
         "alignmentgroup": "True",
         "hovertemplate": "Juegos: %{x}<br>Fecha de Lanzamiento: %{text}<br>Usuarios Máximos: %{y}",
         "legendgroup": "grand theft auto v",
         "marker": {
          "color": "#FF6692",
          "pattern": {
           "shape": ""
          }
         },
         "name": "grand theft auto v",
         "offsetgroup": "grand theft auto v",
         "orientation": "v",
         "showlegend": true,
         "text": [
          "2015-04-14"
         ],
         "textposition": "none",
         "type": "bar",
         "x": [
          "grand theft auto v"
         ],
         "xaxis": "x",
         "y": [
          100000000
         ],
         "yaxis": "y"
        },
        {
         "alignmentgroup": "True",
         "hovertemplate": "Juegos: %{x}<br>Fecha de Lanzamiento: %{text}<br>Usuarios Máximos: %{y}",
         "legendgroup": "call of duty: modern warfare ii",
         "marker": {
          "color": "#B6E880",
          "pattern": {
           "shape": ""
          }
         },
         "name": "call of duty: modern warfare ii",
         "offsetgroup": "call of duty: modern warfare ii",
         "orientation": "v",
         "showlegend": true,
         "text": [
          "2022-10-27"
         ],
         "textposition": "none",
         "type": "bar",
         "x": [
          "call of duty: modern warfare ii"
         ],
         "xaxis": "x",
         "y": [
          100000000
         ],
         "yaxis": "y"
        },
        {
         "alignmentgroup": "True",
         "hovertemplate": "Juegos: %{x}<br>Fecha de Lanzamiento: %{text}<br>Usuarios Máximos: %{y}",
         "legendgroup": "left 4 dead 2",
         "marker": {
          "color": "#FF97FF",
          "pattern": {
           "shape": ""
          }
         },
         "name": "left 4 dead 2",
         "offsetgroup": "left 4 dead 2",
         "orientation": "v",
         "showlegend": true,
         "text": [
          "2009-11-16"
         ],
         "textposition": "none",
         "type": "bar",
         "x": [
          "left 4 dead 2"
         ],
         "xaxis": "x",
         "y": [
          100000000
         ],
         "yaxis": "y"
        },
        {
         "alignmentgroup": "True",
         "hovertemplate": "Juegos: %{x}<br>Fecha de Lanzamiento: %{text}<br>Usuarios Máximos: %{y}",
         "legendgroup": "lost ark",
         "marker": {
          "color": "#FECB52",
          "pattern": {
           "shape": ""
          }
         },
         "name": "lost ark",
         "offsetgroup": "lost ark",
         "orientation": "v",
         "showlegend": true,
         "text": [
          "2022-02-11"
         ],
         "textposition": "none",
         "type": "bar",
         "x": [
          "lost ark"
         ],
         "xaxis": "x",
         "y": [
          100000000
         ],
         "yaxis": "y"
        }
       ],
       "layout": {
        "barmode": "relative",
        "height": 500,
        "legend": {
         "title": {
          "text": "Juego"
         },
         "tracegroupgap": 0
        },
        "template": {
         "data": {
          "bar": [
           {
            "error_x": {
             "color": "#f2f5fa"
            },
            "error_y": {
             "color": "#f2f5fa"
            },
            "marker": {
             "line": {
              "color": "rgb(17,17,17)",
              "width": 0.5
             },
             "pattern": {
              "fillmode": "overlay",
              "size": 10,
              "solidity": 0.2
             }
            },
            "type": "bar"
           }
          ],
          "barpolar": [
           {
            "marker": {
             "line": {
              "color": "rgb(17,17,17)",
              "width": 0.5
             },
             "pattern": {
              "fillmode": "overlay",
              "size": 10,
              "solidity": 0.2
             }
            },
            "type": "barpolar"
           }
          ],
          "carpet": [
           {
            "aaxis": {
             "endlinecolor": "#A2B1C6",
             "gridcolor": "#506784",
             "linecolor": "#506784",
             "minorgridcolor": "#506784",
             "startlinecolor": "#A2B1C6"
            },
            "baxis": {
             "endlinecolor": "#A2B1C6",
             "gridcolor": "#506784",
             "linecolor": "#506784",
             "minorgridcolor": "#506784",
             "startlinecolor": "#A2B1C6"
            },
            "type": "carpet"
           }
          ],
          "choropleth": [
           {
            "colorbar": {
             "outlinewidth": 0,
             "ticks": ""
            },
            "type": "choropleth"
           }
          ],
          "contour": [
           {
            "colorbar": {
             "outlinewidth": 0,
             "ticks": ""
            },
            "colorscale": [
             [
              0,
              "#0d0887"
             ],
             [
              0.1111111111111111,
              "#46039f"
             ],
             [
              0.2222222222222222,
              "#7201a8"
             ],
             [
              0.3333333333333333,
              "#9c179e"
             ],
             [
              0.4444444444444444,
              "#bd3786"
             ],
             [
              0.5555555555555556,
              "#d8576b"
             ],
             [
              0.6666666666666666,
              "#ed7953"
             ],
             [
              0.7777777777777778,
              "#fb9f3a"
             ],
             [
              0.8888888888888888,
              "#fdca26"
             ],
             [
              1,
              "#f0f921"
             ]
            ],
            "type": "contour"
           }
          ],
          "contourcarpet": [
           {
            "colorbar": {
             "outlinewidth": 0,
             "ticks": ""
            },
            "type": "contourcarpet"
           }
          ],
          "heatmap": [
           {
            "colorbar": {
             "outlinewidth": 0,
             "ticks": ""
            },
            "colorscale": [
             [
              0,
              "#0d0887"
             ],
             [
              0.1111111111111111,
              "#46039f"
             ],
             [
              0.2222222222222222,
              "#7201a8"
             ],
             [
              0.3333333333333333,
              "#9c179e"
             ],
             [
              0.4444444444444444,
              "#bd3786"
             ],
             [
              0.5555555555555556,
              "#d8576b"
             ],
             [
              0.6666666666666666,
              "#ed7953"
             ],
             [
              0.7777777777777778,
              "#fb9f3a"
             ],
             [
              0.8888888888888888,
              "#fdca26"
             ],
             [
              1,
              "#f0f921"
             ]
            ],
            "type": "heatmap"
           }
          ],
          "heatmapgl": [
           {
            "colorbar": {
             "outlinewidth": 0,
             "ticks": ""
            },
            "colorscale": [
             [
              0,
              "#0d0887"
             ],
             [
              0.1111111111111111,
              "#46039f"
             ],
             [
              0.2222222222222222,
              "#7201a8"
             ],
             [
              0.3333333333333333,
              "#9c179e"
             ],
             [
              0.4444444444444444,
              "#bd3786"
             ],
             [
              0.5555555555555556,
              "#d8576b"
             ],
             [
              0.6666666666666666,
              "#ed7953"
             ],
             [
              0.7777777777777778,
              "#fb9f3a"
             ],
             [
              0.8888888888888888,
              "#fdca26"
             ],
             [
              1,
              "#f0f921"
             ]
            ],
            "type": "heatmapgl"
           }
          ],
          "histogram": [
           {
            "marker": {
             "pattern": {
              "fillmode": "overlay",
              "size": 10,
              "solidity": 0.2
             }
            },
            "type": "histogram"
           }
          ],
          "histogram2d": [
           {
            "colorbar": {
             "outlinewidth": 0,
             "ticks": ""
            },
            "colorscale": [
             [
              0,
              "#0d0887"
             ],
             [
              0.1111111111111111,
              "#46039f"
             ],
             [
              0.2222222222222222,
              "#7201a8"
             ],
             [
              0.3333333333333333,
              "#9c179e"
             ],
             [
              0.4444444444444444,
              "#bd3786"
             ],
             [
              0.5555555555555556,
              "#d8576b"
             ],
             [
              0.6666666666666666,
              "#ed7953"
             ],
             [
              0.7777777777777778,
              "#fb9f3a"
             ],
             [
              0.8888888888888888,
              "#fdca26"
             ],
             [
              1,
              "#f0f921"
             ]
            ],
            "type": "histogram2d"
           }
          ],
          "histogram2dcontour": [
           {
            "colorbar": {
             "outlinewidth": 0,
             "ticks": ""
            },
            "colorscale": [
             [
              0,
              "#0d0887"
             ],
             [
              0.1111111111111111,
              "#46039f"
             ],
             [
              0.2222222222222222,
              "#7201a8"
             ],
             [
              0.3333333333333333,
              "#9c179e"
             ],
             [
              0.4444444444444444,
              "#bd3786"
             ],
             [
              0.5555555555555556,
              "#d8576b"
             ],
             [
              0.6666666666666666,
              "#ed7953"
             ],
             [
              0.7777777777777778,
              "#fb9f3a"
             ],
             [
              0.8888888888888888,
              "#fdca26"
             ],
             [
              1,
              "#f0f921"
             ]
            ],
            "type": "histogram2dcontour"
           }
          ],
          "mesh3d": [
           {
            "colorbar": {
             "outlinewidth": 0,
             "ticks": ""
            },
            "type": "mesh3d"
           }
          ],
          "parcoords": [
           {
            "line": {
             "colorbar": {
              "outlinewidth": 0,
              "ticks": ""
             }
            },
            "type": "parcoords"
           }
          ],
          "pie": [
           {
            "automargin": true,
            "type": "pie"
           }
          ],
          "scatter": [
           {
            "marker": {
             "line": {
              "color": "#283442"
             }
            },
            "type": "scatter"
           }
          ],
          "scatter3d": [
           {
            "line": {
             "colorbar": {
              "outlinewidth": 0,
              "ticks": ""
             }
            },
            "marker": {
             "colorbar": {
              "outlinewidth": 0,
              "ticks": ""
             }
            },
            "type": "scatter3d"
           }
          ],
          "scattercarpet": [
           {
            "marker": {
             "colorbar": {
              "outlinewidth": 0,
              "ticks": ""
             }
            },
            "type": "scattercarpet"
           }
          ],
          "scattergeo": [
           {
            "marker": {
             "colorbar": {
              "outlinewidth": 0,
              "ticks": ""
             }
            },
            "type": "scattergeo"
           }
          ],
          "scattergl": [
           {
            "marker": {
             "line": {
              "color": "#283442"
             }
            },
            "type": "scattergl"
           }
          ],
          "scattermapbox": [
           {
            "marker": {
             "colorbar": {
              "outlinewidth": 0,
              "ticks": ""
             }
            },
            "type": "scattermapbox"
           }
          ],
          "scatterpolar": [
           {
            "marker": {
             "colorbar": {
              "outlinewidth": 0,
              "ticks": ""
             }
            },
            "type": "scatterpolar"
           }
          ],
          "scatterpolargl": [
           {
            "marker": {
             "colorbar": {
              "outlinewidth": 0,
              "ticks": ""
             }
            },
            "type": "scatterpolargl"
           }
          ],
          "scatterternary": [
           {
            "marker": {
             "colorbar": {
              "outlinewidth": 0,
              "ticks": ""
             }
            },
            "type": "scatterternary"
           }
          ],
          "surface": [
           {
            "colorbar": {
             "outlinewidth": 0,
             "ticks": ""
            },
            "colorscale": [
             [
              0,
              "#0d0887"
             ],
             [
              0.1111111111111111,
              "#46039f"
             ],
             [
              0.2222222222222222,
              "#7201a8"
             ],
             [
              0.3333333333333333,
              "#9c179e"
             ],
             [
              0.4444444444444444,
              "#bd3786"
             ],
             [
              0.5555555555555556,
              "#d8576b"
             ],
             [
              0.6666666666666666,
              "#ed7953"
             ],
             [
              0.7777777777777778,
              "#fb9f3a"
             ],
             [
              0.8888888888888888,
              "#fdca26"
             ],
             [
              1,
              "#f0f921"
             ]
            ],
            "type": "surface"
           }
          ],
          "table": [
           {
            "cells": {
             "fill": {
              "color": "#506784"
             },
             "line": {
              "color": "rgb(17,17,17)"
             }
            },
            "header": {
             "fill": {
              "color": "#2a3f5f"
             },
             "line": {
              "color": "rgb(17,17,17)"
             }
            },
            "type": "table"
           }
          ]
         },
         "layout": {
          "annotationdefaults": {
           "arrowcolor": "#f2f5fa",
           "arrowhead": 0,
           "arrowwidth": 1
          },
          "autotypenumbers": "strict",
          "coloraxis": {
           "colorbar": {
            "outlinewidth": 0,
            "ticks": ""
           }
          },
          "colorscale": {
           "diverging": [
            [
             0,
             "#8e0152"
            ],
            [
             0.1,
             "#c51b7d"
            ],
            [
             0.2,
             "#de77ae"
            ],
            [
             0.3,
             "#f1b6da"
            ],
            [
             0.4,
             "#fde0ef"
            ],
            [
             0.5,
             "#f7f7f7"
            ],
            [
             0.6,
             "#e6f5d0"
            ],
            [
             0.7,
             "#b8e186"
            ],
            [
             0.8,
             "#7fbc41"
            ],
            [
             0.9,
             "#4d9221"
            ],
            [
             1,
             "#276419"
            ]
           ],
           "sequential": [
            [
             0,
             "#0d0887"
            ],
            [
             0.1111111111111111,
             "#46039f"
            ],
            [
             0.2222222222222222,
             "#7201a8"
            ],
            [
             0.3333333333333333,
             "#9c179e"
            ],
            [
             0.4444444444444444,
             "#bd3786"
            ],
            [
             0.5555555555555556,
             "#d8576b"
            ],
            [
             0.6666666666666666,
             "#ed7953"
            ],
            [
             0.7777777777777778,
             "#fb9f3a"
            ],
            [
             0.8888888888888888,
             "#fdca26"
            ],
            [
             1,
             "#f0f921"
            ]
           ],
           "sequentialminus": [
            [
             0,
             "#0d0887"
            ],
            [
             0.1111111111111111,
             "#46039f"
            ],
            [
             0.2222222222222222,
             "#7201a8"
            ],
            [
             0.3333333333333333,
             "#9c179e"
            ],
            [
             0.4444444444444444,
             "#bd3786"
            ],
            [
             0.5555555555555556,
             "#d8576b"
            ],
            [
             0.6666666666666666,
             "#ed7953"
            ],
            [
             0.7777777777777778,
             "#fb9f3a"
            ],
            [
             0.8888888888888888,
             "#fdca26"
            ],
            [
             1,
             "#f0f921"
            ]
           ]
          },
          "colorway": [
           "#636efa",
           "#EF553B",
           "#00cc96",
           "#ab63fa",
           "#FFA15A",
           "#19d3f3",
           "#FF6692",
           "#B6E880",
           "#FF97FF",
           "#FECB52"
          ],
          "font": {
           "color": "#f2f5fa"
          },
          "geo": {
           "bgcolor": "rgb(17,17,17)",
           "lakecolor": "rgb(17,17,17)",
           "landcolor": "rgb(17,17,17)",
           "showlakes": true,
           "showland": true,
           "subunitcolor": "#506784"
          },
          "hoverlabel": {
           "align": "left"
          },
          "hovermode": "closest",
          "mapbox": {
           "style": "dark"
          },
          "paper_bgcolor": "rgb(17,17,17)",
          "plot_bgcolor": "rgb(17,17,17)",
          "polar": {
           "angularaxis": {
            "gridcolor": "#506784",
            "linecolor": "#506784",
            "ticks": ""
           },
           "bgcolor": "rgb(17,17,17)",
           "radialaxis": {
            "gridcolor": "#506784",
            "linecolor": "#506784",
            "ticks": ""
           }
          },
          "scene": {
           "xaxis": {
            "backgroundcolor": "rgb(17,17,17)",
            "gridcolor": "#506784",
            "gridwidth": 2,
            "linecolor": "#506784",
            "showbackground": true,
            "ticks": "",
            "zerolinecolor": "#C8D4E3"
           },
           "yaxis": {
            "backgroundcolor": "rgb(17,17,17)",
            "gridcolor": "#506784",
            "gridwidth": 2,
            "linecolor": "#506784",
            "showbackground": true,
            "ticks": "",
            "zerolinecolor": "#C8D4E3"
           },
           "zaxis": {
            "backgroundcolor": "rgb(17,17,17)",
            "gridcolor": "#506784",
            "gridwidth": 2,
            "linecolor": "#506784",
            "showbackground": true,
            "ticks": "",
            "zerolinecolor": "#C8D4E3"
           }
          },
          "shapedefaults": {
           "line": {
            "color": "#f2f5fa"
           }
          },
          "sliderdefaults": {
           "bgcolor": "#C8D4E3",
           "bordercolor": "rgb(17,17,17)",
           "borderwidth": 1,
           "tickwidth": 0
          },
          "ternary": {
           "aaxis": {
            "gridcolor": "#506784",
            "linecolor": "#506784",
            "ticks": ""
           },
           "baxis": {
            "gridcolor": "#506784",
            "linecolor": "#506784",
            "ticks": ""
           },
           "bgcolor": "rgb(17,17,17)",
           "caxis": {
            "gridcolor": "#506784",
            "linecolor": "#506784",
            "ticks": ""
           }
          },
          "title": {
           "x": 0.05
          },
          "updatemenudefaults": {
           "bgcolor": "#506784",
           "borderwidth": 0
          },
          "xaxis": {
           "automargin": true,
           "gridcolor": "#283442",
           "linecolor": "#506784",
           "ticks": "",
           "title": {
            "standoff": 15
           },
           "zerolinecolor": "#283442",
           "zerolinewidth": 2
          },
          "yaxis": {
           "automargin": true,
           "gridcolor": "#283442",
           "linecolor": "#506784",
           "ticks": "",
           "title": {
            "standoff": 15
           },
           "zerolinecolor": "#283442",
           "zerolinewidth": 2
          }
         }
        },
        "title": {
         "text": "Juegos con más de 100M de usuarios con fecha de lanzamiento"
        },
        "xaxis": {
         "anchor": "y",
         "categoryarray": [
          "dota 2",
          "counter-strike: global offensive",
          "pubg: battlegrounds",
          "new world",
          "team fortress 2",
          "apex legends",
          "grand theft auto v",
          "call of duty: modern warfare ii",
          "left 4 dead 2",
          "lost ark"
         ],
         "categoryorder": "array",
         "domain": [
          0,
          1
         ],
         "title": {
          "text": "Juego"
         }
        },
        "yaxis": {
         "anchor": "x",
         "domain": [
          0,
          1
         ],
         "title": {
          "text": "Usuarios Máximos"
         }
        }
       }
      }
     },
     "metadata": {},
     "output_type": "display_data"
    }
   ],
   "source": [
    "# Filtramos juegos con más de 100M de usuarios\n",
    "videogames_filtered = videogames_data[videogames_data['owners_max'] >= 100e6]\n",
    "\n",
    "# Ordenamos por owners_max\n",
    "videogames_filtered = videogames_filtered.sort_values('owners_max', ascending=False)\n",
    "\n",
    "# Formateamos las fechas para eliminar la hora, convirtiéndolas a formato de cadena solo con la fecha\n",
    "videogames_filtered['release_date'] = pd.to_datetime(videogames_filtered['release_date']).dt.date\n",
    "\n",
    "# Creamos el gráfico de barras utilizando 'text' para el hover data, pero evitando que se muestre sobre las barras\n",
    "fig = px.bar(videogames_filtered, x='name', y='owners_max',\n",
    "             color='name', \n",
    "             labels={'name': 'Juego', 'owners_max': 'Usuarios Máximos'},\n",
    "             title='Juegos con más de 100M de usuarios con fecha de lanzamiento',\n",
    "             template='plotly_dark',\n",
    "             text=videogames_filtered['release_date'])  \n",
    "\n",
    "# Ajustamos textposition para que el texto (fechas) no se muestre en las barras\n",
    "fig.update_traces(hovertemplate=\"Juegos: %{x}<br>Fecha de Lanzamiento: %{text}<br>Usuarios Máximos: %{y}\",\n",
    "                  textposition='none')\n",
    "\n",
    "# Ajustamos la altura del gráfico\n",
    "fig.update_layout(height=500)\n",
    "\n",
    "fig.show()\n",
    "\n",
    "# Exportar el gráfico como HTML\n",
    "#fig.write_html(\"graphs/9.html\")"
   ]
  },
  {
   "cell_type": "code",
   "execution_count": 16,
   "metadata": {},
   "outputs": [
    {
     "data": {
      "application/vnd.plotly.v1+json": {
       "config": {
        "plotlyServerURL": "https://plot.ly"
       },
       "data": [
        {
         "alignmentgroup": "True",
         "hovertemplate": "Distribuidora: %{y}<br>Precio Promedio: %{x:.2f}",
         "legendgroup": "",
         "marker": {
          "color": [
           29.956249999999997,
           28.18125,
           26.99653846153846,
           23.665,
           21.6935,
           19.435454545454544,
           18.803076923076922,
           16.265625,
           15.106,
           14.912592592592592,
           13.541666666666666,
           13.355384615384615,
           10.393225806451612,
           8.676571428571428,
           6.996874999999999
          ],
          "coloraxis": "coloraxis",
          "pattern": {
           "shape": ""
          }
         },
         "name": "",
         "offsetgroup": "",
         "orientation": "h",
         "showlegend": false,
         "textposition": "auto",
         "type": "bar",
         "x": [
          29.956249999999997,
          28.18125,
          26.99653846153846,
          23.665,
          21.6935,
          19.435454545454544,
          18.803076923076922,
          16.265625,
          15.106,
          14.912592592592592,
          13.541666666666666,
          13.355384615384615,
          10.393225806451612,
          8.676571428571428,
          6.996874999999999
         ],
         "xaxis": "x",
         "y": [
          "CAPCOM Co., Ltd.",
          "Paradox Interactive",
          "Ubisoft",
          "2K",
          "Xbox Game Studios",
          "Deep Silver",
          "Activision",
          "Devolver Digital",
          "Gearbox Publishing",
          "SEGA",
          "Rockstar Games",
          "Square Enix",
          "Bethesda Softworks",
          "Electronic Arts",
          "Valve"
         ],
         "yaxis": "y"
        }
       ],
       "layout": {
        "barmode": "relative",
        "coloraxis": {
         "colorbar": {
          "title": {
           "text": "color"
          }
         },
         "colorscale": [
          [
           0,
           "#0d0887"
          ],
          [
           0.1111111111111111,
           "#46039f"
          ],
          [
           0.2222222222222222,
           "#7201a8"
          ],
          [
           0.3333333333333333,
           "#9c179e"
          ],
          [
           0.4444444444444444,
           "#bd3786"
          ],
          [
           0.5555555555555556,
           "#d8576b"
          ],
          [
           0.6666666666666666,
           "#ed7953"
          ],
          [
           0.7777777777777778,
           "#fb9f3a"
          ],
          [
           0.8888888888888888,
           "#fdca26"
          ],
          [
           1,
           "#f0f921"
          ]
         ]
        },
        "height": 500,
        "legend": {
         "tracegroupgap": 0
        },
        "template": {
         "data": {
          "bar": [
           {
            "error_x": {
             "color": "#f2f5fa"
            },
            "error_y": {
             "color": "#f2f5fa"
            },
            "marker": {
             "line": {
              "color": "rgb(17,17,17)",
              "width": 0.5
             },
             "pattern": {
              "fillmode": "overlay",
              "size": 10,
              "solidity": 0.2
             }
            },
            "type": "bar"
           }
          ],
          "barpolar": [
           {
            "marker": {
             "line": {
              "color": "rgb(17,17,17)",
              "width": 0.5
             },
             "pattern": {
              "fillmode": "overlay",
              "size": 10,
              "solidity": 0.2
             }
            },
            "type": "barpolar"
           }
          ],
          "carpet": [
           {
            "aaxis": {
             "endlinecolor": "#A2B1C6",
             "gridcolor": "#506784",
             "linecolor": "#506784",
             "minorgridcolor": "#506784",
             "startlinecolor": "#A2B1C6"
            },
            "baxis": {
             "endlinecolor": "#A2B1C6",
             "gridcolor": "#506784",
             "linecolor": "#506784",
             "minorgridcolor": "#506784",
             "startlinecolor": "#A2B1C6"
            },
            "type": "carpet"
           }
          ],
          "choropleth": [
           {
            "colorbar": {
             "outlinewidth": 0,
             "ticks": ""
            },
            "type": "choropleth"
           }
          ],
          "contour": [
           {
            "colorbar": {
             "outlinewidth": 0,
             "ticks": ""
            },
            "colorscale": [
             [
              0,
              "#0d0887"
             ],
             [
              0.1111111111111111,
              "#46039f"
             ],
             [
              0.2222222222222222,
              "#7201a8"
             ],
             [
              0.3333333333333333,
              "#9c179e"
             ],
             [
              0.4444444444444444,
              "#bd3786"
             ],
             [
              0.5555555555555556,
              "#d8576b"
             ],
             [
              0.6666666666666666,
              "#ed7953"
             ],
             [
              0.7777777777777778,
              "#fb9f3a"
             ],
             [
              0.8888888888888888,
              "#fdca26"
             ],
             [
              1,
              "#f0f921"
             ]
            ],
            "type": "contour"
           }
          ],
          "contourcarpet": [
           {
            "colorbar": {
             "outlinewidth": 0,
             "ticks": ""
            },
            "type": "contourcarpet"
           }
          ],
          "heatmap": [
           {
            "colorbar": {
             "outlinewidth": 0,
             "ticks": ""
            },
            "colorscale": [
             [
              0,
              "#0d0887"
             ],
             [
              0.1111111111111111,
              "#46039f"
             ],
             [
              0.2222222222222222,
              "#7201a8"
             ],
             [
              0.3333333333333333,
              "#9c179e"
             ],
             [
              0.4444444444444444,
              "#bd3786"
             ],
             [
              0.5555555555555556,
              "#d8576b"
             ],
             [
              0.6666666666666666,
              "#ed7953"
             ],
             [
              0.7777777777777778,
              "#fb9f3a"
             ],
             [
              0.8888888888888888,
              "#fdca26"
             ],
             [
              1,
              "#f0f921"
             ]
            ],
            "type": "heatmap"
           }
          ],
          "heatmapgl": [
           {
            "colorbar": {
             "outlinewidth": 0,
             "ticks": ""
            },
            "colorscale": [
             [
              0,
              "#0d0887"
             ],
             [
              0.1111111111111111,
              "#46039f"
             ],
             [
              0.2222222222222222,
              "#7201a8"
             ],
             [
              0.3333333333333333,
              "#9c179e"
             ],
             [
              0.4444444444444444,
              "#bd3786"
             ],
             [
              0.5555555555555556,
              "#d8576b"
             ],
             [
              0.6666666666666666,
              "#ed7953"
             ],
             [
              0.7777777777777778,
              "#fb9f3a"
             ],
             [
              0.8888888888888888,
              "#fdca26"
             ],
             [
              1,
              "#f0f921"
             ]
            ],
            "type": "heatmapgl"
           }
          ],
          "histogram": [
           {
            "marker": {
             "pattern": {
              "fillmode": "overlay",
              "size": 10,
              "solidity": 0.2
             }
            },
            "type": "histogram"
           }
          ],
          "histogram2d": [
           {
            "colorbar": {
             "outlinewidth": 0,
             "ticks": ""
            },
            "colorscale": [
             [
              0,
              "#0d0887"
             ],
             [
              0.1111111111111111,
              "#46039f"
             ],
             [
              0.2222222222222222,
              "#7201a8"
             ],
             [
              0.3333333333333333,
              "#9c179e"
             ],
             [
              0.4444444444444444,
              "#bd3786"
             ],
             [
              0.5555555555555556,
              "#d8576b"
             ],
             [
              0.6666666666666666,
              "#ed7953"
             ],
             [
              0.7777777777777778,
              "#fb9f3a"
             ],
             [
              0.8888888888888888,
              "#fdca26"
             ],
             [
              1,
              "#f0f921"
             ]
            ],
            "type": "histogram2d"
           }
          ],
          "histogram2dcontour": [
           {
            "colorbar": {
             "outlinewidth": 0,
             "ticks": ""
            },
            "colorscale": [
             [
              0,
              "#0d0887"
             ],
             [
              0.1111111111111111,
              "#46039f"
             ],
             [
              0.2222222222222222,
              "#7201a8"
             ],
             [
              0.3333333333333333,
              "#9c179e"
             ],
             [
              0.4444444444444444,
              "#bd3786"
             ],
             [
              0.5555555555555556,
              "#d8576b"
             ],
             [
              0.6666666666666666,
              "#ed7953"
             ],
             [
              0.7777777777777778,
              "#fb9f3a"
             ],
             [
              0.8888888888888888,
              "#fdca26"
             ],
             [
              1,
              "#f0f921"
             ]
            ],
            "type": "histogram2dcontour"
           }
          ],
          "mesh3d": [
           {
            "colorbar": {
             "outlinewidth": 0,
             "ticks": ""
            },
            "type": "mesh3d"
           }
          ],
          "parcoords": [
           {
            "line": {
             "colorbar": {
              "outlinewidth": 0,
              "ticks": ""
             }
            },
            "type": "parcoords"
           }
          ],
          "pie": [
           {
            "automargin": true,
            "type": "pie"
           }
          ],
          "scatter": [
           {
            "marker": {
             "line": {
              "color": "#283442"
             }
            },
            "type": "scatter"
           }
          ],
          "scatter3d": [
           {
            "line": {
             "colorbar": {
              "outlinewidth": 0,
              "ticks": ""
             }
            },
            "marker": {
             "colorbar": {
              "outlinewidth": 0,
              "ticks": ""
             }
            },
            "type": "scatter3d"
           }
          ],
          "scattercarpet": [
           {
            "marker": {
             "colorbar": {
              "outlinewidth": 0,
              "ticks": ""
             }
            },
            "type": "scattercarpet"
           }
          ],
          "scattergeo": [
           {
            "marker": {
             "colorbar": {
              "outlinewidth": 0,
              "ticks": ""
             }
            },
            "type": "scattergeo"
           }
          ],
          "scattergl": [
           {
            "marker": {
             "line": {
              "color": "#283442"
             }
            },
            "type": "scattergl"
           }
          ],
          "scattermapbox": [
           {
            "marker": {
             "colorbar": {
              "outlinewidth": 0,
              "ticks": ""
             }
            },
            "type": "scattermapbox"
           }
          ],
          "scatterpolar": [
           {
            "marker": {
             "colorbar": {
              "outlinewidth": 0,
              "ticks": ""
             }
            },
            "type": "scatterpolar"
           }
          ],
          "scatterpolargl": [
           {
            "marker": {
             "colorbar": {
              "outlinewidth": 0,
              "ticks": ""
             }
            },
            "type": "scatterpolargl"
           }
          ],
          "scatterternary": [
           {
            "marker": {
             "colorbar": {
              "outlinewidth": 0,
              "ticks": ""
             }
            },
            "type": "scatterternary"
           }
          ],
          "surface": [
           {
            "colorbar": {
             "outlinewidth": 0,
             "ticks": ""
            },
            "colorscale": [
             [
              0,
              "#0d0887"
             ],
             [
              0.1111111111111111,
              "#46039f"
             ],
             [
              0.2222222222222222,
              "#7201a8"
             ],
             [
              0.3333333333333333,
              "#9c179e"
             ],
             [
              0.4444444444444444,
              "#bd3786"
             ],
             [
              0.5555555555555556,
              "#d8576b"
             ],
             [
              0.6666666666666666,
              "#ed7953"
             ],
             [
              0.7777777777777778,
              "#fb9f3a"
             ],
             [
              0.8888888888888888,
              "#fdca26"
             ],
             [
              1,
              "#f0f921"
             ]
            ],
            "type": "surface"
           }
          ],
          "table": [
           {
            "cells": {
             "fill": {
              "color": "#506784"
             },
             "line": {
              "color": "rgb(17,17,17)"
             }
            },
            "header": {
             "fill": {
              "color": "#2a3f5f"
             },
             "line": {
              "color": "rgb(17,17,17)"
             }
            },
            "type": "table"
           }
          ]
         },
         "layout": {
          "annotationdefaults": {
           "arrowcolor": "#f2f5fa",
           "arrowhead": 0,
           "arrowwidth": 1
          },
          "autotypenumbers": "strict",
          "coloraxis": {
           "colorbar": {
            "outlinewidth": 0,
            "ticks": ""
           }
          },
          "colorscale": {
           "diverging": [
            [
             0,
             "#8e0152"
            ],
            [
             0.1,
             "#c51b7d"
            ],
            [
             0.2,
             "#de77ae"
            ],
            [
             0.3,
             "#f1b6da"
            ],
            [
             0.4,
             "#fde0ef"
            ],
            [
             0.5,
             "#f7f7f7"
            ],
            [
             0.6,
             "#e6f5d0"
            ],
            [
             0.7,
             "#b8e186"
            ],
            [
             0.8,
             "#7fbc41"
            ],
            [
             0.9,
             "#4d9221"
            ],
            [
             1,
             "#276419"
            ]
           ],
           "sequential": [
            [
             0,
             "#0d0887"
            ],
            [
             0.1111111111111111,
             "#46039f"
            ],
            [
             0.2222222222222222,
             "#7201a8"
            ],
            [
             0.3333333333333333,
             "#9c179e"
            ],
            [
             0.4444444444444444,
             "#bd3786"
            ],
            [
             0.5555555555555556,
             "#d8576b"
            ],
            [
             0.6666666666666666,
             "#ed7953"
            ],
            [
             0.7777777777777778,
             "#fb9f3a"
            ],
            [
             0.8888888888888888,
             "#fdca26"
            ],
            [
             1,
             "#f0f921"
            ]
           ],
           "sequentialminus": [
            [
             0,
             "#0d0887"
            ],
            [
             0.1111111111111111,
             "#46039f"
            ],
            [
             0.2222222222222222,
             "#7201a8"
            ],
            [
             0.3333333333333333,
             "#9c179e"
            ],
            [
             0.4444444444444444,
             "#bd3786"
            ],
            [
             0.5555555555555556,
             "#d8576b"
            ],
            [
             0.6666666666666666,
             "#ed7953"
            ],
            [
             0.7777777777777778,
             "#fb9f3a"
            ],
            [
             0.8888888888888888,
             "#fdca26"
            ],
            [
             1,
             "#f0f921"
            ]
           ]
          },
          "colorway": [
           "#636efa",
           "#EF553B",
           "#00cc96",
           "#ab63fa",
           "#FFA15A",
           "#19d3f3",
           "#FF6692",
           "#B6E880",
           "#FF97FF",
           "#FECB52"
          ],
          "font": {
           "color": "#f2f5fa"
          },
          "geo": {
           "bgcolor": "rgb(17,17,17)",
           "lakecolor": "rgb(17,17,17)",
           "landcolor": "rgb(17,17,17)",
           "showlakes": true,
           "showland": true,
           "subunitcolor": "#506784"
          },
          "hoverlabel": {
           "align": "left"
          },
          "hovermode": "closest",
          "mapbox": {
           "style": "dark"
          },
          "paper_bgcolor": "rgb(17,17,17)",
          "plot_bgcolor": "rgb(17,17,17)",
          "polar": {
           "angularaxis": {
            "gridcolor": "#506784",
            "linecolor": "#506784",
            "ticks": ""
           },
           "bgcolor": "rgb(17,17,17)",
           "radialaxis": {
            "gridcolor": "#506784",
            "linecolor": "#506784",
            "ticks": ""
           }
          },
          "scene": {
           "xaxis": {
            "backgroundcolor": "rgb(17,17,17)",
            "gridcolor": "#506784",
            "gridwidth": 2,
            "linecolor": "#506784",
            "showbackground": true,
            "ticks": "",
            "zerolinecolor": "#C8D4E3"
           },
           "yaxis": {
            "backgroundcolor": "rgb(17,17,17)",
            "gridcolor": "#506784",
            "gridwidth": 2,
            "linecolor": "#506784",
            "showbackground": true,
            "ticks": "",
            "zerolinecolor": "#C8D4E3"
           },
           "zaxis": {
            "backgroundcolor": "rgb(17,17,17)",
            "gridcolor": "#506784",
            "gridwidth": 2,
            "linecolor": "#506784",
            "showbackground": true,
            "ticks": "",
            "zerolinecolor": "#C8D4E3"
           }
          },
          "shapedefaults": {
           "line": {
            "color": "#f2f5fa"
           }
          },
          "sliderdefaults": {
           "bgcolor": "#C8D4E3",
           "bordercolor": "rgb(17,17,17)",
           "borderwidth": 1,
           "tickwidth": 0
          },
          "ternary": {
           "aaxis": {
            "gridcolor": "#506784",
            "linecolor": "#506784",
            "ticks": ""
           },
           "baxis": {
            "gridcolor": "#506784",
            "linecolor": "#506784",
            "ticks": ""
           },
           "bgcolor": "rgb(17,17,17)",
           "caxis": {
            "gridcolor": "#506784",
            "linecolor": "#506784",
            "ticks": ""
           }
          },
          "title": {
           "x": 0.05
          },
          "updatemenudefaults": {
           "bgcolor": "#506784",
           "borderwidth": 0
          },
          "xaxis": {
           "automargin": true,
           "gridcolor": "#283442",
           "linecolor": "#506784",
           "ticks": "",
           "title": {
            "standoff": 15
           },
           "zerolinecolor": "#283442",
           "zerolinewidth": 2
          },
          "yaxis": {
           "automargin": true,
           "gridcolor": "#283442",
           "linecolor": "#506784",
           "ticks": "",
           "title": {
            "standoff": 15
           },
           "zerolinecolor": "#283442",
           "zerolinewidth": 2
          }
         }
        },
        "title": {
         "text": "Precio promedio de las 15 distribuidoras con más juegos publicados"
        },
        "xaxis": {
         "anchor": "y",
         "domain": [
          0,
          1
         ],
         "title": {
          "text": "Precio Promedio"
         }
        },
        "yaxis": {
         "anchor": "x",
         "domain": [
          0,
          1
         ],
         "title": {
          "text": "Distribuidora"
         }
        }
       }
      }
     },
     "metadata": {},
     "output_type": "display_data"
    }
   ],
   "source": [
    "# Agrupar por 'publisher', contar los juegos y calcular el precio promedio\n",
    "publisher_counts = videogames_data['publisher'].value_counts()\n",
    "top_publishers = publisher_counts.head(15).index\n",
    "top_publishers_data = videogames_data[videogames_data['publisher'].isin(top_publishers)]\n",
    "avg_price_by_publisher = top_publishers_data.groupby('publisher')['price'].mean().sort_values(ascending=False)\n",
    "\n",
    "# Crear el gráfico de barras con el precio promedio por distribuidora\n",
    "fig = px.bar(\n",
    "    avg_price_by_publisher,\n",
    "    x=avg_price_by_publisher.values,\n",
    "    y=avg_price_by_publisher.index,\n",
    "    labels={'x': 'Precio Promedio', 'y': 'Distribuidora'},\n",
    "    title='Precio promedio de las 15 distribuidoras con más juegos publicados',\n",
    "    template='plotly_dark',\n",
    "    color=avg_price_by_publisher.values,  # Usamos el precio promedio para el color de nuevo\n",
    ")\n",
    "\n",
    "# Personalizar el hovertemplate para mostrar solo la información deseada\n",
    "fig.update_traces(hovertemplate='Distribuidora: %{y}<br>Precio Promedio: %{x:.2f}')\n",
    "\n",
    "# Actualizar configuraciones de layout para claridad\n",
    "fig.update_layout(yaxis_title='Distribuidora', xaxis_title='Precio Promedio', height=500)\n",
    "\n",
    "fig.show()\n",
    "\n",
    "# Exportar el gráfico como HTML\n",
    "# fig.write_html(\"graphs/10.html\")"
   ]
  },
  {
   "cell_type": "code",
   "execution_count": 238,
   "metadata": {},
   "outputs": [
    {
     "data": {
      "application/vnd.plotly.v1+json": {
       "config": {
        "plotlyServerURL": "https://plot.ly"
       },
       "data": [
        {
         "alignmentgroup": "True",
         "hovertemplate": "Distribuidora=%{y}<br>Usuarios máximos=%{x}<extra></extra>",
         "legendgroup": "Valve",
         "marker": {
          "color": "#636efa",
          "pattern": {
           "shape": ""
          }
         },
         "name": "Valve",
         "offsetgroup": "Valve",
         "orientation": "h",
         "showlegend": true,
         "textposition": "auto",
         "type": "bar",
         "x": [
          1274000000
         ],
         "xaxis": "x",
         "y": [
          "Valve"
         ],
         "yaxis": "y"
        },
        {
         "alignmentgroup": "True",
         "hovertemplate": "Distribuidora=%{y}<br>Usuarios máximos=%{x}<extra></extra>",
         "legendgroup": "Electronic Arts",
         "marker": {
          "color": "#EF553B",
          "pattern": {
           "shape": ""
          }
         },
         "name": "Electronic Arts",
         "offsetgroup": "Electronic Arts",
         "orientation": "h",
         "showlegend": true,
         "textposition": "auto",
         "type": "bar",
         "x": [
          278000000
         ],
         "xaxis": "x",
         "y": [
          "Electronic Arts"
         ],
         "yaxis": "y"
        },
        {
         "alignmentgroup": "True",
         "hovertemplate": "Distribuidora=%{y}<br>Usuarios máximos=%{x}<extra></extra>",
         "legendgroup": "Rockstar Games",
         "marker": {
          "color": "#00cc96",
          "pattern": {
           "shape": ""
          }
         },
         "name": "Rockstar Games",
         "offsetgroup": "Rockstar Games",
         "orientation": "h",
         "showlegend": true,
         "textposition": "auto",
         "type": "bar",
         "x": [
          222000000
         ],
         "xaxis": "x",
         "y": [
          "Rockstar Games"
         ],
         "yaxis": "y"
        },
        {
         "alignmentgroup": "True",
         "hovertemplate": "Distribuidora=%{y}<br>Usuarios máximos=%{x}<extra></extra>",
         "legendgroup": "Amazon Games",
         "marker": {
          "color": "#ab63fa",
          "pattern": {
           "shape": ""
          }
         },
         "name": "Amazon Games",
         "offsetgroup": "Amazon Games",
         "orientation": "h",
         "showlegend": true,
         "textposition": "auto",
         "type": "bar",
         "x": [
          205000000
         ],
         "xaxis": "x",
         "y": [
          "Amazon Games"
         ],
         "yaxis": "y"
        },
        {
         "alignmentgroup": "True",
         "hovertemplate": "Distribuidora=%{y}<br>Usuarios máximos=%{x}<extra></extra>",
         "legendgroup": "Ubisoft",
         "marker": {
          "color": "#FFA15A",
          "pattern": {
           "shape": ""
          }
         },
         "name": "Ubisoft",
         "offsetgroup": "Ubisoft",
         "orientation": "h",
         "showlegend": true,
         "textposition": "auto",
         "type": "bar",
         "x": [
          200000000
         ],
         "xaxis": "x",
         "y": [
          "Ubisoft"
         ],
         "yaxis": "y"
        },
        {
         "alignmentgroup": "True",
         "hovertemplate": "Distribuidora=%{y}<br>Usuarios máximos=%{x}<extra></extra>",
         "legendgroup": "Activision",
         "marker": {
          "color": "#19d3f3",
          "pattern": {
           "shape": ""
          }
         },
         "name": "Activision",
         "offsetgroup": "Activision",
         "orientation": "h",
         "showlegend": true,
         "textposition": "auto",
         "type": "bar",
         "x": [
          158000000
         ],
         "xaxis": "x",
         "y": [
          "Activision"
         ],
         "yaxis": "y"
        },
        {
         "alignmentgroup": "True",
         "hovertemplate": "Distribuidora=%{y}<br>Usuarios máximos=%{x}<extra></extra>",
         "legendgroup": "Bethesda Softworks",
         "marker": {
          "color": "#FF6692",
          "pattern": {
           "shape": ""
          }
         },
         "name": "Bethesda Softworks",
         "offsetgroup": "Bethesda Softworks",
         "orientation": "h",
         "showlegend": true,
         "textposition": "auto",
         "type": "bar",
         "x": [
          151000000
         ],
         "xaxis": "x",
         "y": [
          "Bethesda Softworks"
         ],
         "yaxis": "y"
        },
        {
         "alignmentgroup": "True",
         "hovertemplate": "Distribuidora=%{y}<br>Usuarios máximos=%{x}<extra></extra>",
         "legendgroup": "Xbox Game Studios",
         "marker": {
          "color": "#B6E880",
          "pattern": {
           "shape": ""
          }
         },
         "name": "Xbox Game Studios",
         "offsetgroup": "Xbox Game Studios",
         "orientation": "h",
         "showlegend": true,
         "textposition": "auto",
         "type": "bar",
         "x": [
          110000000
         ],
         "xaxis": "x",
         "y": [
          "Xbox Game Studios"
         ],
         "yaxis": "y"
        },
        {
         "alignmentgroup": "True",
         "hovertemplate": "Distribuidora=%{y}<br>Usuarios máximos=%{x}<extra></extra>",
         "legendgroup": "CAPCOM Co., Ltd.",
         "marker": {
          "color": "#FF97FF",
          "pattern": {
           "shape": ""
          }
         },
         "name": "CAPCOM Co., Ltd.",
         "offsetgroup": "CAPCOM Co., Ltd.",
         "orientation": "h",
         "showlegend": true,
         "textposition": "auto",
         "type": "bar",
         "x": [
          103000000
         ],
         "xaxis": "x",
         "y": [
          "CAPCOM Co., Ltd."
         ],
         "yaxis": "y"
        },
        {
         "alignmentgroup": "True",
         "hovertemplate": "Distribuidora=%{y}<br>Usuarios máximos=%{x}<extra></extra>",
         "legendgroup": "Facepunch Studios",
         "marker": {
          "color": "#FECB52",
          "pattern": {
           "shape": ""
          }
         },
         "name": "Facepunch Studios",
         "offsetgroup": "Facepunch Studios",
         "orientation": "h",
         "showlegend": true,
         "textposition": "auto",
         "type": "bar",
         "x": [
          100000000
         ],
         "xaxis": "x",
         "y": [
          "Facepunch Studios"
         ],
         "yaxis": "y"
        },
        {
         "alignmentgroup": "True",
         "hovertemplate": "Distribuidora=%{y}<br>Usuarios máximos=%{x}<extra></extra>",
         "legendgroup": "KRAFTON, Inc.",
         "marker": {
          "color": "#636efa",
          "pattern": {
           "shape": ""
          }
         },
         "name": "KRAFTON, Inc.",
         "offsetgroup": "KRAFTON, Inc.",
         "orientation": "h",
         "showlegend": true,
         "textposition": "auto",
         "type": "bar",
         "x": [
          100000000
         ],
         "xaxis": "x",
         "y": [
          "KRAFTON, Inc."
         ],
         "yaxis": "y"
        },
        {
         "alignmentgroup": "True",
         "hovertemplate": "Distribuidora=%{y}<br>Usuarios máximos=%{x}<extra></extra>",
         "legendgroup": "2K",
         "marker": {
          "color": "#EF553B",
          "pattern": {
           "shape": ""
          }
         },
         "name": "2K",
         "offsetgroup": "2K",
         "orientation": "h",
         "showlegend": true,
         "textposition": "auto",
         "type": "bar",
         "x": [
          93000000
         ],
         "xaxis": "x",
         "y": [
          "2K"
         ],
         "yaxis": "y"
        },
        {
         "alignmentgroup": "True",
         "hovertemplate": "Distribuidora=%{y}<br>Usuarios máximos=%{x}<extra></extra>",
         "legendgroup": "SEGA",
         "marker": {
          "color": "#00cc96",
          "pattern": {
           "shape": ""
          }
         },
         "name": "SEGA",
         "offsetgroup": "SEGA",
         "orientation": "h",
         "showlegend": true,
         "textposition": "auto",
         "type": "bar",
         "x": [
          86000000
         ],
         "xaxis": "x",
         "y": [
          "SEGA"
         ],
         "yaxis": "y"
        },
        {
         "alignmentgroup": "True",
         "hovertemplate": "Distribuidora=%{y}<br>Usuarios máximos=%{x}<extra></extra>",
         "legendgroup": "Paradox Interactive",
         "marker": {
          "color": "#ab63fa",
          "pattern": {
           "shape": ""
          }
         },
         "name": "Paradox Interactive",
         "offsetgroup": "Paradox Interactive",
         "orientation": "h",
         "showlegend": true,
         "textposition": "auto",
         "type": "bar",
         "x": [
          82000000
         ],
         "xaxis": "x",
         "y": [
          "Paradox Interactive"
         ],
         "yaxis": "y"
        },
        {
         "alignmentgroup": "True",
         "hovertemplate": "Distribuidora=%{y}<br>Usuarios máximos=%{x}<extra></extra>",
         "legendgroup": "Coffee Stain Publishing",
         "marker": {
          "color": "#FFA15A",
          "pattern": {
           "shape": ""
          }
         },
         "name": "Coffee Stain Publishing",
         "offsetgroup": "Coffee Stain Publishing",
         "orientation": "h",
         "showlegend": true,
         "textposition": "auto",
         "type": "bar",
         "x": [
          82000000
         ],
         "xaxis": "x",
         "y": [
          "Coffee Stain Publishing"
         ],
         "yaxis": "y"
        }
       ],
       "layout": {
        "barmode": "relative",
        "legend": {
         "title": {
          "text": "Distribuidora"
         },
         "tracegroupgap": 0
        },
        "template": {
         "data": {
          "bar": [
           {
            "error_x": {
             "color": "#f2f5fa"
            },
            "error_y": {
             "color": "#f2f5fa"
            },
            "marker": {
             "line": {
              "color": "rgb(17,17,17)",
              "width": 0.5
             },
             "pattern": {
              "fillmode": "overlay",
              "size": 10,
              "solidity": 0.2
             }
            },
            "type": "bar"
           }
          ],
          "barpolar": [
           {
            "marker": {
             "line": {
              "color": "rgb(17,17,17)",
              "width": 0.5
             },
             "pattern": {
              "fillmode": "overlay",
              "size": 10,
              "solidity": 0.2
             }
            },
            "type": "barpolar"
           }
          ],
          "carpet": [
           {
            "aaxis": {
             "endlinecolor": "#A2B1C6",
             "gridcolor": "#506784",
             "linecolor": "#506784",
             "minorgridcolor": "#506784",
             "startlinecolor": "#A2B1C6"
            },
            "baxis": {
             "endlinecolor": "#A2B1C6",
             "gridcolor": "#506784",
             "linecolor": "#506784",
             "minorgridcolor": "#506784",
             "startlinecolor": "#A2B1C6"
            },
            "type": "carpet"
           }
          ],
          "choropleth": [
           {
            "colorbar": {
             "outlinewidth": 0,
             "ticks": ""
            },
            "type": "choropleth"
           }
          ],
          "contour": [
           {
            "colorbar": {
             "outlinewidth": 0,
             "ticks": ""
            },
            "colorscale": [
             [
              0,
              "#0d0887"
             ],
             [
              0.1111111111111111,
              "#46039f"
             ],
             [
              0.2222222222222222,
              "#7201a8"
             ],
             [
              0.3333333333333333,
              "#9c179e"
             ],
             [
              0.4444444444444444,
              "#bd3786"
             ],
             [
              0.5555555555555556,
              "#d8576b"
             ],
             [
              0.6666666666666666,
              "#ed7953"
             ],
             [
              0.7777777777777778,
              "#fb9f3a"
             ],
             [
              0.8888888888888888,
              "#fdca26"
             ],
             [
              1,
              "#f0f921"
             ]
            ],
            "type": "contour"
           }
          ],
          "contourcarpet": [
           {
            "colorbar": {
             "outlinewidth": 0,
             "ticks": ""
            },
            "type": "contourcarpet"
           }
          ],
          "heatmap": [
           {
            "colorbar": {
             "outlinewidth": 0,
             "ticks": ""
            },
            "colorscale": [
             [
              0,
              "#0d0887"
             ],
             [
              0.1111111111111111,
              "#46039f"
             ],
             [
              0.2222222222222222,
              "#7201a8"
             ],
             [
              0.3333333333333333,
              "#9c179e"
             ],
             [
              0.4444444444444444,
              "#bd3786"
             ],
             [
              0.5555555555555556,
              "#d8576b"
             ],
             [
              0.6666666666666666,
              "#ed7953"
             ],
             [
              0.7777777777777778,
              "#fb9f3a"
             ],
             [
              0.8888888888888888,
              "#fdca26"
             ],
             [
              1,
              "#f0f921"
             ]
            ],
            "type": "heatmap"
           }
          ],
          "heatmapgl": [
           {
            "colorbar": {
             "outlinewidth": 0,
             "ticks": ""
            },
            "colorscale": [
             [
              0,
              "#0d0887"
             ],
             [
              0.1111111111111111,
              "#46039f"
             ],
             [
              0.2222222222222222,
              "#7201a8"
             ],
             [
              0.3333333333333333,
              "#9c179e"
             ],
             [
              0.4444444444444444,
              "#bd3786"
             ],
             [
              0.5555555555555556,
              "#d8576b"
             ],
             [
              0.6666666666666666,
              "#ed7953"
             ],
             [
              0.7777777777777778,
              "#fb9f3a"
             ],
             [
              0.8888888888888888,
              "#fdca26"
             ],
             [
              1,
              "#f0f921"
             ]
            ],
            "type": "heatmapgl"
           }
          ],
          "histogram": [
           {
            "marker": {
             "pattern": {
              "fillmode": "overlay",
              "size": 10,
              "solidity": 0.2
             }
            },
            "type": "histogram"
           }
          ],
          "histogram2d": [
           {
            "colorbar": {
             "outlinewidth": 0,
             "ticks": ""
            },
            "colorscale": [
             [
              0,
              "#0d0887"
             ],
             [
              0.1111111111111111,
              "#46039f"
             ],
             [
              0.2222222222222222,
              "#7201a8"
             ],
             [
              0.3333333333333333,
              "#9c179e"
             ],
             [
              0.4444444444444444,
              "#bd3786"
             ],
             [
              0.5555555555555556,
              "#d8576b"
             ],
             [
              0.6666666666666666,
              "#ed7953"
             ],
             [
              0.7777777777777778,
              "#fb9f3a"
             ],
             [
              0.8888888888888888,
              "#fdca26"
             ],
             [
              1,
              "#f0f921"
             ]
            ],
            "type": "histogram2d"
           }
          ],
          "histogram2dcontour": [
           {
            "colorbar": {
             "outlinewidth": 0,
             "ticks": ""
            },
            "colorscale": [
             [
              0,
              "#0d0887"
             ],
             [
              0.1111111111111111,
              "#46039f"
             ],
             [
              0.2222222222222222,
              "#7201a8"
             ],
             [
              0.3333333333333333,
              "#9c179e"
             ],
             [
              0.4444444444444444,
              "#bd3786"
             ],
             [
              0.5555555555555556,
              "#d8576b"
             ],
             [
              0.6666666666666666,
              "#ed7953"
             ],
             [
              0.7777777777777778,
              "#fb9f3a"
             ],
             [
              0.8888888888888888,
              "#fdca26"
             ],
             [
              1,
              "#f0f921"
             ]
            ],
            "type": "histogram2dcontour"
           }
          ],
          "mesh3d": [
           {
            "colorbar": {
             "outlinewidth": 0,
             "ticks": ""
            },
            "type": "mesh3d"
           }
          ],
          "parcoords": [
           {
            "line": {
             "colorbar": {
              "outlinewidth": 0,
              "ticks": ""
             }
            },
            "type": "parcoords"
           }
          ],
          "pie": [
           {
            "automargin": true,
            "type": "pie"
           }
          ],
          "scatter": [
           {
            "marker": {
             "line": {
              "color": "#283442"
             }
            },
            "type": "scatter"
           }
          ],
          "scatter3d": [
           {
            "line": {
             "colorbar": {
              "outlinewidth": 0,
              "ticks": ""
             }
            },
            "marker": {
             "colorbar": {
              "outlinewidth": 0,
              "ticks": ""
             }
            },
            "type": "scatter3d"
           }
          ],
          "scattercarpet": [
           {
            "marker": {
             "colorbar": {
              "outlinewidth": 0,
              "ticks": ""
             }
            },
            "type": "scattercarpet"
           }
          ],
          "scattergeo": [
           {
            "marker": {
             "colorbar": {
              "outlinewidth": 0,
              "ticks": ""
             }
            },
            "type": "scattergeo"
           }
          ],
          "scattergl": [
           {
            "marker": {
             "line": {
              "color": "#283442"
             }
            },
            "type": "scattergl"
           }
          ],
          "scattermapbox": [
           {
            "marker": {
             "colorbar": {
              "outlinewidth": 0,
              "ticks": ""
             }
            },
            "type": "scattermapbox"
           }
          ],
          "scatterpolar": [
           {
            "marker": {
             "colorbar": {
              "outlinewidth": 0,
              "ticks": ""
             }
            },
            "type": "scatterpolar"
           }
          ],
          "scatterpolargl": [
           {
            "marker": {
             "colorbar": {
              "outlinewidth": 0,
              "ticks": ""
             }
            },
            "type": "scatterpolargl"
           }
          ],
          "scatterternary": [
           {
            "marker": {
             "colorbar": {
              "outlinewidth": 0,
              "ticks": ""
             }
            },
            "type": "scatterternary"
           }
          ],
          "surface": [
           {
            "colorbar": {
             "outlinewidth": 0,
             "ticks": ""
            },
            "colorscale": [
             [
              0,
              "#0d0887"
             ],
             [
              0.1111111111111111,
              "#46039f"
             ],
             [
              0.2222222222222222,
              "#7201a8"
             ],
             [
              0.3333333333333333,
              "#9c179e"
             ],
             [
              0.4444444444444444,
              "#bd3786"
             ],
             [
              0.5555555555555556,
              "#d8576b"
             ],
             [
              0.6666666666666666,
              "#ed7953"
             ],
             [
              0.7777777777777778,
              "#fb9f3a"
             ],
             [
              0.8888888888888888,
              "#fdca26"
             ],
             [
              1,
              "#f0f921"
             ]
            ],
            "type": "surface"
           }
          ],
          "table": [
           {
            "cells": {
             "fill": {
              "color": "#506784"
             },
             "line": {
              "color": "rgb(17,17,17)"
             }
            },
            "header": {
             "fill": {
              "color": "#2a3f5f"
             },
             "line": {
              "color": "rgb(17,17,17)"
             }
            },
            "type": "table"
           }
          ]
         },
         "layout": {
          "annotationdefaults": {
           "arrowcolor": "#f2f5fa",
           "arrowhead": 0,
           "arrowwidth": 1
          },
          "autotypenumbers": "strict",
          "coloraxis": {
           "colorbar": {
            "outlinewidth": 0,
            "ticks": ""
           }
          },
          "colorscale": {
           "diverging": [
            [
             0,
             "#8e0152"
            ],
            [
             0.1,
             "#c51b7d"
            ],
            [
             0.2,
             "#de77ae"
            ],
            [
             0.3,
             "#f1b6da"
            ],
            [
             0.4,
             "#fde0ef"
            ],
            [
             0.5,
             "#f7f7f7"
            ],
            [
             0.6,
             "#e6f5d0"
            ],
            [
             0.7,
             "#b8e186"
            ],
            [
             0.8,
             "#7fbc41"
            ],
            [
             0.9,
             "#4d9221"
            ],
            [
             1,
             "#276419"
            ]
           ],
           "sequential": [
            [
             0,
             "#0d0887"
            ],
            [
             0.1111111111111111,
             "#46039f"
            ],
            [
             0.2222222222222222,
             "#7201a8"
            ],
            [
             0.3333333333333333,
             "#9c179e"
            ],
            [
             0.4444444444444444,
             "#bd3786"
            ],
            [
             0.5555555555555556,
             "#d8576b"
            ],
            [
             0.6666666666666666,
             "#ed7953"
            ],
            [
             0.7777777777777778,
             "#fb9f3a"
            ],
            [
             0.8888888888888888,
             "#fdca26"
            ],
            [
             1,
             "#f0f921"
            ]
           ],
           "sequentialminus": [
            [
             0,
             "#0d0887"
            ],
            [
             0.1111111111111111,
             "#46039f"
            ],
            [
             0.2222222222222222,
             "#7201a8"
            ],
            [
             0.3333333333333333,
             "#9c179e"
            ],
            [
             0.4444444444444444,
             "#bd3786"
            ],
            [
             0.5555555555555556,
             "#d8576b"
            ],
            [
             0.6666666666666666,
             "#ed7953"
            ],
            [
             0.7777777777777778,
             "#fb9f3a"
            ],
            [
             0.8888888888888888,
             "#fdca26"
            ],
            [
             1,
             "#f0f921"
            ]
           ]
          },
          "colorway": [
           "#636efa",
           "#EF553B",
           "#00cc96",
           "#ab63fa",
           "#FFA15A",
           "#19d3f3",
           "#FF6692",
           "#B6E880",
           "#FF97FF",
           "#FECB52"
          ],
          "font": {
           "color": "#f2f5fa"
          },
          "geo": {
           "bgcolor": "rgb(17,17,17)",
           "lakecolor": "rgb(17,17,17)",
           "landcolor": "rgb(17,17,17)",
           "showlakes": true,
           "showland": true,
           "subunitcolor": "#506784"
          },
          "hoverlabel": {
           "align": "left"
          },
          "hovermode": "closest",
          "mapbox": {
           "style": "dark"
          },
          "paper_bgcolor": "rgb(17,17,17)",
          "plot_bgcolor": "rgb(17,17,17)",
          "polar": {
           "angularaxis": {
            "gridcolor": "#506784",
            "linecolor": "#506784",
            "ticks": ""
           },
           "bgcolor": "rgb(17,17,17)",
           "radialaxis": {
            "gridcolor": "#506784",
            "linecolor": "#506784",
            "ticks": ""
           }
          },
          "scene": {
           "xaxis": {
            "backgroundcolor": "rgb(17,17,17)",
            "gridcolor": "#506784",
            "gridwidth": 2,
            "linecolor": "#506784",
            "showbackground": true,
            "ticks": "",
            "zerolinecolor": "#C8D4E3"
           },
           "yaxis": {
            "backgroundcolor": "rgb(17,17,17)",
            "gridcolor": "#506784",
            "gridwidth": 2,
            "linecolor": "#506784",
            "showbackground": true,
            "ticks": "",
            "zerolinecolor": "#C8D4E3"
           },
           "zaxis": {
            "backgroundcolor": "rgb(17,17,17)",
            "gridcolor": "#506784",
            "gridwidth": 2,
            "linecolor": "#506784",
            "showbackground": true,
            "ticks": "",
            "zerolinecolor": "#C8D4E3"
           }
          },
          "shapedefaults": {
           "line": {
            "color": "#f2f5fa"
           }
          },
          "sliderdefaults": {
           "bgcolor": "#C8D4E3",
           "bordercolor": "rgb(17,17,17)",
           "borderwidth": 1,
           "tickwidth": 0
          },
          "ternary": {
           "aaxis": {
            "gridcolor": "#506784",
            "linecolor": "#506784",
            "ticks": ""
           },
           "baxis": {
            "gridcolor": "#506784",
            "linecolor": "#506784",
            "ticks": ""
           },
           "bgcolor": "rgb(17,17,17)",
           "caxis": {
            "gridcolor": "#506784",
            "linecolor": "#506784",
            "ticks": ""
           }
          },
          "title": {
           "x": 0.05
          },
          "updatemenudefaults": {
           "bgcolor": "#506784",
           "borderwidth": 0
          },
          "xaxis": {
           "automargin": true,
           "gridcolor": "#283442",
           "linecolor": "#506784",
           "ticks": "",
           "title": {
            "standoff": 15
           },
           "zerolinecolor": "#283442",
           "zerolinewidth": 2
          },
          "yaxis": {
           "automargin": true,
           "gridcolor": "#283442",
           "linecolor": "#506784",
           "ticks": "",
           "title": {
            "standoff": 15
           },
           "zerolinecolor": "#283442",
           "zerolinewidth": 2
          }
         }
        },
        "title": {
         "text": "Top 15 Distribuidoras por Usuarios Máximos"
        },
        "xaxis": {
         "anchor": "y",
         "domain": [
          0,
          1
         ],
         "title": {
          "text": "Usuarios máximos"
         }
        },
        "yaxis": {
         "anchor": "x",
         "categoryarray": [
          "Coffee Stain Publishing",
          "Paradox Interactive",
          "SEGA",
          "2K",
          "KRAFTON, Inc.",
          "Facepunch Studios",
          "CAPCOM Co., Ltd.",
          "Xbox Game Studios",
          "Bethesda Softworks",
          "Activision",
          "Ubisoft",
          "Amazon Games",
          "Rockstar Games",
          "Electronic Arts",
          "Valve"
         ],
         "categoryorder": "array",
         "domain": [
          0,
          1
         ],
         "title": {
          "text": "Distribuidora"
         }
        }
       }
      }
     },
     "metadata": {},
     "output_type": "display_data"
    }
   ],
   "source": [
    "# Calcular la suma de usuarios máximos por distribuidora\n",
    "publisher_users = videogames_data.groupby('publisher')['owners_max'].sum().sort_values(ascending=False).head(15)\n",
    "\n",
    "# Convertir la Serie a DataFrame para visualización\n",
    "publisher_users_df = publisher_users.reset_index()\n",
    "\n",
    "# Crear el gráfico de barras con Plotly\n",
    "fig = px.bar(publisher_users_df, x='owners_max', y='publisher',\n",
    "             title=\"Top 15 Distribuidoras por Usuarios Máximos\",\n",
    "             template=\"plotly_dark\",\n",
    "             color=\"publisher\",\n",
    "             labels={'owners_max': 'Usuarios máximos', 'publisher': 'Distribuidora'})\n",
    "\n",
    "# Mostrar el gráfico\n",
    "fig.show()\n",
    "\n",
    "# Exportar a HTML\n",
    "# fig.write_html(\"graphs/13.html\")\n"
   ]
  },
  {
   "cell_type": "code",
   "execution_count": 239,
   "metadata": {},
   "outputs": [
    {
     "data": {
      "application/vnd.plotly.v1+json": {
       "config": {
        "plotlyServerURL": "https://plot.ly"
       },
       "data": [
        {
         "domain": {
          "x": [
           0,
           1
          ],
          "y": [
           0,
           1
          ]
         },
         "hovertemplate": "publisher=%{label}<br>revenue=%{value}<extra></extra>",
         "labels": [
          "Activision",
          "Ubisoft",
          "Facepunch Studios",
          "Amazon Games",
          "Valve",
          "CD PROJEKT RED",
          "Rockstar Games",
          "CAPCOM Co., Ltd.",
          "Larian Studios",
          "FromSoftware Inc., Bandai Namco Entertainment",
          "Paradox Interactive",
          "Xbox Game Studios",
          "Bethesda Softworks",
          "2K",
          "Coffee Stain Publishing"
         ],
         "legendgroup": "",
         "name": "",
         "showlegend": true,
         "textinfo": "percent+label",
         "textposition": "inside",
         "type": "pie",
         "values": [
          5469000000,
          4002200000,
          3719000000,
          3719000000,
          3571849999.9999995,
          3533300000,
          3435480000,
          3366620000,
          3356660000,
          2789500000,
          2333530000,
          2213530000,
          1969920000,
          1836140000,
          1561580000
         ]
        }
       ],
       "layout": {
        "legend": {
         "tracegroupgap": 0
        },
        "piecolorway": [
         "rgb(103,0,31)",
         "rgb(178,24,43)",
         "rgb(214,96,77)",
         "rgb(244,165,130)",
         "rgb(253,219,199)",
         "rgb(247,247,247)",
         "rgb(209,229,240)",
         "rgb(146,197,222)",
         "rgb(67,147,195)",
         "rgb(33,102,172)",
         "rgb(5,48,97)"
        ],
        "template": {
         "data": {
          "bar": [
           {
            "error_x": {
             "color": "#f2f5fa"
            },
            "error_y": {
             "color": "#f2f5fa"
            },
            "marker": {
             "line": {
              "color": "rgb(17,17,17)",
              "width": 0.5
             },
             "pattern": {
              "fillmode": "overlay",
              "size": 10,
              "solidity": 0.2
             }
            },
            "type": "bar"
           }
          ],
          "barpolar": [
           {
            "marker": {
             "line": {
              "color": "rgb(17,17,17)",
              "width": 0.5
             },
             "pattern": {
              "fillmode": "overlay",
              "size": 10,
              "solidity": 0.2
             }
            },
            "type": "barpolar"
           }
          ],
          "carpet": [
           {
            "aaxis": {
             "endlinecolor": "#A2B1C6",
             "gridcolor": "#506784",
             "linecolor": "#506784",
             "minorgridcolor": "#506784",
             "startlinecolor": "#A2B1C6"
            },
            "baxis": {
             "endlinecolor": "#A2B1C6",
             "gridcolor": "#506784",
             "linecolor": "#506784",
             "minorgridcolor": "#506784",
             "startlinecolor": "#A2B1C6"
            },
            "type": "carpet"
           }
          ],
          "choropleth": [
           {
            "colorbar": {
             "outlinewidth": 0,
             "ticks": ""
            },
            "type": "choropleth"
           }
          ],
          "contour": [
           {
            "colorbar": {
             "outlinewidth": 0,
             "ticks": ""
            },
            "colorscale": [
             [
              0,
              "#0d0887"
             ],
             [
              0.1111111111111111,
              "#46039f"
             ],
             [
              0.2222222222222222,
              "#7201a8"
             ],
             [
              0.3333333333333333,
              "#9c179e"
             ],
             [
              0.4444444444444444,
              "#bd3786"
             ],
             [
              0.5555555555555556,
              "#d8576b"
             ],
             [
              0.6666666666666666,
              "#ed7953"
             ],
             [
              0.7777777777777778,
              "#fb9f3a"
             ],
             [
              0.8888888888888888,
              "#fdca26"
             ],
             [
              1,
              "#f0f921"
             ]
            ],
            "type": "contour"
           }
          ],
          "contourcarpet": [
           {
            "colorbar": {
             "outlinewidth": 0,
             "ticks": ""
            },
            "type": "contourcarpet"
           }
          ],
          "heatmap": [
           {
            "colorbar": {
             "outlinewidth": 0,
             "ticks": ""
            },
            "colorscale": [
             [
              0,
              "#0d0887"
             ],
             [
              0.1111111111111111,
              "#46039f"
             ],
             [
              0.2222222222222222,
              "#7201a8"
             ],
             [
              0.3333333333333333,
              "#9c179e"
             ],
             [
              0.4444444444444444,
              "#bd3786"
             ],
             [
              0.5555555555555556,
              "#d8576b"
             ],
             [
              0.6666666666666666,
              "#ed7953"
             ],
             [
              0.7777777777777778,
              "#fb9f3a"
             ],
             [
              0.8888888888888888,
              "#fdca26"
             ],
             [
              1,
              "#f0f921"
             ]
            ],
            "type": "heatmap"
           }
          ],
          "heatmapgl": [
           {
            "colorbar": {
             "outlinewidth": 0,
             "ticks": ""
            },
            "colorscale": [
             [
              0,
              "#0d0887"
             ],
             [
              0.1111111111111111,
              "#46039f"
             ],
             [
              0.2222222222222222,
              "#7201a8"
             ],
             [
              0.3333333333333333,
              "#9c179e"
             ],
             [
              0.4444444444444444,
              "#bd3786"
             ],
             [
              0.5555555555555556,
              "#d8576b"
             ],
             [
              0.6666666666666666,
              "#ed7953"
             ],
             [
              0.7777777777777778,
              "#fb9f3a"
             ],
             [
              0.8888888888888888,
              "#fdca26"
             ],
             [
              1,
              "#f0f921"
             ]
            ],
            "type": "heatmapgl"
           }
          ],
          "histogram": [
           {
            "marker": {
             "pattern": {
              "fillmode": "overlay",
              "size": 10,
              "solidity": 0.2
             }
            },
            "type": "histogram"
           }
          ],
          "histogram2d": [
           {
            "colorbar": {
             "outlinewidth": 0,
             "ticks": ""
            },
            "colorscale": [
             [
              0,
              "#0d0887"
             ],
             [
              0.1111111111111111,
              "#46039f"
             ],
             [
              0.2222222222222222,
              "#7201a8"
             ],
             [
              0.3333333333333333,
              "#9c179e"
             ],
             [
              0.4444444444444444,
              "#bd3786"
             ],
             [
              0.5555555555555556,
              "#d8576b"
             ],
             [
              0.6666666666666666,
              "#ed7953"
             ],
             [
              0.7777777777777778,
              "#fb9f3a"
             ],
             [
              0.8888888888888888,
              "#fdca26"
             ],
             [
              1,
              "#f0f921"
             ]
            ],
            "type": "histogram2d"
           }
          ],
          "histogram2dcontour": [
           {
            "colorbar": {
             "outlinewidth": 0,
             "ticks": ""
            },
            "colorscale": [
             [
              0,
              "#0d0887"
             ],
             [
              0.1111111111111111,
              "#46039f"
             ],
             [
              0.2222222222222222,
              "#7201a8"
             ],
             [
              0.3333333333333333,
              "#9c179e"
             ],
             [
              0.4444444444444444,
              "#bd3786"
             ],
             [
              0.5555555555555556,
              "#d8576b"
             ],
             [
              0.6666666666666666,
              "#ed7953"
             ],
             [
              0.7777777777777778,
              "#fb9f3a"
             ],
             [
              0.8888888888888888,
              "#fdca26"
             ],
             [
              1,
              "#f0f921"
             ]
            ],
            "type": "histogram2dcontour"
           }
          ],
          "mesh3d": [
           {
            "colorbar": {
             "outlinewidth": 0,
             "ticks": ""
            },
            "type": "mesh3d"
           }
          ],
          "parcoords": [
           {
            "line": {
             "colorbar": {
              "outlinewidth": 0,
              "ticks": ""
             }
            },
            "type": "parcoords"
           }
          ],
          "pie": [
           {
            "automargin": true,
            "type": "pie"
           }
          ],
          "scatter": [
           {
            "marker": {
             "line": {
              "color": "#283442"
             }
            },
            "type": "scatter"
           }
          ],
          "scatter3d": [
           {
            "line": {
             "colorbar": {
              "outlinewidth": 0,
              "ticks": ""
             }
            },
            "marker": {
             "colorbar": {
              "outlinewidth": 0,
              "ticks": ""
             }
            },
            "type": "scatter3d"
           }
          ],
          "scattercarpet": [
           {
            "marker": {
             "colorbar": {
              "outlinewidth": 0,
              "ticks": ""
             }
            },
            "type": "scattercarpet"
           }
          ],
          "scattergeo": [
           {
            "marker": {
             "colorbar": {
              "outlinewidth": 0,
              "ticks": ""
             }
            },
            "type": "scattergeo"
           }
          ],
          "scattergl": [
           {
            "marker": {
             "line": {
              "color": "#283442"
             }
            },
            "type": "scattergl"
           }
          ],
          "scattermapbox": [
           {
            "marker": {
             "colorbar": {
              "outlinewidth": 0,
              "ticks": ""
             }
            },
            "type": "scattermapbox"
           }
          ],
          "scatterpolar": [
           {
            "marker": {
             "colorbar": {
              "outlinewidth": 0,
              "ticks": ""
             }
            },
            "type": "scatterpolar"
           }
          ],
          "scatterpolargl": [
           {
            "marker": {
             "colorbar": {
              "outlinewidth": 0,
              "ticks": ""
             }
            },
            "type": "scatterpolargl"
           }
          ],
          "scatterternary": [
           {
            "marker": {
             "colorbar": {
              "outlinewidth": 0,
              "ticks": ""
             }
            },
            "type": "scatterternary"
           }
          ],
          "surface": [
           {
            "colorbar": {
             "outlinewidth": 0,
             "ticks": ""
            },
            "colorscale": [
             [
              0,
              "#0d0887"
             ],
             [
              0.1111111111111111,
              "#46039f"
             ],
             [
              0.2222222222222222,
              "#7201a8"
             ],
             [
              0.3333333333333333,
              "#9c179e"
             ],
             [
              0.4444444444444444,
              "#bd3786"
             ],
             [
              0.5555555555555556,
              "#d8576b"
             ],
             [
              0.6666666666666666,
              "#ed7953"
             ],
             [
              0.7777777777777778,
              "#fb9f3a"
             ],
             [
              0.8888888888888888,
              "#fdca26"
             ],
             [
              1,
              "#f0f921"
             ]
            ],
            "type": "surface"
           }
          ],
          "table": [
           {
            "cells": {
             "fill": {
              "color": "#506784"
             },
             "line": {
              "color": "rgb(17,17,17)"
             }
            },
            "header": {
             "fill": {
              "color": "#2a3f5f"
             },
             "line": {
              "color": "rgb(17,17,17)"
             }
            },
            "type": "table"
           }
          ]
         },
         "layout": {
          "annotationdefaults": {
           "arrowcolor": "#f2f5fa",
           "arrowhead": 0,
           "arrowwidth": 1
          },
          "autotypenumbers": "strict",
          "coloraxis": {
           "colorbar": {
            "outlinewidth": 0,
            "ticks": ""
           }
          },
          "colorscale": {
           "diverging": [
            [
             0,
             "#8e0152"
            ],
            [
             0.1,
             "#c51b7d"
            ],
            [
             0.2,
             "#de77ae"
            ],
            [
             0.3,
             "#f1b6da"
            ],
            [
             0.4,
             "#fde0ef"
            ],
            [
             0.5,
             "#f7f7f7"
            ],
            [
             0.6,
             "#e6f5d0"
            ],
            [
             0.7,
             "#b8e186"
            ],
            [
             0.8,
             "#7fbc41"
            ],
            [
             0.9,
             "#4d9221"
            ],
            [
             1,
             "#276419"
            ]
           ],
           "sequential": [
            [
             0,
             "#0d0887"
            ],
            [
             0.1111111111111111,
             "#46039f"
            ],
            [
             0.2222222222222222,
             "#7201a8"
            ],
            [
             0.3333333333333333,
             "#9c179e"
            ],
            [
             0.4444444444444444,
             "#bd3786"
            ],
            [
             0.5555555555555556,
             "#d8576b"
            ],
            [
             0.6666666666666666,
             "#ed7953"
            ],
            [
             0.7777777777777778,
             "#fb9f3a"
            ],
            [
             0.8888888888888888,
             "#fdca26"
            ],
            [
             1,
             "#f0f921"
            ]
           ],
           "sequentialminus": [
            [
             0,
             "#0d0887"
            ],
            [
             0.1111111111111111,
             "#46039f"
            ],
            [
             0.2222222222222222,
             "#7201a8"
            ],
            [
             0.3333333333333333,
             "#9c179e"
            ],
            [
             0.4444444444444444,
             "#bd3786"
            ],
            [
             0.5555555555555556,
             "#d8576b"
            ],
            [
             0.6666666666666666,
             "#ed7953"
            ],
            [
             0.7777777777777778,
             "#fb9f3a"
            ],
            [
             0.8888888888888888,
             "#fdca26"
            ],
            [
             1,
             "#f0f921"
            ]
           ]
          },
          "colorway": [
           "#636efa",
           "#EF553B",
           "#00cc96",
           "#ab63fa",
           "#FFA15A",
           "#19d3f3",
           "#FF6692",
           "#B6E880",
           "#FF97FF",
           "#FECB52"
          ],
          "font": {
           "color": "#f2f5fa"
          },
          "geo": {
           "bgcolor": "rgb(17,17,17)",
           "lakecolor": "rgb(17,17,17)",
           "landcolor": "rgb(17,17,17)",
           "showlakes": true,
           "showland": true,
           "subunitcolor": "#506784"
          },
          "hoverlabel": {
           "align": "left"
          },
          "hovermode": "closest",
          "mapbox": {
           "style": "dark"
          },
          "paper_bgcolor": "rgb(17,17,17)",
          "plot_bgcolor": "rgb(17,17,17)",
          "polar": {
           "angularaxis": {
            "gridcolor": "#506784",
            "linecolor": "#506784",
            "ticks": ""
           },
           "bgcolor": "rgb(17,17,17)",
           "radialaxis": {
            "gridcolor": "#506784",
            "linecolor": "#506784",
            "ticks": ""
           }
          },
          "scene": {
           "xaxis": {
            "backgroundcolor": "rgb(17,17,17)",
            "gridcolor": "#506784",
            "gridwidth": 2,
            "linecolor": "#506784",
            "showbackground": true,
            "ticks": "",
            "zerolinecolor": "#C8D4E3"
           },
           "yaxis": {
            "backgroundcolor": "rgb(17,17,17)",
            "gridcolor": "#506784",
            "gridwidth": 2,
            "linecolor": "#506784",
            "showbackground": true,
            "ticks": "",
            "zerolinecolor": "#C8D4E3"
           },
           "zaxis": {
            "backgroundcolor": "rgb(17,17,17)",
            "gridcolor": "#506784",
            "gridwidth": 2,
            "linecolor": "#506784",
            "showbackground": true,
            "ticks": "",
            "zerolinecolor": "#C8D4E3"
           }
          },
          "shapedefaults": {
           "line": {
            "color": "#f2f5fa"
           }
          },
          "sliderdefaults": {
           "bgcolor": "#C8D4E3",
           "bordercolor": "rgb(17,17,17)",
           "borderwidth": 1,
           "tickwidth": 0
          },
          "ternary": {
           "aaxis": {
            "gridcolor": "#506784",
            "linecolor": "#506784",
            "ticks": ""
           },
           "baxis": {
            "gridcolor": "#506784",
            "linecolor": "#506784",
            "ticks": ""
           },
           "bgcolor": "rgb(17,17,17)",
           "caxis": {
            "gridcolor": "#506784",
            "linecolor": "#506784",
            "ticks": ""
           }
          },
          "title": {
           "x": 0.05
          },
          "updatemenudefaults": {
           "bgcolor": "#506784",
           "borderwidth": 0
          },
          "xaxis": {
           "automargin": true,
           "gridcolor": "#283442",
           "linecolor": "#506784",
           "ticks": "",
           "title": {
            "standoff": 15
           },
           "zerolinecolor": "#283442",
           "zerolinewidth": 2
          },
          "yaxis": {
           "automargin": true,
           "gridcolor": "#283442",
           "linecolor": "#506784",
           "ticks": "",
           "title": {
            "standoff": 15
           },
           "zerolinecolor": "#283442",
           "zerolinewidth": 2
          }
         }
        },
        "title": {
         "text": "Top 15 Distribuidoras por Ingresos"
        }
       }
      }
     },
     "metadata": {},
     "output_type": "display_data"
    }
   ],
   "source": [
    "# Calculo los ingresos por videojuego en una nueva columna\n",
    "videogames_data['revenue'] = videogames_data['owners_max'] * videogames_data['price']\n",
    "\n",
    "# Calculo la suma de ingresos por distribuidora\n",
    "publisher_revenue = videogames_data.groupby('publisher')['revenue'].sum().sort_values(ascending=False).head(15)\n",
    "\n",
    "# Convierto la Serie a DataFrame para visualización\n",
    "publisher_revenue_df = publisher_revenue.reset_index()\n",
    "\n",
    "# Creo el gráfico de pastel con Plotly Express\n",
    "fig = px.pie(publisher_revenue_df, values='revenue', names='publisher',\n",
    "             title=\"Top 15 Distribuidoras por Ingresos\",\n",
    "             template=\"plotly_dark\",\n",
    "             color_discrete_sequence=px.colors.sequential.RdBu)\n",
    "\n",
    "fig.update_traces(textposition='inside', textinfo='percent+label')\n",
    "\n",
    "# Muestra el gráfico\n",
    "fig.show()\n",
    "\n",
    "\n",
    "# Opcional: Exportar a HTML\n",
    "#fig.write_html(\"graphs/14.html\")\n"
   ]
  },
  {
   "cell_type": "code",
   "execution_count": 240,
   "metadata": {},
   "outputs": [
    {
     "data": {
      "application/vnd.plotly.v1+json": {
       "config": {
        "plotlyServerURL": "https://plot.ly"
       },
       "data": [
        {
         "domain": {
          "x": [
           0,
           1
          ],
          "y": [
           0,
           1
          ]
         },
         "hole": 0.3,
         "hovertemplate": "label=%{label}<br>value=%{value}<extra></extra>",
         "labels": [
          "Valve",
          "CAPCOM Co., Ltd.",
          "Bethesda Game Studios",
          "Ubisoft Montreal",
          "Relic Entertainment",
          "DICE",
          "Sports Interactive",
          "Bohemia Interactive",
          "CD PROJEKT RED",
          "Rebellion",
          "Paradox Development Studio",
          "Infinity Ward",
          "id Software",
          "Gearbox Software",
          "Rockstar Games"
         ],
         "legendgroup": "",
         "name": "",
         "showlegend": true,
         "textinfo": "percent+label",
         "textposition": "inside",
         "type": "pie",
         "values": [
          30,
          17,
          9,
          7,
          7,
          7,
          6,
          6,
          6,
          6,
          6,
          6,
          6,
          6,
          5
         ]
        }
       ],
       "layout": {
        "legend": {
         "tracegroupgap": 0
        },
        "piecolorway": [
         "rgb(103,0,31)",
         "rgb(178,24,43)",
         "rgb(214,96,77)",
         "rgb(244,165,130)",
         "rgb(253,219,199)",
         "rgb(247,247,247)",
         "rgb(209,229,240)",
         "rgb(146,197,222)",
         "rgb(67,147,195)",
         "rgb(33,102,172)",
         "rgb(5,48,97)"
        ],
        "template": {
         "data": {
          "bar": [
           {
            "error_x": {
             "color": "#f2f5fa"
            },
            "error_y": {
             "color": "#f2f5fa"
            },
            "marker": {
             "line": {
              "color": "rgb(17,17,17)",
              "width": 0.5
             },
             "pattern": {
              "fillmode": "overlay",
              "size": 10,
              "solidity": 0.2
             }
            },
            "type": "bar"
           }
          ],
          "barpolar": [
           {
            "marker": {
             "line": {
              "color": "rgb(17,17,17)",
              "width": 0.5
             },
             "pattern": {
              "fillmode": "overlay",
              "size": 10,
              "solidity": 0.2
             }
            },
            "type": "barpolar"
           }
          ],
          "carpet": [
           {
            "aaxis": {
             "endlinecolor": "#A2B1C6",
             "gridcolor": "#506784",
             "linecolor": "#506784",
             "minorgridcolor": "#506784",
             "startlinecolor": "#A2B1C6"
            },
            "baxis": {
             "endlinecolor": "#A2B1C6",
             "gridcolor": "#506784",
             "linecolor": "#506784",
             "minorgridcolor": "#506784",
             "startlinecolor": "#A2B1C6"
            },
            "type": "carpet"
           }
          ],
          "choropleth": [
           {
            "colorbar": {
             "outlinewidth": 0,
             "ticks": ""
            },
            "type": "choropleth"
           }
          ],
          "contour": [
           {
            "colorbar": {
             "outlinewidth": 0,
             "ticks": ""
            },
            "colorscale": [
             [
              0,
              "#0d0887"
             ],
             [
              0.1111111111111111,
              "#46039f"
             ],
             [
              0.2222222222222222,
              "#7201a8"
             ],
             [
              0.3333333333333333,
              "#9c179e"
             ],
             [
              0.4444444444444444,
              "#bd3786"
             ],
             [
              0.5555555555555556,
              "#d8576b"
             ],
             [
              0.6666666666666666,
              "#ed7953"
             ],
             [
              0.7777777777777778,
              "#fb9f3a"
             ],
             [
              0.8888888888888888,
              "#fdca26"
             ],
             [
              1,
              "#f0f921"
             ]
            ],
            "type": "contour"
           }
          ],
          "contourcarpet": [
           {
            "colorbar": {
             "outlinewidth": 0,
             "ticks": ""
            },
            "type": "contourcarpet"
           }
          ],
          "heatmap": [
           {
            "colorbar": {
             "outlinewidth": 0,
             "ticks": ""
            },
            "colorscale": [
             [
              0,
              "#0d0887"
             ],
             [
              0.1111111111111111,
              "#46039f"
             ],
             [
              0.2222222222222222,
              "#7201a8"
             ],
             [
              0.3333333333333333,
              "#9c179e"
             ],
             [
              0.4444444444444444,
              "#bd3786"
             ],
             [
              0.5555555555555556,
              "#d8576b"
             ],
             [
              0.6666666666666666,
              "#ed7953"
             ],
             [
              0.7777777777777778,
              "#fb9f3a"
             ],
             [
              0.8888888888888888,
              "#fdca26"
             ],
             [
              1,
              "#f0f921"
             ]
            ],
            "type": "heatmap"
           }
          ],
          "heatmapgl": [
           {
            "colorbar": {
             "outlinewidth": 0,
             "ticks": ""
            },
            "colorscale": [
             [
              0,
              "#0d0887"
             ],
             [
              0.1111111111111111,
              "#46039f"
             ],
             [
              0.2222222222222222,
              "#7201a8"
             ],
             [
              0.3333333333333333,
              "#9c179e"
             ],
             [
              0.4444444444444444,
              "#bd3786"
             ],
             [
              0.5555555555555556,
              "#d8576b"
             ],
             [
              0.6666666666666666,
              "#ed7953"
             ],
             [
              0.7777777777777778,
              "#fb9f3a"
             ],
             [
              0.8888888888888888,
              "#fdca26"
             ],
             [
              1,
              "#f0f921"
             ]
            ],
            "type": "heatmapgl"
           }
          ],
          "histogram": [
           {
            "marker": {
             "pattern": {
              "fillmode": "overlay",
              "size": 10,
              "solidity": 0.2
             }
            },
            "type": "histogram"
           }
          ],
          "histogram2d": [
           {
            "colorbar": {
             "outlinewidth": 0,
             "ticks": ""
            },
            "colorscale": [
             [
              0,
              "#0d0887"
             ],
             [
              0.1111111111111111,
              "#46039f"
             ],
             [
              0.2222222222222222,
              "#7201a8"
             ],
             [
              0.3333333333333333,
              "#9c179e"
             ],
             [
              0.4444444444444444,
              "#bd3786"
             ],
             [
              0.5555555555555556,
              "#d8576b"
             ],
             [
              0.6666666666666666,
              "#ed7953"
             ],
             [
              0.7777777777777778,
              "#fb9f3a"
             ],
             [
              0.8888888888888888,
              "#fdca26"
             ],
             [
              1,
              "#f0f921"
             ]
            ],
            "type": "histogram2d"
           }
          ],
          "histogram2dcontour": [
           {
            "colorbar": {
             "outlinewidth": 0,
             "ticks": ""
            },
            "colorscale": [
             [
              0,
              "#0d0887"
             ],
             [
              0.1111111111111111,
              "#46039f"
             ],
             [
              0.2222222222222222,
              "#7201a8"
             ],
             [
              0.3333333333333333,
              "#9c179e"
             ],
             [
              0.4444444444444444,
              "#bd3786"
             ],
             [
              0.5555555555555556,
              "#d8576b"
             ],
             [
              0.6666666666666666,
              "#ed7953"
             ],
             [
              0.7777777777777778,
              "#fb9f3a"
             ],
             [
              0.8888888888888888,
              "#fdca26"
             ],
             [
              1,
              "#f0f921"
             ]
            ],
            "type": "histogram2dcontour"
           }
          ],
          "mesh3d": [
           {
            "colorbar": {
             "outlinewidth": 0,
             "ticks": ""
            },
            "type": "mesh3d"
           }
          ],
          "parcoords": [
           {
            "line": {
             "colorbar": {
              "outlinewidth": 0,
              "ticks": ""
             }
            },
            "type": "parcoords"
           }
          ],
          "pie": [
           {
            "automargin": true,
            "type": "pie"
           }
          ],
          "scatter": [
           {
            "marker": {
             "line": {
              "color": "#283442"
             }
            },
            "type": "scatter"
           }
          ],
          "scatter3d": [
           {
            "line": {
             "colorbar": {
              "outlinewidth": 0,
              "ticks": ""
             }
            },
            "marker": {
             "colorbar": {
              "outlinewidth": 0,
              "ticks": ""
             }
            },
            "type": "scatter3d"
           }
          ],
          "scattercarpet": [
           {
            "marker": {
             "colorbar": {
              "outlinewidth": 0,
              "ticks": ""
             }
            },
            "type": "scattercarpet"
           }
          ],
          "scattergeo": [
           {
            "marker": {
             "colorbar": {
              "outlinewidth": 0,
              "ticks": ""
             }
            },
            "type": "scattergeo"
           }
          ],
          "scattergl": [
           {
            "marker": {
             "line": {
              "color": "#283442"
             }
            },
            "type": "scattergl"
           }
          ],
          "scattermapbox": [
           {
            "marker": {
             "colorbar": {
              "outlinewidth": 0,
              "ticks": ""
             }
            },
            "type": "scattermapbox"
           }
          ],
          "scatterpolar": [
           {
            "marker": {
             "colorbar": {
              "outlinewidth": 0,
              "ticks": ""
             }
            },
            "type": "scatterpolar"
           }
          ],
          "scatterpolargl": [
           {
            "marker": {
             "colorbar": {
              "outlinewidth": 0,
              "ticks": ""
             }
            },
            "type": "scatterpolargl"
           }
          ],
          "scatterternary": [
           {
            "marker": {
             "colorbar": {
              "outlinewidth": 0,
              "ticks": ""
             }
            },
            "type": "scatterternary"
           }
          ],
          "surface": [
           {
            "colorbar": {
             "outlinewidth": 0,
             "ticks": ""
            },
            "colorscale": [
             [
              0,
              "#0d0887"
             ],
             [
              0.1111111111111111,
              "#46039f"
             ],
             [
              0.2222222222222222,
              "#7201a8"
             ],
             [
              0.3333333333333333,
              "#9c179e"
             ],
             [
              0.4444444444444444,
              "#bd3786"
             ],
             [
              0.5555555555555556,
              "#d8576b"
             ],
             [
              0.6666666666666666,
              "#ed7953"
             ],
             [
              0.7777777777777778,
              "#fb9f3a"
             ],
             [
              0.8888888888888888,
              "#fdca26"
             ],
             [
              1,
              "#f0f921"
             ]
            ],
            "type": "surface"
           }
          ],
          "table": [
           {
            "cells": {
             "fill": {
              "color": "#506784"
             },
             "line": {
              "color": "rgb(17,17,17)"
             }
            },
            "header": {
             "fill": {
              "color": "#2a3f5f"
             },
             "line": {
              "color": "rgb(17,17,17)"
             }
            },
            "type": "table"
           }
          ]
         },
         "layout": {
          "annotationdefaults": {
           "arrowcolor": "#f2f5fa",
           "arrowhead": 0,
           "arrowwidth": 1
          },
          "autotypenumbers": "strict",
          "coloraxis": {
           "colorbar": {
            "outlinewidth": 0,
            "ticks": ""
           }
          },
          "colorscale": {
           "diverging": [
            [
             0,
             "#8e0152"
            ],
            [
             0.1,
             "#c51b7d"
            ],
            [
             0.2,
             "#de77ae"
            ],
            [
             0.3,
             "#f1b6da"
            ],
            [
             0.4,
             "#fde0ef"
            ],
            [
             0.5,
             "#f7f7f7"
            ],
            [
             0.6,
             "#e6f5d0"
            ],
            [
             0.7,
             "#b8e186"
            ],
            [
             0.8,
             "#7fbc41"
            ],
            [
             0.9,
             "#4d9221"
            ],
            [
             1,
             "#276419"
            ]
           ],
           "sequential": [
            [
             0,
             "#0d0887"
            ],
            [
             0.1111111111111111,
             "#46039f"
            ],
            [
             0.2222222222222222,
             "#7201a8"
            ],
            [
             0.3333333333333333,
             "#9c179e"
            ],
            [
             0.4444444444444444,
             "#bd3786"
            ],
            [
             0.5555555555555556,
             "#d8576b"
            ],
            [
             0.6666666666666666,
             "#ed7953"
            ],
            [
             0.7777777777777778,
             "#fb9f3a"
            ],
            [
             0.8888888888888888,
             "#fdca26"
            ],
            [
             1,
             "#f0f921"
            ]
           ],
           "sequentialminus": [
            [
             0,
             "#0d0887"
            ],
            [
             0.1111111111111111,
             "#46039f"
            ],
            [
             0.2222222222222222,
             "#7201a8"
            ],
            [
             0.3333333333333333,
             "#9c179e"
            ],
            [
             0.4444444444444444,
             "#bd3786"
            ],
            [
             0.5555555555555556,
             "#d8576b"
            ],
            [
             0.6666666666666666,
             "#ed7953"
            ],
            [
             0.7777777777777778,
             "#fb9f3a"
            ],
            [
             0.8888888888888888,
             "#fdca26"
            ],
            [
             1,
             "#f0f921"
            ]
           ]
          },
          "colorway": [
           "#636efa",
           "#EF553B",
           "#00cc96",
           "#ab63fa",
           "#FFA15A",
           "#19d3f3",
           "#FF6692",
           "#B6E880",
           "#FF97FF",
           "#FECB52"
          ],
          "font": {
           "color": "#f2f5fa"
          },
          "geo": {
           "bgcolor": "rgb(17,17,17)",
           "lakecolor": "rgb(17,17,17)",
           "landcolor": "rgb(17,17,17)",
           "showlakes": true,
           "showland": true,
           "subunitcolor": "#506784"
          },
          "hoverlabel": {
           "align": "left"
          },
          "hovermode": "closest",
          "mapbox": {
           "style": "dark"
          },
          "paper_bgcolor": "rgb(17,17,17)",
          "plot_bgcolor": "rgb(17,17,17)",
          "polar": {
           "angularaxis": {
            "gridcolor": "#506784",
            "linecolor": "#506784",
            "ticks": ""
           },
           "bgcolor": "rgb(17,17,17)",
           "radialaxis": {
            "gridcolor": "#506784",
            "linecolor": "#506784",
            "ticks": ""
           }
          },
          "scene": {
           "xaxis": {
            "backgroundcolor": "rgb(17,17,17)",
            "gridcolor": "#506784",
            "gridwidth": 2,
            "linecolor": "#506784",
            "showbackground": true,
            "ticks": "",
            "zerolinecolor": "#C8D4E3"
           },
           "yaxis": {
            "backgroundcolor": "rgb(17,17,17)",
            "gridcolor": "#506784",
            "gridwidth": 2,
            "linecolor": "#506784",
            "showbackground": true,
            "ticks": "",
            "zerolinecolor": "#C8D4E3"
           },
           "zaxis": {
            "backgroundcolor": "rgb(17,17,17)",
            "gridcolor": "#506784",
            "gridwidth": 2,
            "linecolor": "#506784",
            "showbackground": true,
            "ticks": "",
            "zerolinecolor": "#C8D4E3"
           }
          },
          "shapedefaults": {
           "line": {
            "color": "#f2f5fa"
           }
          },
          "sliderdefaults": {
           "bgcolor": "#C8D4E3",
           "bordercolor": "rgb(17,17,17)",
           "borderwidth": 1,
           "tickwidth": 0
          },
          "ternary": {
           "aaxis": {
            "gridcolor": "#506784",
            "linecolor": "#506784",
            "ticks": ""
           },
           "baxis": {
            "gridcolor": "#506784",
            "linecolor": "#506784",
            "ticks": ""
           },
           "bgcolor": "rgb(17,17,17)",
           "caxis": {
            "gridcolor": "#506784",
            "linecolor": "#506784",
            "ticks": ""
           }
          },
          "title": {
           "x": 0.05
          },
          "updatemenudefaults": {
           "bgcolor": "#506784",
           "borderwidth": 0
          },
          "xaxis": {
           "automargin": true,
           "gridcolor": "#283442",
           "linecolor": "#506784",
           "ticks": "",
           "title": {
            "standoff": 15
           },
           "zerolinecolor": "#283442",
           "zerolinewidth": 2
          },
          "yaxis": {
           "automargin": true,
           "gridcolor": "#283442",
           "linecolor": "#506784",
           "ticks": "",
           "title": {
            "standoff": 15
           },
           "zerolinecolor": "#283442",
           "zerolinewidth": 2
          }
         }
        },
        "title": {
         "text": "Top 15 Empresas que Más Videojuegos Han Lanzado"
        }
       }
      }
     },
     "metadata": {},
     "output_type": "display_data"
    }
   ],
   "source": [
    "# Calculamos el top 15 de empresas que más videojuegos han lanzado\n",
    "top_15_developers = videogames_data['developer'].value_counts().head(15)\n",
    "\n",
    "# Creamos el gráfico de pie con Plotly\n",
    "fig = px.pie(values=top_15_developers.values, names=top_15_developers.index,\n",
    "             title=\"Top 15 Empresas que Más Videojuegos Han Lanzado\",\n",
    "             color_discrete_sequence=px.colors.sequential.RdBu,\n",
    "             hole=0.3)\n",
    "\n",
    "# Mejoramos el diseño del gráfico\n",
    "fig.update_traces(textposition='inside', textinfo='percent+label')\n",
    "fig.update_layout(template=\"plotly_dark\")\n",
    "\n",
    "fig.show()\n",
    "\n",
    "# Exportar el gráfico como HTML\n",
    "# fig.write_html(\"graphs/12.html\")"
   ]
  },
  {
   "cell_type": "code",
   "execution_count": 241,
   "metadata": {},
   "outputs": [
    {
     "data": {
      "application/vnd.plotly.v1+json": {
       "config": {
        "plotlyServerURL": "https://plot.ly"
       },
       "data": [
        {
         "alignmentgroup": "True",
         "hovertemplate": "Nombre del Videojuego=%{x}<br>Número Estimado de Jugadores=%{marker.color}<extra></extra>",
         "legendgroup": "",
         "marker": {
          "color": [
           500000000,
           200000000,
           100000000,
           100000000,
           100000000,
           100000000,
           100000000,
           100000000,
           100000000,
           100000000,
           50000000,
           50000000,
           50000000,
           50000000,
           50000000
          ],
          "coloraxis": "coloraxis",
          "pattern": {
           "shape": ""
          }
         },
         "name": "",
         "offsetgroup": "",
         "orientation": "v",
         "showlegend": false,
         "textposition": "auto",
         "type": "bar",
         "x": [
          "dota 2",
          "counter-strike: global offensive",
          "pubg: battlegrounds",
          "new world",
          "team fortress 2",
          "apex legends",
          "grand theft auto v",
          "call of duty: modern warfare ii",
          "left 4 dead 2",
          "lost ark",
          "unturned",
          "rust",
          "rust",
          "warframe",
          "palworld"
         ],
         "xaxis": "x",
         "y": [
          500000000,
          200000000,
          100000000,
          100000000,
          100000000,
          100000000,
          100000000,
          100000000,
          100000000,
          100000000,
          50000000,
          50000000,
          50000000,
          50000000,
          50000000
         ],
         "yaxis": "y"
        }
       ],
       "layout": {
        "barmode": "relative",
        "coloraxis": {
         "colorbar": {
          "title": {
           "text": "Jugadores"
          }
         },
         "colorscale": [
          [
           0,
           "#440154"
          ],
          [
           0.1111111111111111,
           "#482878"
          ],
          [
           0.2222222222222222,
           "#3e4989"
          ],
          [
           0.3333333333333333,
           "#31688e"
          ],
          [
           0.4444444444444444,
           "#26828e"
          ],
          [
           0.5555555555555556,
           "#1f9e89"
          ],
          [
           0.6666666666666666,
           "#35b779"
          ],
          [
           0.7777777777777778,
           "#6ece58"
          ],
          [
           0.8888888888888888,
           "#b5de2b"
          ],
          [
           1,
           "#fde725"
          ]
         ]
        },
        "legend": {
         "tracegroupgap": 0
        },
        "template": {
         "data": {
          "bar": [
           {
            "error_x": {
             "color": "#f2f5fa"
            },
            "error_y": {
             "color": "#f2f5fa"
            },
            "marker": {
             "line": {
              "color": "rgb(17,17,17)",
              "width": 0.5
             },
             "pattern": {
              "fillmode": "overlay",
              "size": 10,
              "solidity": 0.2
             }
            },
            "type": "bar"
           }
          ],
          "barpolar": [
           {
            "marker": {
             "line": {
              "color": "rgb(17,17,17)",
              "width": 0.5
             },
             "pattern": {
              "fillmode": "overlay",
              "size": 10,
              "solidity": 0.2
             }
            },
            "type": "barpolar"
           }
          ],
          "carpet": [
           {
            "aaxis": {
             "endlinecolor": "#A2B1C6",
             "gridcolor": "#506784",
             "linecolor": "#506784",
             "minorgridcolor": "#506784",
             "startlinecolor": "#A2B1C6"
            },
            "baxis": {
             "endlinecolor": "#A2B1C6",
             "gridcolor": "#506784",
             "linecolor": "#506784",
             "minorgridcolor": "#506784",
             "startlinecolor": "#A2B1C6"
            },
            "type": "carpet"
           }
          ],
          "choropleth": [
           {
            "colorbar": {
             "outlinewidth": 0,
             "ticks": ""
            },
            "type": "choropleth"
           }
          ],
          "contour": [
           {
            "colorbar": {
             "outlinewidth": 0,
             "ticks": ""
            },
            "colorscale": [
             [
              0,
              "#0d0887"
             ],
             [
              0.1111111111111111,
              "#46039f"
             ],
             [
              0.2222222222222222,
              "#7201a8"
             ],
             [
              0.3333333333333333,
              "#9c179e"
             ],
             [
              0.4444444444444444,
              "#bd3786"
             ],
             [
              0.5555555555555556,
              "#d8576b"
             ],
             [
              0.6666666666666666,
              "#ed7953"
             ],
             [
              0.7777777777777778,
              "#fb9f3a"
             ],
             [
              0.8888888888888888,
              "#fdca26"
             ],
             [
              1,
              "#f0f921"
             ]
            ],
            "type": "contour"
           }
          ],
          "contourcarpet": [
           {
            "colorbar": {
             "outlinewidth": 0,
             "ticks": ""
            },
            "type": "contourcarpet"
           }
          ],
          "heatmap": [
           {
            "colorbar": {
             "outlinewidth": 0,
             "ticks": ""
            },
            "colorscale": [
             [
              0,
              "#0d0887"
             ],
             [
              0.1111111111111111,
              "#46039f"
             ],
             [
              0.2222222222222222,
              "#7201a8"
             ],
             [
              0.3333333333333333,
              "#9c179e"
             ],
             [
              0.4444444444444444,
              "#bd3786"
             ],
             [
              0.5555555555555556,
              "#d8576b"
             ],
             [
              0.6666666666666666,
              "#ed7953"
             ],
             [
              0.7777777777777778,
              "#fb9f3a"
             ],
             [
              0.8888888888888888,
              "#fdca26"
             ],
             [
              1,
              "#f0f921"
             ]
            ],
            "type": "heatmap"
           }
          ],
          "heatmapgl": [
           {
            "colorbar": {
             "outlinewidth": 0,
             "ticks": ""
            },
            "colorscale": [
             [
              0,
              "#0d0887"
             ],
             [
              0.1111111111111111,
              "#46039f"
             ],
             [
              0.2222222222222222,
              "#7201a8"
             ],
             [
              0.3333333333333333,
              "#9c179e"
             ],
             [
              0.4444444444444444,
              "#bd3786"
             ],
             [
              0.5555555555555556,
              "#d8576b"
             ],
             [
              0.6666666666666666,
              "#ed7953"
             ],
             [
              0.7777777777777778,
              "#fb9f3a"
             ],
             [
              0.8888888888888888,
              "#fdca26"
             ],
             [
              1,
              "#f0f921"
             ]
            ],
            "type": "heatmapgl"
           }
          ],
          "histogram": [
           {
            "marker": {
             "pattern": {
              "fillmode": "overlay",
              "size": 10,
              "solidity": 0.2
             }
            },
            "type": "histogram"
           }
          ],
          "histogram2d": [
           {
            "colorbar": {
             "outlinewidth": 0,
             "ticks": ""
            },
            "colorscale": [
             [
              0,
              "#0d0887"
             ],
             [
              0.1111111111111111,
              "#46039f"
             ],
             [
              0.2222222222222222,
              "#7201a8"
             ],
             [
              0.3333333333333333,
              "#9c179e"
             ],
             [
              0.4444444444444444,
              "#bd3786"
             ],
             [
              0.5555555555555556,
              "#d8576b"
             ],
             [
              0.6666666666666666,
              "#ed7953"
             ],
             [
              0.7777777777777778,
              "#fb9f3a"
             ],
             [
              0.8888888888888888,
              "#fdca26"
             ],
             [
              1,
              "#f0f921"
             ]
            ],
            "type": "histogram2d"
           }
          ],
          "histogram2dcontour": [
           {
            "colorbar": {
             "outlinewidth": 0,
             "ticks": ""
            },
            "colorscale": [
             [
              0,
              "#0d0887"
             ],
             [
              0.1111111111111111,
              "#46039f"
             ],
             [
              0.2222222222222222,
              "#7201a8"
             ],
             [
              0.3333333333333333,
              "#9c179e"
             ],
             [
              0.4444444444444444,
              "#bd3786"
             ],
             [
              0.5555555555555556,
              "#d8576b"
             ],
             [
              0.6666666666666666,
              "#ed7953"
             ],
             [
              0.7777777777777778,
              "#fb9f3a"
             ],
             [
              0.8888888888888888,
              "#fdca26"
             ],
             [
              1,
              "#f0f921"
             ]
            ],
            "type": "histogram2dcontour"
           }
          ],
          "mesh3d": [
           {
            "colorbar": {
             "outlinewidth": 0,
             "ticks": ""
            },
            "type": "mesh3d"
           }
          ],
          "parcoords": [
           {
            "line": {
             "colorbar": {
              "outlinewidth": 0,
              "ticks": ""
             }
            },
            "type": "parcoords"
           }
          ],
          "pie": [
           {
            "automargin": true,
            "type": "pie"
           }
          ],
          "scatter": [
           {
            "marker": {
             "line": {
              "color": "#283442"
             }
            },
            "type": "scatter"
           }
          ],
          "scatter3d": [
           {
            "line": {
             "colorbar": {
              "outlinewidth": 0,
              "ticks": ""
             }
            },
            "marker": {
             "colorbar": {
              "outlinewidth": 0,
              "ticks": ""
             }
            },
            "type": "scatter3d"
           }
          ],
          "scattercarpet": [
           {
            "marker": {
             "colorbar": {
              "outlinewidth": 0,
              "ticks": ""
             }
            },
            "type": "scattercarpet"
           }
          ],
          "scattergeo": [
           {
            "marker": {
             "colorbar": {
              "outlinewidth": 0,
              "ticks": ""
             }
            },
            "type": "scattergeo"
           }
          ],
          "scattergl": [
           {
            "marker": {
             "line": {
              "color": "#283442"
             }
            },
            "type": "scattergl"
           }
          ],
          "scattermapbox": [
           {
            "marker": {
             "colorbar": {
              "outlinewidth": 0,
              "ticks": ""
             }
            },
            "type": "scattermapbox"
           }
          ],
          "scatterpolar": [
           {
            "marker": {
             "colorbar": {
              "outlinewidth": 0,
              "ticks": ""
             }
            },
            "type": "scatterpolar"
           }
          ],
          "scatterpolargl": [
           {
            "marker": {
             "colorbar": {
              "outlinewidth": 0,
              "ticks": ""
             }
            },
            "type": "scatterpolargl"
           }
          ],
          "scatterternary": [
           {
            "marker": {
             "colorbar": {
              "outlinewidth": 0,
              "ticks": ""
             }
            },
            "type": "scatterternary"
           }
          ],
          "surface": [
           {
            "colorbar": {
             "outlinewidth": 0,
             "ticks": ""
            },
            "colorscale": [
             [
              0,
              "#0d0887"
             ],
             [
              0.1111111111111111,
              "#46039f"
             ],
             [
              0.2222222222222222,
              "#7201a8"
             ],
             [
              0.3333333333333333,
              "#9c179e"
             ],
             [
              0.4444444444444444,
              "#bd3786"
             ],
             [
              0.5555555555555556,
              "#d8576b"
             ],
             [
              0.6666666666666666,
              "#ed7953"
             ],
             [
              0.7777777777777778,
              "#fb9f3a"
             ],
             [
              0.8888888888888888,
              "#fdca26"
             ],
             [
              1,
              "#f0f921"
             ]
            ],
            "type": "surface"
           }
          ],
          "table": [
           {
            "cells": {
             "fill": {
              "color": "#506784"
             },
             "line": {
              "color": "rgb(17,17,17)"
             }
            },
            "header": {
             "fill": {
              "color": "#2a3f5f"
             },
             "line": {
              "color": "rgb(17,17,17)"
             }
            },
            "type": "table"
           }
          ]
         },
         "layout": {
          "annotationdefaults": {
           "arrowcolor": "#f2f5fa",
           "arrowhead": 0,
           "arrowwidth": 1
          },
          "autotypenumbers": "strict",
          "coloraxis": {
           "colorbar": {
            "outlinewidth": 0,
            "ticks": ""
           }
          },
          "colorscale": {
           "diverging": [
            [
             0,
             "#8e0152"
            ],
            [
             0.1,
             "#c51b7d"
            ],
            [
             0.2,
             "#de77ae"
            ],
            [
             0.3,
             "#f1b6da"
            ],
            [
             0.4,
             "#fde0ef"
            ],
            [
             0.5,
             "#f7f7f7"
            ],
            [
             0.6,
             "#e6f5d0"
            ],
            [
             0.7,
             "#b8e186"
            ],
            [
             0.8,
             "#7fbc41"
            ],
            [
             0.9,
             "#4d9221"
            ],
            [
             1,
             "#276419"
            ]
           ],
           "sequential": [
            [
             0,
             "#0d0887"
            ],
            [
             0.1111111111111111,
             "#46039f"
            ],
            [
             0.2222222222222222,
             "#7201a8"
            ],
            [
             0.3333333333333333,
             "#9c179e"
            ],
            [
             0.4444444444444444,
             "#bd3786"
            ],
            [
             0.5555555555555556,
             "#d8576b"
            ],
            [
             0.6666666666666666,
             "#ed7953"
            ],
            [
             0.7777777777777778,
             "#fb9f3a"
            ],
            [
             0.8888888888888888,
             "#fdca26"
            ],
            [
             1,
             "#f0f921"
            ]
           ],
           "sequentialminus": [
            [
             0,
             "#0d0887"
            ],
            [
             0.1111111111111111,
             "#46039f"
            ],
            [
             0.2222222222222222,
             "#7201a8"
            ],
            [
             0.3333333333333333,
             "#9c179e"
            ],
            [
             0.4444444444444444,
             "#bd3786"
            ],
            [
             0.5555555555555556,
             "#d8576b"
            ],
            [
             0.6666666666666666,
             "#ed7953"
            ],
            [
             0.7777777777777778,
             "#fb9f3a"
            ],
            [
             0.8888888888888888,
             "#fdca26"
            ],
            [
             1,
             "#f0f921"
            ]
           ]
          },
          "colorway": [
           "#636efa",
           "#EF553B",
           "#00cc96",
           "#ab63fa",
           "#FFA15A",
           "#19d3f3",
           "#FF6692",
           "#B6E880",
           "#FF97FF",
           "#FECB52"
          ],
          "font": {
           "color": "#f2f5fa"
          },
          "geo": {
           "bgcolor": "rgb(17,17,17)",
           "lakecolor": "rgb(17,17,17)",
           "landcolor": "rgb(17,17,17)",
           "showlakes": true,
           "showland": true,
           "subunitcolor": "#506784"
          },
          "hoverlabel": {
           "align": "left"
          },
          "hovermode": "closest",
          "mapbox": {
           "style": "dark"
          },
          "paper_bgcolor": "rgb(17,17,17)",
          "plot_bgcolor": "rgb(17,17,17)",
          "polar": {
           "angularaxis": {
            "gridcolor": "#506784",
            "linecolor": "#506784",
            "ticks": ""
           },
           "bgcolor": "rgb(17,17,17)",
           "radialaxis": {
            "gridcolor": "#506784",
            "linecolor": "#506784",
            "ticks": ""
           }
          },
          "scene": {
           "xaxis": {
            "backgroundcolor": "rgb(17,17,17)",
            "gridcolor": "#506784",
            "gridwidth": 2,
            "linecolor": "#506784",
            "showbackground": true,
            "ticks": "",
            "zerolinecolor": "#C8D4E3"
           },
           "yaxis": {
            "backgroundcolor": "rgb(17,17,17)",
            "gridcolor": "#506784",
            "gridwidth": 2,
            "linecolor": "#506784",
            "showbackground": true,
            "ticks": "",
            "zerolinecolor": "#C8D4E3"
           },
           "zaxis": {
            "backgroundcolor": "rgb(17,17,17)",
            "gridcolor": "#506784",
            "gridwidth": 2,
            "linecolor": "#506784",
            "showbackground": true,
            "ticks": "",
            "zerolinecolor": "#C8D4E3"
           }
          },
          "shapedefaults": {
           "line": {
            "color": "#f2f5fa"
           }
          },
          "sliderdefaults": {
           "bgcolor": "#C8D4E3",
           "bordercolor": "rgb(17,17,17)",
           "borderwidth": 1,
           "tickwidth": 0
          },
          "ternary": {
           "aaxis": {
            "gridcolor": "#506784",
            "linecolor": "#506784",
            "ticks": ""
           },
           "baxis": {
            "gridcolor": "#506784",
            "linecolor": "#506784",
            "ticks": ""
           },
           "bgcolor": "rgb(17,17,17)",
           "caxis": {
            "gridcolor": "#506784",
            "linecolor": "#506784",
            "ticks": ""
           }
          },
          "title": {
           "x": 0.05
          },
          "updatemenudefaults": {
           "bgcolor": "#506784",
           "borderwidth": 0
          },
          "xaxis": {
           "automargin": true,
           "gridcolor": "#283442",
           "linecolor": "#506784",
           "ticks": "",
           "title": {
            "standoff": 15
           },
           "zerolinecolor": "#283442",
           "zerolinewidth": 2
          },
          "yaxis": {
           "automargin": true,
           "gridcolor": "#283442",
           "linecolor": "#506784",
           "ticks": "",
           "title": {
            "standoff": 15
           },
           "zerolinecolor": "#283442",
           "zerolinewidth": 2
          }
         }
        },
        "title": {
         "text": "Top 15 Videojuegos con Más Jugadores"
        },
        "xaxis": {
         "anchor": "y",
         "categoryorder": "total descending",
         "domain": [
          0,
          1
         ],
         "title": {
          "text": "Nombre del Videojuego"
         }
        },
        "yaxis": {
         "anchor": "x",
         "domain": [
          0,
          1
         ],
         "title": {
          "text": "Número Estimado de Jugadores"
         }
        }
       }
      }
     },
     "metadata": {},
     "output_type": "display_data"
    }
   ],
   "source": [
    "# Calculamos el top 15 de videojuegos con más jugadores\n",
    "top_15_games = videogames_data.nlargest(15, 'owners_max')\n",
    "\n",
    "# Creamos el gráfico con Plotly\n",
    "fig = px.bar(top_15_games, x='name', y='owners_max',\n",
    "             title=\"Top 15 Videojuegos con Más Jugadores\",\n",
    "             labels={'owners_max': 'Número Estimado de Jugadores', 'name': 'Nombre del Videojuego'},\n",
    "             color='owners_max',\n",
    "             color_continuous_scale=px.colors.sequential.Viridis)\n",
    "\n",
    "# Mejoramos el diseño del gráfico\n",
    "fig.update_layout(xaxis_title=\"Nombre del Videojuego\",\n",
    "                  yaxis_title=\"Número Estimado de Jugadores\",\n",
    "                  xaxis={'categoryorder':'total descending'},\n",
    "                  coloraxis_colorbar=dict(title=\"Jugadores\"),\n",
    "                  template=\"plotly_dark\")\n",
    "\n",
    "fig.show()\n",
    "\n",
    "# Exportar el gráfico como HTML\n",
    "# fig.write_html(\"graphs/11.html\")"
   ]
  },
  {
   "cell_type": "markdown",
   "metadata": {},
   "source": [
    "# Minería de texto con los desarrolladores de los videojuegos"
   ]
  },
  {
   "cell_type": "code",
   "execution_count": 242,
   "metadata": {},
   "outputs": [
    {
     "name": "stderr",
     "output_type": "stream",
     "text": [
      "[nltk_data] Downloading package stopwords to\n",
      "[nltk_data]     C:\\Users\\David\\AppData\\Roaming\\nltk_data...\n",
      "[nltk_data]   Package stopwords is already up-to-date!\n"
     ]
    },
    {
     "data": {
      "text/plain": [
       "True"
      ]
     },
     "execution_count": 242,
     "metadata": {},
     "output_type": "execute_result"
    }
   ],
   "source": [
    "import nltk\n",
    "nltk.download('stopwords')"
   ]
  },
  {
   "cell_type": "code",
   "execution_count": 243,
   "metadata": {},
   "outputs": [
    {
     "data": {
      "text/plain": [
       "0            Valve\n",
       "1            Valve\n",
       "2    KRAFTON, Inc.\n",
       "3     Amazon Games\n",
       "4            Valve\n",
       "Name: developer, dtype: object"
      ]
     },
     "execution_count": 243,
     "metadata": {},
     "output_type": "execute_result"
    }
   ],
   "source": [
    "videogames_data.developer.head()"
   ]
  },
  {
   "cell_type": "code",
   "execution_count": 244,
   "metadata": {},
   "outputs": [
    {
     "name": "stderr",
     "output_type": "stream",
     "text": [
      "C:\\Users\\David\\AppData\\Local\\Temp\\ipykernel_15892\\3874167451.py:4: FutureWarning:\n",
      "\n",
      "The default value of regex will change from True to False in a future version.\n",
      "\n",
      "C:\\Users\\David\\AppData\\Local\\Temp\\ipykernel_15892\\3874167451.py:14: FutureWarning:\n",
      "\n",
      "The default value of regex will change from True to False in a future version.\n",
      "\n",
      "C:\\Users\\David\\AppData\\Local\\Temp\\ipykernel_15892\\3874167451.py:16: FutureWarning:\n",
      "\n",
      "The default value of regex will change from True to False in a future version.\n",
      "\n"
     ]
    },
    {
     "data": {
      "text/plain": [
       "'krafton inc '"
      ]
     },
     "execution_count": 244,
     "metadata": {},
     "output_type": "execute_result"
    }
   ],
   "source": [
    "videogames_data = videogames_data[videogames_data['developer'].notnull()]\n",
    "\n",
    "#remove numbers\n",
    "videogames_data['developer'] = videogames_data['developer'].str.replace('\\d+', '') \n",
    "#all to lowercase\n",
    "videogames_data['developer'] = videogames_data['developer'].str.lower()\n",
    "#remove windows new line\n",
    "videogames_data['developer'] = videogames_data['developer'].str.replace('\\r\\n', \"\")\n",
    "#remove stopwords (from nltk library)\n",
    "stop_english = stopwords.words(\"english\")\n",
    "videogames_data['developer'] = videogames_data['developer'].apply(lambda x: \" \".join([i for i in x.split() \n",
    "                                                      if i not in (stop_english)]))\n",
    "# remove punctuation\n",
    "videogames_data['developer'] = videogames_data['developer'].str.replace('[^\\w\\s]',\" \")\n",
    "# replace x spaces by one space\n",
    "videogames_data['developer'] = videogames_data['developer'].str.replace('\\s+', ' ')\n",
    "\n",
    "videogames_data.developer.values[2] #print same comments again"
   ]
  },
  {
   "cell_type": "code",
   "execution_count": 245,
   "metadata": {},
   "outputs": [
    {
     "data": {
      "text/html": [
       "<div>\n",
       "<style scoped>\n",
       "    .dataframe tbody tr th:only-of-type {\n",
       "        vertical-align: middle;\n",
       "    }\n",
       "\n",
       "    .dataframe tbody tr th {\n",
       "        vertical-align: top;\n",
       "    }\n",
       "\n",
       "    .dataframe thead th {\n",
       "        text-align: right;\n",
       "    }\n",
       "</style>\n",
       "<table border=\"1\" class=\"dataframe\">\n",
       "  <thead>\n",
       "    <tr style=\"text-align: right;\">\n",
       "      <th></th>\n",
       "      <th>words</th>\n",
       "      <th>counts</th>\n",
       "    </tr>\n",
       "  </thead>\n",
       "  <tbody>\n",
       "    <tr>\n",
       "      <th>4</th>\n",
       "      <td>games</td>\n",
       "      <td>191</td>\n",
       "    </tr>\n",
       "    <tr>\n",
       "      <th>18</th>\n",
       "      <td>studios</td>\n",
       "      <td>124</td>\n",
       "    </tr>\n",
       "    <tr>\n",
       "      <th>65</th>\n",
       "      <td>interactive</td>\n",
       "      <td>84</td>\n",
       "    </tr>\n",
       "    <tr>\n",
       "      <th>6</th>\n",
       "      <td>entertainment</td>\n",
       "      <td>67</td>\n",
       "    </tr>\n",
       "    <tr>\n",
       "      <th>61</th>\n",
       "      <td>ltd</td>\n",
       "      <td>47</td>\n",
       "    </tr>\n",
       "    <tr>\n",
       "      <th>112</th>\n",
       "      <td>feral</td>\n",
       "      <td>46</td>\n",
       "    </tr>\n",
       "    <tr>\n",
       "      <th>2</th>\n",
       "      <td>inc</td>\n",
       "      <td>41</td>\n",
       "    </tr>\n",
       "    <tr>\n",
       "      <th>34</th>\n",
       "      <td>ubisoft</td>\n",
       "      <td>40</td>\n",
       "    </tr>\n",
       "    <tr>\n",
       "      <th>41</th>\n",
       "      <td>studio</td>\n",
       "      <td>39</td>\n",
       "    </tr>\n",
       "    <tr>\n",
       "      <th>15</th>\n",
       "      <td>software</td>\n",
       "      <td>36</td>\n",
       "    </tr>\n",
       "  </tbody>\n",
       "</table>\n",
       "</div>"
      ],
      "text/plain": [
       "             words  counts\n",
       "4            games     191\n",
       "18         studios     124\n",
       "65     interactive      84\n",
       "6    entertainment      67\n",
       "61             ltd      47\n",
       "112          feral      46\n",
       "2              inc      41\n",
       "34         ubisoft      40\n",
       "41          studio      39\n",
       "15        software      36"
      ]
     },
     "execution_count": 245,
     "metadata": {},
     "output_type": "execute_result"
    }
   ],
   "source": [
    "texts = videogames_data.developer.tolist()\n",
    "\n",
    "vec = CountVectorizer().fit(texts)\n",
    "bag_of_words = vec.transform(texts)\n",
    "sum_words = bag_of_words.sum(axis=0)\n",
    "words_freq = [(word, sum_words[0, idx]) for word, idx in vec.vocabulary_.items()]\n",
    "\n",
    "cvec_df = pd.DataFrame.from_records(words_freq, columns= ['words', 'counts']).sort_values(by=\"counts\", ascending=False)\n",
    "cvec_df.head(10)"
   ]
  },
  {
   "cell_type": "code",
   "execution_count": 246,
   "metadata": {},
   "outputs": [
    {
     "data": {
      "text/html": [
       "<div>\n",
       "<style scoped>\n",
       "    .dataframe tbody tr th:only-of-type {\n",
       "        vertical-align: middle;\n",
       "    }\n",
       "\n",
       "    .dataframe tbody tr th {\n",
       "        vertical-align: top;\n",
       "    }\n",
       "\n",
       "    .dataframe thead th {\n",
       "        text-align: right;\n",
       "    }\n",
       "</style>\n",
       "<table border=\"1\" class=\"dataframe\">\n",
       "  <thead>\n",
       "    <tr style=\"text-align: right;\">\n",
       "      <th></th>\n",
       "      <th>words</th>\n",
       "      <th>counts</th>\n",
       "    </tr>\n",
       "  </thead>\n",
       "  <tbody>\n",
       "    <tr>\n",
       "      <th>4</th>\n",
       "      <td>games</td>\n",
       "      <td>191</td>\n",
       "    </tr>\n",
       "    <tr>\n",
       "      <th>18</th>\n",
       "      <td>studios</td>\n",
       "      <td>124</td>\n",
       "    </tr>\n",
       "    <tr>\n",
       "      <th>64</th>\n",
       "      <td>interactive</td>\n",
       "      <td>84</td>\n",
       "    </tr>\n",
       "    <tr>\n",
       "      <th>6</th>\n",
       "      <td>entertainment</td>\n",
       "      <td>67</td>\n",
       "    </tr>\n",
       "    <tr>\n",
       "      <th>111</th>\n",
       "      <td>feral</td>\n",
       "      <td>46</td>\n",
       "    </tr>\n",
       "    <tr>\n",
       "      <th>2</th>\n",
       "      <td>inc</td>\n",
       "      <td>41</td>\n",
       "    </tr>\n",
       "    <tr>\n",
       "      <th>34</th>\n",
       "      <td>ubisoft</td>\n",
       "      <td>40</td>\n",
       "    </tr>\n",
       "    <tr>\n",
       "      <th>41</th>\n",
       "      <td>studio</td>\n",
       "      <td>39</td>\n",
       "    </tr>\n",
       "    <tr>\n",
       "      <th>108</th>\n",
       "      <td>mac</td>\n",
       "      <td>36</td>\n",
       "    </tr>\n",
       "    <tr>\n",
       "      <th>15</th>\n",
       "      <td>software</td>\n",
       "      <td>36</td>\n",
       "    </tr>\n",
       "  </tbody>\n",
       "</table>\n",
       "</div>"
      ],
      "text/plain": [
       "             words  counts\n",
       "4            games     191\n",
       "18         studios     124\n",
       "64     interactive      84\n",
       "6    entertainment      67\n",
       "111          feral      46\n",
       "2              inc      41\n",
       "34         ubisoft      40\n",
       "41          studio      39\n",
       "108            mac      36\n",
       "15        software      36"
      ]
     },
     "execution_count": 246,
     "metadata": {},
     "output_type": "execute_result"
    }
   ],
   "source": [
    "texts = videogames_data.developer.tolist()\n",
    "\n",
    "# Preprocesar los textos para eliminar la palabra 'ltd'\n",
    "texts = [re.sub(r'\\bltd\\b', '', text) for text in texts]\n",
    "\n",
    "vec = CountVectorizer().fit(texts)\n",
    "bag_of_words = vec.transform(texts)\n",
    "sum_words = bag_of_words.sum(axis=0)\n",
    "words_freq = [(word, sum_words[0, idx]) for word, idx in vec.vocabulary_.items()]\n",
    "\n",
    "cvec_df = pd.DataFrame.from_records(words_freq, columns=['words', 'counts']).sort_values(by=\"counts\", ascending=False)\n",
    "cvec_df.head(10)\n"
   ]
  },
  {
   "cell_type": "code",
   "execution_count": 247,
   "metadata": {},
   "outputs": [],
   "source": [
    "# import matplotlib.pyplot as plt\n",
    "# from wordcloud import WordCloud\n",
    "# import random\n",
    "\n",
    "# cvec_dict = dict(zip(cvec_df.words, cvec_df.counts))\n",
    "\n",
    "# # Define una función de color personalizada\n",
    "# def custom_color_func(word, font_size, position, orientation, random_state=None, **kwargs):\n",
    "#     # Reducir la saturación y luminosidad para colores menos intensos\n",
    "#     colors = [\n",
    "#         'hsl(0, 55%, 50%)',   # rojo\n",
    "#         'hsl(120, 55%, 50%)', # verde\n",
    "#         'hsl(240, 55%, 50%)', # azul\n",
    "#         'hsl(60, 55%, 50%)',  # amarillo\n",
    "#         'hsl(180, 55%, 50%)', # cian\n",
    "#         'hsl(300, 55%, 50%)', # magenta\n",
    "#         # ... puedes ajustar la saturación (segundo valor %) y luminosidad (tercer valor %) a tus preferencias\n",
    "#     ]\n",
    "#     return random.choice(colors)  # selecciona un color aleatorio de la lista\n",
    "\n",
    "# # Crear el WordCloud\n",
    "# wordcloud = WordCloud(\n",
    "#     width=800,\n",
    "#     height=400,\n",
    "#     font_path='C:/Windows/Fonts/AniMeMatrix-MB_EN.ttf',  # Especificar el nombre de la fuente\n",
    "#     color_func=custom_color_func,\n",
    "#     background_color='black',\n",
    "#     max_words=200\n",
    "# )\n",
    "\n",
    "# wordcloud.generate_from_frequencies(frequencies=cvec_dict)\n",
    "\n",
    "# # Visualización\n",
    "# plt.figure(figsize=(20, 10))\n",
    "# plt.imshow(wordcloud, interpolation=\"bilinear\")\n",
    "# plt.axis(\"off\")\n",
    "# plt.show()\n"
   ]
  },
  {
   "cell_type": "code",
   "execution_count": 248,
   "metadata": {},
   "outputs": [
    {
     "data": {
      "image/png": "[encoded data removed]",
      "text/plain": [
       "<Figure size 1600x800 with 1 Axes>"
      ]
     },
     "metadata": {},
     "output_type": "display_data"
    },
    {
     "name": "stdout",
     "output_type": "stream",
     "text": [
      "Wordcloud saved to: imgs/your_wordcloud2.png\n"
     ]
    }
   ],
   "source": [
    "import numpy as np\n",
    "import matplotlib.pyplot as plt\n",
    "from wordcloud import WordCloud\n",
    "from PIL import Image\n",
    "from sklearn.feature_extraction.text import CountVectorizer\n",
    "import pandas as pd\n",
    "import random\n",
    "\n",
    "def custom_color_func(word, font_size, position, orientation, random_state=None, **kwargs):\n",
    "    \n",
    "    colors = [\n",
    "        'hsl(0, 55%, 50%)',   \n",
    "        'hsl(120, 55%, 50%)', \n",
    "        'hsl(240, 55%, 50%)', \n",
    "        'hsl(60, 55%, 50%)',  \n",
    "        'hsl(180, 55%, 50%)', \n",
    "        'hsl(300, 55%, 50%)', \n",
    "    ]\n",
    "    return random.choice(colors)  \n",
    "\n",
    "# Calculamos la frecuencia de las palabras\n",
    "vec = CountVectorizer().fit(texts)\n",
    "bag_of_words = vec.transform(texts)\n",
    "sum_words = bag_of_words.sum(axis=0)\n",
    "words_freq = [(word, sum_words[0, idx]) for word, idx in vec.vocabulary_.items()]\n",
    "\n",
    "# Convertimos las frecuencias en un diccionario para WordCloud\n",
    "cvec_dict = dict(words_freq)\n",
    "\n",
    "# Cargamos la imagen del logo de Steam  y la convertimos a una máscara adecuada\n",
    "image_path = 'imgs/steamlogoword.png'  # Cambia esta ruta\n",
    "steam_mask_image = Image.open(image_path).convert('RGBA')\n",
    "steam_mask = np.array(steam_mask_image)\n",
    "\n",
    "# Convertimos los valores transparentes a blanco (255) y los no transparentes a negro (0)\n",
    "# Esto es para la máscara en el formato que WordCloud espera\n",
    "steam_mask = np.where(steam_mask[:, :, 3] == 0, 255, 0).astype(np.uint8)\n",
    "\n",
    "# Creamos el WordCloud con la máscara\n",
    "wordcloud = WordCloud(\n",
    "    width=800,\n",
    "    height=800,\n",
    "    font_path='C:/Windows/Fonts/AniMeMatrix-MB_EN.ttf',\n",
    "    color_func=custom_color_func,\n",
    "    max_words=200,\n",
    "    background_color='#131720',  # Fondo transparente\n",
    "    mode='RGBA',  # Modo RGBA para transparencia\n",
    "    mask=steam_mask,  # Usamos la máscara del logo de Steam\n",
    "    max_font_size=300,  # Tamaño máximo de la fuente\n",
    "    scale=2  # Escala para mayor resolución\n",
    ").generate_from_frequencies(cvec_dict)\n",
    "\n",
    "plt.figure(figsize=(16, 8))\n",
    "\n",
    "plt.subplot(1, 2, 2)\n",
    "plt.title('WordCloud')\n",
    "plt.imshow(wordcloud, interpolation='bilinear')\n",
    "plt.axis('off')\n",
    "\n",
    "plt.show()\n",
    "\n",
    "# Guardamos el WordCloud en un archivo PNG \n",
    "output_path = 'imgs/your_wordcloud2.png'\n",
    "wordcloud.to_file(output_path)\n",
    "print(\"Wordcloud saved to:\", output_path)\n"
   ]
  },
  {
   "cell_type": "code",
   "execution_count": 249,
   "metadata": {},
   "outputs": [],
   "source": [
    "videogames_data.to_csv('data/videogames_eda.csv', index=False)"
   ]
  }
 ],
 "metadata": {
  "kernelspec": {
   "display_name": "mi_entorno",
   "language": "python",
   "name": "python3"
  },
  "language_info": {
   "codemirror_mode": {
    "name": "ipython",
    "version": 3
   },
   "file_extension": ".py",
   "mimetype": "text/x-python",
   "name": "python",
   "nbconvert_exporter": "python",
   "pygments_lexer": "ipython3",
   "version": "3.10.11"
  }
 },
 "nbformat": 4,
 "nbformat_minor": 2
}
