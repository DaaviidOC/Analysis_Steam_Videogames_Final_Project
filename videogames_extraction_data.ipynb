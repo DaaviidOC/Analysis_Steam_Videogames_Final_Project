{
 "cells": [
  {
   "cell_type": "markdown",
   "metadata": {},
   "source": [
    "Utilizamos este script para extraer datos de 10.000 juegos de Steam."
   ]
  },
  {
   "cell_type": "code",
   "execution_count": 1,
   "metadata": {},
   "outputs": [
    {
     "name": "stdout",
     "output_type": "stream",
     "text": [
      "Terminado\n"
     ]
    }
   ],
   "source": [
    "import requests\n",
    "import csv\n",
    "\n",
    "def obtener_juegos(offset):\n",
    "    url = f'https://steamspy.com/api.php?request=all&start={offset}'\n",
    "    respuesta = requests.get(url)\n",
    "    juegos = []\n",
    "\n",
    "    if respuesta.status_code == 200:\n",
    "        json_respuesta = respuesta.json()\n",
    "        juegos = [json_respuesta[key] for key in json_respuesta]\n",
    "\n",
    "    return juegos\n",
    "\n",
    "def guardar_en_csv(lista_juegos, archivo_csv):\n",
    "    with open(archivo_csv, 'a', newline='', encoding='utf-8') as csvfile:\n",
    "        fieldnames = lista_juegos[0].keys()\n",
    "        writer = csv.DictWriter(csvfile, fieldnames=fieldnames)\n",
    "\n",
    "        for juego in lista_juegos:\n",
    "            writer.writerow(juego)\n",
    "\n",
    "if __name__ == '__main__':\n",
    "    with open('top_juegos.csv', 'w', newline='', encoding='utf-8') as csvfile:\n",
    "        fieldnames = ['appid', 'name', 'developer', 'publisher', 'score_rank', 'positive', 'negative', 'userscore', 'owners', 'average_forever', 'average_2weeks', 'median_forever', 'median_2weeks', 'price', 'initialprice', 'discount', 'languages', 'genre', 'ccu', 'tags']\n",
    "        writer = csv.DictWriter(csvfile, fieldnames=fieldnames)\n",
    "        writer.writeheader()\n",
    "\n",
    "    offset = 0\n",
    "    while offset < 10000:\n",
    "        juegos = obtener_juegos(offset)\n",
    "        guardar_en_csv(juegos, 'top_juegos.csv')\n",
    "        offset += 1000\n",
    "\n",
    "    print('Terminado')"
   ]
  }
 ],
 "metadata": {
  "kernelspec": {
   "display_name": "mi_entorno",
   "language": "python",
   "name": "python3"
  },
  "language_info": {
   "codemirror_mode": {
    "name": "ipython",
    "version": 3
   },
   "file_extension": ".py",
   "mimetype": "text/x-python",
   "name": "python",
   "nbconvert_exporter": "python",
   "pygments_lexer": "ipython3",
   "version": "3.10.11"
  }
 },
 "nbformat": 4,
 "nbformat_minor": 2
}
